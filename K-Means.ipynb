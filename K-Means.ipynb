{
 "cells": [
  {
   "cell_type": "code",
   "execution_count": 5,
   "metadata": {},
   "outputs": [],
   "source": [
    "import matplotlib.pyplot as plt\n",
    "from sklearn.feature_extraction import text\n",
    "from sklearn.feature_extraction.text import TfidfVectorizer\n",
    "from sklearn.cluster import KMeans\n",
    "from nltk.tokenize import RegexpTokenizer\n",
    "from nltk.stem.snowball import SnowballStemmer\n",
    "import numpy as np\n",
    "import pandas as pd\n",
    "%matplotlib inline"
   ]
  },
  {
   "cell_type": "code",
   "execution_count": 6,
   "metadata": {},
   "outputs": [],
   "source": [
    "import configparser\n",
    "import warnings\n",
    "from pymongo import MongoClient\n",
    "\n",
    "warnings.filterwarnings(\"ignore\", category=DeprecationWarning)\n",
    "\n",
    "config = configparser.ConfigParser()\n",
    "config.read('config.ini')\n",
    "host = config['DEFAULT']['IP']\n",
    "port = config['DEFAULT']['MongoDB-Port']\n",
    "\n",
    "client = MongoClient(host, int(port))\n",
    "db = client['mediacloud']"
   ]
  },
  {
   "cell_type": "code",
   "execution_count": 7,
   "metadata": {},
   "outputs": [],
   "source": [
    "col_names = [\n",
    "    'dv', \n",
    "    'fv',\n",
    "    'dv-fv'\n",
    "]"
   ]
  },
  {
   "cell_type": "code",
   "execution_count": 9,
   "metadata": {},
   "outputs": [
    {
     "data": {
      "text/plain": [
       "5699"
      ]
     },
     "execution_count": 9,
     "metadata": {},
     "output_type": "execute_result"
    }
   ],
   "source": [
    "df = pd.DataFrame()\n",
    "for col_name in col_names:\n",
    "    df_col = pd.DataFrame(list(db[col_name].find()))\n",
    "    df = pd.concat([df, df_col], axis=0)\n",
    "    \n",
    "# 2018\n",
    "df = df[df['publish_date'].str.contains('2018') & (df['text'].str.strip() != '')]\n",
    "\n",
    "len(df)"
   ]
  },
  {
   "cell_type": "code",
   "execution_count": 10,
   "metadata": {},
   "outputs": [
    {
     "data": {
      "text/plain": [
       "3857    WHEN it comes to New Year’s resolutions in Bat...\n",
       "3858    A STRING of men has faced Townsville Magistrat...\n",
       "3859    This week, the Argus is looking back at some o...\n",
       "3860    A man charged with the murder of a woman in ce...\n",
       "3861    A man accused of killing a woman who made a de...\n",
       "3862    A service, which gives vital support to women ...\n",
       "3863    Charles McKenzie Ross Evans exists Bendigo Mag...\n",
       "3864    Bryan Llenas of Fox News reports on the traged...\n",
       "3866    Bendigo residents on low incomes will be able ...\n",
       "3867    Hundreds of women who have experienced violenc...\n",
       "3868    Liverpool defender Jon Flanagan kicked his gir...\n",
       "3870    STRAIGHT OUTTA YOUTHLINKS: Deb Longhurst is co...\n",
       "3872    An Illawarra man who dodged domestic violence ...\n",
       "3873    A Ravenswood man who pleaded guilty to assault...\n",
       "3874    Yvonne Wilson is hoping to turn a little idea ...\n",
       "3876    Nelly Yoa's heartfelt and thoughtful article (...\n",
       "3877    A 39-year-old woman has been charged with the ...\n",
       "3879    Yvonne Wilson is hoping to turn a little idea ...\n",
       "3880    A Perth woman has died after sustaining seriou...\n",
       "3881    A woman has faced court on the Gold Coast over...\n",
       "3882    A woman has faced court on the Gold Coast over...\n",
       "3883    A Sydney couple have been arrested in Griffith...\n",
       "3884    A radical proposal to increase tax on draught ...\n",
       "3885    WA's Minister for Women's Interests says the s...\n",
       "3886    A Windang man accused of punching his estrange...\n",
       "3887    In the second part of a series on the people w...\n",
       "3888    Fatima Sidiqi is scared she'll be homeless. Sh...\n",
       "3890    Indigenous artist, educator and curator Paola ...\n",
       "3891    Police have arrested and charged a man and wom...\n",
       "3892    Enter your postcode and let us help: A LANDSDA...\n",
       "                              ...                        \n",
       "1960    It was in August that The Age made the decisio...\n",
       "1961    The number of women in prison is continuing to...\n",
       "1962    A man who bashed a woman while an order was in...\n",
       "1963    These Victorian women were killed in 2018, all...\n",
       "1964    NSW Police Shoalhaven crime prevention officer...\n",
       "1965    Perth’s crime evolution over the past decade h...\n",
       "1966    YEAR 10 students have put pen to paper to rais...\n",
       "1967    This is an image 14-year-old Agenilda* cannot ...\n",
       "1968    A man has been charged with attempted murder a...\n",
       "1969    While Queenslanders exchange presents with fam...\n",
       "1970    The Tara Costigan Foundation will close down o...\n",
       "1972    Two Gold Coast charities have recieved $15,000...\n",
       "1973    It's a sad irony that reported incidents of do...\n",
       "1974    The number of domestic violence related calls ...\n",
       "1975    Women’s Council for Domestic and Family Violen...\n",
       "1976    All ACT public servants — including shop worke...\n",
       "1977    Still need an urgent, last minute gift? Forgot...\n",
       "1978    Half of the men who are taking part in a progr...\n",
       "1979    A surge of family violence cases could see the...\n",
       "1980    As Australians prepare to welcome the new year...\n",
       "1981    SAVINGS: New state government initiatives to e...\n",
       "1982    IT is no longer a secret that the number of do...\n",
       "1983    It's the start of a new year, so you'll probab...\n",
       "1984    Extended preschool subsidies, a rebate for cre...\n",
       "1993    The number of domestic-violence related deaths...\n",
       "1994    March 17, 2018. Liberal leader Steven Marshall...\n",
       "1995    If Western Australia's remote Kimberley region...\n",
       "2097    Mount Isa has some of the worst domestic viole...\n",
       "2104    Labor says it will build 1000 new public housi...\n",
       "2144    The Family Violence Awareness Group is gearing...\n",
       "Name: text, Length: 5699, dtype: object"
      ]
     },
     "execution_count": 10,
     "metadata": {},
     "output_type": "execute_result"
    }
   ],
   "source": [
    "df['text']"
   ]
  },
  {
   "cell_type": "code",
   "execution_count": 11,
   "metadata": {},
   "outputs": [
    {
     "data": {
      "text/plain": [
       "'WHEN it comes to New Year’s resolutions in Bathurst, improving health is at the top of the list for most people. It comes as no surprise that this was a popular answer to the question of ‘What’s your New Year’s resolution?’, as statistics from around the world often favour this resolution. Mayor Graeme Hanger was one of those in Bathurst who wanted to focus on his health in 2018. “[My resolutions are] the old traditional ones: lose a bit of weight, get fit and an apple a day keeps the doctor away,” he said. He also hoped to spend more time with his family this year. “With 24 grandchildren, we’ve got to try to catch up with them all,” he said. Member for Bathurst Paul Toole also jumped on board the health and fitness bandwagon. “For 2018, my New Year’s resolution is to get fitter,” he said. Mr Toole also wants to make a difference in his community in the new year, setting himself a very ambitious career-related goal. “I’ve set a goal to make a minimum of one funding announcement a month for the Bathurst electorate,” he said. Lifeline Central West executive director Alex Ferguson said he and Lifeline had “a very good year across the board” in 2017. His resolution for 2018 is to keep up the momentum and have another successful year. “We saw more people through our counselling, we answered more calls from Lifeline’s 13 14 11 number, and we trained more people in mental health and domestic violence,” he said. “So by any of the barometers we would use, it was a very good year, and we capped it off by purchasing a new building. “For 2018, I hope I stay well and keep busy and, for Lifeline, I just hope we can maintain the momentum we achieved in 2017 and I hope that we can continue to reach out to people and encourage them to put up their hand for help. Not everyone has a traditional New Year’s resolution, however. Panorama Road Safety’s Matthew Irvine has a goal in mind for 2018 that will rely heavily on Mother Nature. “I’ve just become a licensed snake breeder and I want to successfully breed from two spotted pythons,” he said. Mr Irvine will need to wait until mid to late winter to get to work on his resolution and won’t have a result until at least late October. Some people choose not to make resolutions. Former Bathurst Business Chamber president Stacey Whittaker said she isn’t one for making resolutions when a new year rolls around and her husband, Mick, is the same. “If there is something I’m wanting to do, then I just do it then and there,” she said. While the couple doesn’t\\xa0make resolutions, their\\xa013-year-old daughter does, telling her parents she wants to get fitter this year. “So, they’re not completely dead in the Whittaker household,” Ms Whittaker said.'"
      ]
     },
     "execution_count": 11,
     "metadata": {},
     "output_type": "execute_result"
    }
   ],
   "source": [
    "df.iloc[0]['text']"
   ]
  },
  {
   "cell_type": "code",
   "execution_count": 12,
   "metadata": {},
   "outputs": [],
   "source": [
    "df['text'] = df['text'].str.replace('\\n \\r', '')\n",
    "#df['text'].str\n",
    "#df['text'].str.rsplit()\n"
   ]
  },
  {
   "cell_type": "code",
   "execution_count": 13,
   "metadata": {},
   "outputs": [],
   "source": [
    "df.to_csv('output/csv/stories.csv', mode='w', columns=['publish_date','title','text'], index=False)"
   ]
  },
  {
   "cell_type": "code",
   "execution_count": 14,
   "metadata": {},
   "outputs": [
    {
     "data": {
      "text/html": [
       "<div>\n",
       "<style scoped>\n",
       "    .dataframe tbody tr th:only-of-type {\n",
       "        vertical-align: middle;\n",
       "    }\n",
       "\n",
       "    .dataframe tbody tr th {\n",
       "        vertical-align: top;\n",
       "    }\n",
       "\n",
       "    .dataframe thead th {\n",
       "        text-align: right;\n",
       "    }\n",
       "</style>\n",
       "<table border=\"1\" class=\"dataframe\">\n",
       "  <thead>\n",
       "    <tr style=\"text-align: right;\">\n",
       "      <th></th>\n",
       "      <th>text</th>\n",
       "    </tr>\n",
       "  </thead>\n",
       "  <tbody>\n",
       "    <tr>\n",
       "      <th>0</th>\n",
       "      <td>WHEN it comes to New Year’s resolutions in Bat...</td>\n",
       "    </tr>\n",
       "    <tr>\n",
       "      <th>1</th>\n",
       "      <td>A STRING of men has faced Townsville Magistrat...</td>\n",
       "    </tr>\n",
       "    <tr>\n",
       "      <th>2</th>\n",
       "      <td>This week, the Argus is looking back at some o...</td>\n",
       "    </tr>\n",
       "    <tr>\n",
       "      <th>3</th>\n",
       "      <td>A man charged with the murder of a woman in ce...</td>\n",
       "    </tr>\n",
       "    <tr>\n",
       "      <th>4</th>\n",
       "      <td>A man accused of killing a woman who made a de...</td>\n",
       "    </tr>\n",
       "  </tbody>\n",
       "</table>\n",
       "</div>"
      ],
      "text/plain": [
       "                                                text\n",
       "0  WHEN it comes to New Year’s resolutions in Bat...\n",
       "1  A STRING of men has faced Townsville Magistrat...\n",
       "2  This week, the Argus is looking back at some o...\n",
       "3  A man charged with the murder of a woman in ce...\n",
       "4  A man accused of killing a woman who made a de..."
      ]
     },
     "execution_count": 14,
     "metadata": {},
     "output_type": "execute_result"
    }
   ],
   "source": [
    "stories = pd.read_csv(\"output/csv/stories.csv\",error_bad_lines=False,usecols =[\"text\"])\n",
    "stories.head()"
   ]
  },
  {
   "cell_type": "code",
   "execution_count": 15,
   "metadata": {},
   "outputs": [
    {
     "name": "stdout",
     "output_type": "stream",
     "text": [
      "<class 'pandas.core.frame.DataFrame'>\n",
      "RangeIndex: 5699 entries, 0 to 5698\n",
      "Data columns (total 1 columns):\n",
      "text    5699 non-null object\n",
      "dtypes: object(1)\n",
      "memory usage: 44.6+ KB\n"
     ]
    }
   ],
   "source": [
    "stories.info()"
   ]
  },
  {
   "cell_type": "code",
   "execution_count": 16,
   "metadata": {},
   "outputs": [
    {
     "data": {
      "text/html": [
       "<div>\n",
       "<style scoped>\n",
       "    .dataframe tbody tr th:only-of-type {\n",
       "        vertical-align: middle;\n",
       "    }\n",
       "\n",
       "    .dataframe tbody tr th {\n",
       "        vertical-align: top;\n",
       "    }\n",
       "\n",
       "    .dataframe thead th {\n",
       "        text-align: right;\n",
       "    }\n",
       "</style>\n",
       "<table border=\"1\" class=\"dataframe\">\n",
       "  <thead>\n",
       "    <tr style=\"text-align: right;\">\n",
       "      <th></th>\n",
       "      <th>text</th>\n",
       "    </tr>\n",
       "  </thead>\n",
       "  <tbody>\n",
       "    <tr>\n",
       "      <th>5244</th>\n",
       "      <td>1 in 6 women experience physical and/or sexual...</td>\n",
       "    </tr>\n",
       "    <tr>\n",
       "      <th>5246</th>\n",
       "      <td>1 in 6 women experience physical and/or sexual...</td>\n",
       "    </tr>\n",
       "    <tr>\n",
       "      <th>739</th>\n",
       "      <td>A 20-YEAR-OLD Brisbane man has been charged wi...</td>\n",
       "    </tr>\n",
       "    <tr>\n",
       "      <th>740</th>\n",
       "      <td>A 20-YEAR-OLD Brisbane man has been charged wi...</td>\n",
       "    </tr>\n",
       "    <tr>\n",
       "      <th>5581</th>\n",
       "      <td>A 23-year-old St Arnaud man has been arrested ...</td>\n",
       "    </tr>\n",
       "    <tr>\n",
       "      <th>4708</th>\n",
       "      <td>A 23-year-old St Arnaud man has been arrested ...</td>\n",
       "    </tr>\n",
       "    <tr>\n",
       "      <th>3994</th>\n",
       "      <td>A 72-year-old man has been killed and his elde...</td>\n",
       "    </tr>\n",
       "    <tr>\n",
       "      <th>3992</th>\n",
       "      <td>A 72-year-old man has been killed and his elde...</td>\n",
       "    </tr>\n",
       "  </tbody>\n",
       "</table>\n",
       "</div>"
      ],
      "text/plain": [
       "                                                   text\n",
       "5244  1 in 6 women experience physical and/or sexual...\n",
       "5246  1 in 6 women experience physical and/or sexual...\n",
       "739   A 20-YEAR-OLD Brisbane man has been charged wi...\n",
       "740   A 20-YEAR-OLD Brisbane man has been charged wi...\n",
       "5581  A 23-year-old St Arnaud man has been arrested ...\n",
       "4708  A 23-year-old St Arnaud man has been arrested ...\n",
       "3994  A 72-year-old man has been killed and his elde...\n",
       "3992  A 72-year-old man has been killed and his elde..."
      ]
     },
     "execution_count": 16,
     "metadata": {},
     "output_type": "execute_result"
    }
   ],
   "source": [
    "#Deleting dupliate headlines(if any)\n",
    "stories[stories['text'].duplicated(keep=False)].sort_values('text').head(8)"
   ]
  },
  {
   "cell_type": "code",
   "execution_count": 17,
   "metadata": {},
   "outputs": [],
   "source": [
    "stories = stories.drop_duplicates('text')"
   ]
  },
  {
   "cell_type": "code",
   "execution_count": 18,
   "metadata": {},
   "outputs": [],
   "source": [
    "#remove null values\n",
    "stories['text'].isnull().sum()\n",
    "stories.dropna(inplace=True)"
   ]
  },
  {
   "cell_type": "markdown",
   "metadata": {},
   "source": [
    "# NLP\n",
    "Preparing data for vectorizaion\n",
    "However, when doing natural language processing, words must be converted into vectors that machine learning algorithms can make use of. If your goal is to do machine learning on text data, like tweets or anything else, you need to convert the text data into numbers. This process is sometimes referred to as “embedding” or “vectorization”.\n",
    "\n",
    "In terms of vectorization, it is important to remember that it isn’t merely turning a single word into a single number. While words can be transformed into numbers, an entire document can be translated into a vector. Not only can a vector have more than one dimension, but with text data vectors are usually high-dimensional. This is because each dimension of your feature data will correspond to a word, and the language in the documents you are examining will have thousands of words."
   ]
  },
  {
   "cell_type": "markdown",
   "metadata": {},
   "source": [
    "# TF-IDF\n",
    "In information retrieval, tf–idf or TFIDF, short for term frequency–inverse document frequency, is a numerical statistic that is intended to reflect how important a word is to a document in a collection or corpus. It is often used as a weighting factor in searches of information retrieval, text mining, and user modeling. The tf-idf value increases proportionally to the number of times a word appears in the document and is offset by the frequency of the word in the corpus, which helps to adjust for the fact that some words appear more frequently in general. Nowadays, tf-idf is one of the most popular term-weighting schemes; 83% of text-based recommender systems in the domain of digital libraries use tf-idf.\n",
    "\n",
    "Variations of the tf–idf weighting scheme are often used by search engines as a central tool in scoring and ranking a document's relevance given a user query. tf–idf can be successfully used for stop-words filtering in various subject fields, including text summarization and classification.\n",
    "\n",
    "One of the simplest ranking functions is computed by summing the tf–idf for each query term; many more sophisticated ranking functions are variants of this simple model."
   ]
  },
  {
   "cell_type": "code",
   "execution_count": 19,
   "metadata": {},
   "outputs": [],
   "source": [
    "punc = ['.', ',', '\"', \"'\", '?', '!', ':', ';', '(', ')', '[', ']', '{', '}',\"%\"]\n",
    "stop_words = text.ENGLISH_STOP_WORDS.union(punc)\n",
    "desc = stories['text'].values\n",
    "vectorizer = TfidfVectorizer(stop_words = stop_words)\n",
    "X = vectorizer.fit_transform(desc)"
   ]
  },
  {
   "cell_type": "code",
   "execution_count": 20,
   "metadata": {},
   "outputs": [
    {
     "name": "stdout",
     "output_type": "stream",
     "text": [
      "49910\n",
      "['00', '000', '0001', '000km', '000sq', '000th', '002', '003', '004', '007', '009', '00am', '00pm', '01', '010', '011', '015', '017', '017mg', '018', '01g', '02', '020', '0200', '024', '025', '0274', '02am', '02pm', '03', '030', '031', '0311', '033', '035', '0377', '038', '039', '04', '0400', '0403', '0405', '0407', '0408', '0410191772', '0413', '0417', '0418', '0418911728', '0419', '0419672697', '0420', '0421', '0427', '0428', '0429', '0430', '0431', '0432', '0435', '0437', '0438', '0439', '0447', '0448', '0448396244', '045', '0451', '0455', '0456', '0458', '0466', '047', '0475', '048', '0487', '0488', '0497172808', '04pm', '05', '0500', '052', '053', '054', '0540', '0542', '055', '0555', '0562', '058', '059', '05pm', '06', '060', '061', '062', '063', '065', '066', '0671', '068', '06am', '07', '070', '0700', '071', '072', '074', '0746421354', '075', '077', '078', '08', '080', '0800', '083', '085', '087', '088', '0899', '08am', '09', '090', '0900', '091', '092', '093', '094', '0946', '095', '0955', '098', '099', '10', '100', '1000', '1000km', '1000sq', '1001', '1002', '1004', '1006', '100billion', '100cm', '100k', '100kg', '100kilometres', '100km', '100kph', '100m', '100million', '100ml', '100per', '100th', '101', '1010', '102', '1020', '1024', '103', '1030', '1034', '1037', '104', '1041', '104kg', '104offences', '105', '1050', '1053', '1059', '106', '1062', '1065', '107', '1070', '1072', '1078', '107kg', '108', '1083', '1086', '1088', '109', '10a', '10am', '10c', '10g', '10km', '10million', '10per', '10pm', '10s', '10th', '11', '110', '1100', '11000', '111', '1116', '1118', '112', '1120', '1124', '1125', '113', '114', '1145', '115', '1150', '1154', '1159', '116', '1161', '1163', '1164', '1165', '117', '1170', '1171', '118', '1185', '119', '11a', '11am', '11c', '11million', '11pm', '11s', '11th', '12', '120', '1200', '1200km', '1204', '1206', '1207', '120kg', '120km', '121', '1210', '122', '1220', '1223', '1225', '1227', '1228', '123', '1234', '1237', '1239', '123tix', '124', '1245', '12469', '125', '1250', '1253', '1256', '1258', '125th', '126', '1265', '1267', '127', '1270', '1273', '1277', '128', '1280', '1287', '1289', '129', '1290', '1292', '1294', '1298', '12am', '12km', '12m', '12month', '12noon', '12pm', '12s', '12th', '13', '130', '1300', '1300224436', '1300333000', '1300659467', '1306', '1309', '130km', '130m', '131', '1310', '131114', '131444', '1317']\n"
     ]
    }
   ],
   "source": [
    "word_features = vectorizer.get_feature_names()\n",
    "print(len(word_features))\n",
    "print(word_features[0:300])\n",
    "#remove numbers features except '1800respect'\n",
    "#del(word_features[0:201])\n",
    "#word_features[0:201]\n",
    "#word_features.insert(0,'1800respect')\n",
    "#print(word_features[0:300])"
   ]
  },
  {
   "cell_type": "markdown",
   "metadata": {},
   "source": [
    "# Stemming\n",
    "\n",
    "Stemming is the process of reducing a word into its stem, i.e. its root form. The root form is not necessarily a word by itself, but it can be used to generate words by concatenating the right suffix. For example, the words fish, fishes and fishing all stem into fish, which is a correct word. On the other side, the words study, studies and studying stems into studi, which is not an English word."
   ]
  },
  {
   "cell_type": "markdown",
   "metadata": {},
   "source": [
    "# Tokenizing\n",
    "Tokenization is breaking the sentence into words and punctuation\n"
   ]
  },
  {
   "cell_type": "code",
   "execution_count": 21,
   "metadata": {},
   "outputs": [],
   "source": [
    "stemmer = SnowballStemmer('english')\n",
    "tokenizer = RegexpTokenizer(r'[a-zA-Z\\']+')\n",
    "\n",
    "def tokenize(text):\n",
    "    return [stemmer.stem(word) for word in tokenizer.tokenize(text.lower())]"
   ]
  },
  {
   "cell_type": "markdown",
   "metadata": {},
   "source": [
    "# Vectorization with stop words(words irrelevant to the model), stemming and tokenizing"
   ]
  },
  {
   "cell_type": "code",
   "execution_count": 22,
   "metadata": {},
   "outputs": [
    {
     "name": "stderr",
     "output_type": "stream",
     "text": [
      "/anaconda3/lib/python3.7/site-packages/sklearn/feature_extraction/text.py:300: UserWarning: Your stop_words may be inconsistent with your preprocessing. Tokenizing the stop words generated tokens ['abov', 'afterward', 'alon', 'alreadi', 'alway', 'ani', 'anoth', 'anyon', 'anyth', 'anywher', 'becam', 'becaus', 'becom', 'befor', 'besid', 'cri', 'describ', 'dure', 'els', 'elsewher', 'empti', 'everi', 'everyon', 'everyth', 'everywher', 'fifti', 'forti', 'henc', 'hereaft', 'herebi', 'howev', 'hundr', 'inde', 'mani', 'meanwhil', 'moreov', 'nobodi', 'noon', 'noth', 'nowher', 'onc', 'onli', 'otherwis', 'ourselv', 'perhap', 'pleas', 'sever', 'sinc', 'sincer', 'sixti', 'someon', 'someth', 'sometim', 'somewher', 'themselv', 'thenc', 'thereaft', 'therebi', 'therefor', 'togeth', 'twelv', 'twenti', 'veri', 'whatev', 'whenc', 'whenev', 'wherea', 'whereaft', 'wherebi', 'wherev', 'whi', 'yourselv'] not in stop_words.\n",
      "  'stop_words.' % sorted(inconsistent))\n"
     ]
    },
    {
     "name": "stdout",
     "output_type": "stream",
     "text": [
      "32383\n",
      "[\"''\", \"'a\", \"'alcohol\", \"'anecdote'\", \"'ani\", \"'bi\", \"'custodian\", \"'d\", \"'data'\", \"'do\", \"'everi\", \"'evid\", \"'f\", \"'g\", \"'get\", \"'great\", \"'hates'\", \"'he\", \"'i\", \"'i'v\", \"'it\", \"'mi\", \"'more\", \"'natural'\", \"'o\", \"'peopl\", \"'pleas\", \"'restor\", \"'s\", \"'selfies'\", \"'sometim\", \"'somewher\", \"'take\", \"'that\", \"'the\", \"'there\", \"'these\", \"'this\", \"'tri\", \"'we\", \"'when\", \"'women\", \"'x\", \"'you\", 'aa', 'aaa', 'aaah', 'aacta', 'aad', 'aaf', 'aah', 'aami', 'aandrea', 'aap', 'aarn', 'aaron', 'aarong', 'aarti', 'aashi', 'aasw', 'aat', 'aaypic', 'ab', 'aba', 'abac', 'aback', 'abacus', 'abalon', 'abandon', 'abassador', 'abat', 'abattoir', 'abaya', 'abb', 'abba', 'abbey', 'abbeyfield', 'abbi', 'abbington', 'abbotsburi', 'abbotsford', 'abbott', 'abbrevi', 'abc', 'abcc', 'abctv', 'abdel', 'abdeslam', 'abdic', 'abdo', 'abdollahian', 'abdomen', 'abdomin', 'abduct', 'abdul', 'abdulali', 'abdullah', 'abe', 'abel', 'abela', 'abercrombi', 'aberdeen', 'aberglasslyn', 'abermain', 'aberr', 'abet', 'abetz', 'abf', 'abhirami', 'abhor', 'abhorr', 'abia', 'abiad', 'abid', 'abigael', 'abigail', 'abil', 'abject', 'abjur', 'abl', 'ablett', 'abli', 'abn', 'abnett', 'abnorm', 'abnormaili', 'aboard', 'abod', 'abolish', 'abolit', 'abomin', 'aborigin', 'aborign', 'abort', 'abortionist', 'aboud', 'abouloukm', 'abound', 'abov', 'abraham', 'abrahimzadeh', 'abram', 'abramson', 'abras', 'abroad', 'abrog', 'abrupt', 'abruzzo', 'absalon', 'abscond', 'absec', 'abseil', 'absenc', 'absent', 'absente', 'absentia', 'absolut', 'absolution', 'absolv', 'abson', 'absorb', 'absorpt', 'abstain', 'abstent', 'abstin', 'abstract', 'abstrus', 'abstudi', 'absurd', 'abt', 'abu', 'abul', 'abund', 'abus', 'abut', 'abuzz', 'abysm', 'abyss', 'abyssinian', 'ac', 'acacia', 'academ', 'academi', 'academia', 'acat', 'acbc', 'acca', 'accademia', 'accc', 'acccus', 'acceler', 'accent', 'accentu', 'accept', 'access', 'accessori', 'accessto', 'accid', 'accident', 'acciona']\n"
     ]
    }
   ],
   "source": [
    "vectorizer2 = TfidfVectorizer(stop_words = stop_words, tokenizer = tokenize)\n",
    "X2 = vectorizer2.fit_transform(desc)\n",
    "word_features2 = vectorizer2.get_feature_names()\n",
    "print(len(word_features2))\n",
    "print(word_features2[0:200])"
   ]
  },
  {
   "cell_type": "code",
   "execution_count": 23,
   "metadata": {},
   "outputs": [],
   "source": [
    "vectorizer3 = TfidfVectorizer(stop_words = stop_words, tokenizer = tokenize, max_features = 1000)\n",
    "X3 = vectorizer3.fit_transform(desc)\n",
    "words = vectorizer3.get_feature_names()"
   ]
  },
  {
   "cell_type": "code",
   "execution_count": 35,
   "metadata": {},
   "outputs": [
    {
     "name": "stdout",
     "output_type": "stream",
     "text": [
      "[('abc', 1), ('abl', 1), ('aborigin', 1)]\n"
     ]
    }
   ],
   "source": [
    "#calculate word frequency for finding max_feature value\n",
    "from collections import Counter\n",
    "print(Counter(words).most_common(3))"
   ]
  },
  {
   "cell_type": "markdown",
   "metadata": {},
   "source": [
    "# K-means clustering"
   ]
  },
  {
   "cell_type": "markdown",
   "metadata": {},
   "source": [
    "# Elbow method to select number of clusters\n",
    "This method looks at the percentage of variance explained as a function of the number of clusters: One should choose a number of clusters so that adding another cluster doesn't give much better modeling of the data. More precisely, if one plots the percentage of variance explained by the clusters against the number of clusters, the first clusters will add much information (explain a lot of variance), but at some point the marginal gain will drop, giving an angle in the graph. The number of clusters is chosen at this point, hence the \"elbow criterion\". This \"elbow\" cannot always be unambiguously identified. Percentage of variance explained is the ratio of the between-group variance to the total variance, also known as an F-test. A slight variation of this method plots the curvature of the within group variance.\n",
    "\n",
    "Basically, number of clusters = the x-axis value of the point that is the corner of the \"elbow\"(the plot looks often looks like an elbow)"
   ]
  },
  {
   "cell_type": "code",
   "execution_count": 36,
   "metadata": {},
   "outputs": [
    {
     "data": {
      "image/png": "[encoded data removed]",
      "text/plain": [
       "<Figure size 432x288 with 1 Axes>"
      ]
     },
     "metadata": {
      "needs_background": "light"
     },
     "output_type": "display_data"
    }
   ],
   "source": [
    "from sklearn.cluster import KMeans\n",
    "wcss = []\n",
    "for i in range(1,11):\n",
    "    kmeans = KMeans(n_clusters=i,init='k-means++',max_iter=300,n_init=10,random_state=0)\n",
    "    kmeans.fit(X3)\n",
    "    wcss.append(kmeans.inertia_)\n",
    "plt.plot(range(1,11),wcss)\n",
    "plt.title('The Elbow Method')\n",
    "plt.xlabel('Number of clusters')\n",
    "plt.ylabel('WCSS')\n",
    "plt.savefig('elbow.png')\n",
    "plt.show()"
   ]
  },
  {
   "cell_type": "code",
   "execution_count": null,
   "metadata": {},
   "outputs": [],
   "source": [
    "#As no major elbow have been generated/As more than one elbows have been generated, I will have to select right amount of clusters \n",
    "#by trial and error. So, I will showcase the results of different amount of clusters to \n",
    "#find out the right amount of clusters. "
   ]
  },
  {
   "cell_type": "markdown",
   "metadata": {},
   "source": [
    "# 3 Clusters"
   ]
  },
  {
   "cell_type": "code",
   "execution_count": 37,
   "metadata": {},
   "outputs": [
    {
     "name": "stdout",
     "output_type": "stream",
     "text": [
      "0 : said, women, s, violenc, famili, peopl, communiti, domest, year, ms, servic, support, children, help, work, govern, need, say, health, mr, australia, day, homeless, time, new\n",
      "1 : polic, court, said, man, charg, alleg, year, woman, mr, magistr, old, assault, order, violenc, crime, incid, offic, sentenc, arrest, told, s, offenc, domest, bail, victim\n",
      "2 : bound, shown, pleas, note, onlin, condit, discuss, comment, term, said, s, violenc, polic, domest, communiti, women, local, peopl, servic, nsw, year, support, orang, famili, council\n"
     ]
    }
   ],
   "source": [
    "kmeans = KMeans(n_clusters = 3, n_init = 20, n_jobs = 1) # n_init(number of iterations for clsutering) n_jobs(number of cpu cores to use)\n",
    "kmeans.fit(X3)\n",
    "# We look at 3 the clusters generated by k-means.\n",
    "common_words = kmeans.cluster_centers_.argsort()[:,-1:-26:-1]\n",
    "for num, centroid in enumerate(common_words):\n",
    "    print(str(num) + ' : ' + ', '.join(words[word] for word in centroid))"
   ]
  },
  {
   "cell_type": "markdown",
   "metadata": {},
   "source": [
    "# 5 Clusters"
   ]
  },
  {
   "cell_type": "code",
   "execution_count": 24,
   "metadata": {},
   "outputs": [
    {
     "name": "stdout",
     "output_type": "stream",
     "text": [
      "0 : said, s, peopl, year, communiti, mr, famili, homeless, servic, govern, health, work, children, support, violenc, help, new, ms, hous, say, time, need, australia, australian, school\n",
      "1 : bound, shown, pleas, onlin, note, condit, discuss, comment, term, said, s, violenc, domest, communiti, women, peopl, servic, polic, support, local, year, orang, nsw, famili, program\n",
      "2 : women, violenc, said, s, famili, domest, men, ms, communiti, abus, support, servic, peopl, year, victim, children, help, need, day, ribbon, say, work, t, partner, sexual\n",
      "3 : court, man, polic, said, charg, alleg, magistr, woman, year, sentenc, mr, old, told, order, assault, bail, arrest, s, violenc, appear, victim, heard, partner, befor, guilti\n",
      "4 : polic, said, crime, offic, incid, violenc, year, report, offenc, domest, s, cent, area, famili, communiti, assault, district, nsw, command, investig, sergeant, increas, inspector, number, relat\n"
     ]
    }
   ],
   "source": [
    "kmeans = KMeans(n_clusters = 5, n_init = 20, n_jobs = 1)\n",
    "kmeans.fit(X3)\n",
    "# We look at 5 the clusters generated by k-means.\n",
    "common_words = kmeans.cluster_centers_.argsort()[:,-1:-26:-1]\n",
    "for num, centroid in enumerate(common_words):\n",
    "    print(str(num) + ' : ' + ', '.join(words[word] for word in centroid))"
   ]
  },
  {
   "cell_type": "markdown",
   "metadata": {},
   "source": [
    "# 7 Clusters"
   ]
  },
  {
   "cell_type": "code",
   "execution_count": 25,
   "metadata": {},
   "outputs": [
    {
     "name": "stdout",
     "output_type": "stream",
     "text": [
      "0 : polic, man, alleg, charg, court, arrest, old, woman, said, incid, bail, appear, year, offic, assault, s, home, report, violenc, investig, magistr, domest, mr, befor, scene\n",
      "1 : court, said, man, sentenc, magistr, polic, order, mr, told, year, jail, woman, victim, guilti, heard, ms, month, judg, partner, plead, charg, violenc, assault, time, murder\n",
      "2 : polic, crime, said, offic, violenc, incid, offenc, cent, communiti, report, domest, area, year, assault, district, increas, s, famili, nsw, number, inspector, command, region, statist, rate\n",
      "3 : women, violenc, said, s, famili, domest, men, ms, communiti, support, abus, servic, peopl, year, children, help, need, victim, ribbon, day, work, say, partner, white, t\n",
      "4 : homeless, peopl, hous, said, accommod, sleep, servic, afford, support, s, help, live, street, provid, communiti, cent, ms, women, famili, year, home, need, crisi, children, increas\n",
      "5 : bound, shown, pleas, onlin, note, condit, discuss, comment, term, said, s, violenc, communiti, domest, women, peopl, support, local, servic, polic, year, famili, orang, nsw, program\n",
      "6 : said, s, peopl, year, communiti, mr, famili, govern, health, violenc, work, children, servic, new, say, ms, support, help, time, australia, school, australian, need, program, domest\n"
     ]
    }
   ],
   "source": [
    "kmeans = KMeans(n_clusters = 7, n_init = 20, n_jobs = 1)\n",
    "kmeans.fit(X3)\n",
    "# We look at 7 the clusters generated by k-means.\n",
    "common_words = kmeans.cluster_centers_.argsort()[:,-1:-26:-1]\n",
    "for num, centroid in enumerate(common_words):\n",
    "    print(str(num) + ' : ' + ', '.join(words[word] for word in centroid))"
   ]
  },
  {
   "cell_type": "markdown",
   "metadata": {},
   "source": [
    "# 6 Clusters"
   ]
  },
  {
   "cell_type": "code",
   "execution_count": null,
   "metadata": {},
   "outputs": [],
   "source": [
    "kmeans = KMeans(n_clusters = 6, n_init = 20, n_jobs = 1)\n",
    "kmeans.fit(X3)\n",
    "# We look at 6 the clusters generated by k-means.\n",
    "common_words = kmeans.cluster_centers_.argsort()[:,-1:-26:-1]\n",
    "for num, centroid in enumerate(common_words):\n",
    "    print(str(num) + ' : ' + ', '.join(words[word] for word in centroid))"
   ]
  },
  {
   "cell_type": "markdown",
   "metadata": {},
   "source": [
    "# 8 Clusters"
   ]
  },
  {
   "cell_type": "code",
   "execution_count": null,
   "metadata": {
    "scrolled": true
   },
   "outputs": [],
   "source": [
    "kmeans = KMeans(n_clusters = 8, n_init = 20, n_jobs = 1)\n",
    "kmeans.fit(X3)\n",
    "# Finally, we look at 8 the clusters generated by k-means.\n",
    "common_words = kmeans.cluster_centers_.argsort()[:,-1:-26:-1]\n",
    "for num, centroid in enumerate(common_words):\n",
    "    print(str(num) + ' : ' + ', '.join(words[word] for word in centroid))"
   ]
  },
  {
   "cell_type": "code",
   "execution_count": null,
   "metadata": {},
   "outputs": [],
   "source": []
  }
 ],
 "metadata": {
  "kernelspec": {
   "display_name": "Python 3",
   "language": "python",
   "name": "python3"
  },
  "language_info": {
   "codemirror_mode": {
    "name": "ipython",
    "version": 3
   },
   "file_extension": ".py",
   "mimetype": "text/x-python",
   "name": "python",
   "nbconvert_exporter": "python",
   "pygments_lexer": "ipython3",
   "version": "3.7.1"
  }
 },
 "nbformat": 4,
 "nbformat_minor": 2
}
