{
 "cells": [
  {
   "cell_type": "code",
   "execution_count": 105,
   "metadata": {},
   "outputs": [
    {
     "data": {
      "text/plain": [
       "64"
      ]
     },
     "execution_count": 105,
     "metadata": {},
     "output_type": "execute_result"
    }
   ],
   "source": [
    "with open('emojis', 'r') as f:\n",
    "    lines = f.readlines()\n",
    "    \n",
    "EMOJIS = []\n",
    "for line in lines:\n",
    "    EMOJIS.append(line.strip())\n",
    "    \n",
    "len(EMOJIS)"
   ]
  },
  {
   "cell_type": "code",
   "execution_count": 113,
   "metadata": {},
   "outputs": [],
   "source": [
    "import csv\n",
    "\n",
    "rows = []\n",
    "with open('output/twitter-scores.csv', 'r') as f:\n",
    "    reader = csv.reader(f)\n",
    "    header = True\n",
    "    for row in reader:\n",
    "        if header:\n",
    "            header = False\n",
    "            continue\n",
    "        \n",
    "        for i in range(2,7):\n",
    "            row[i] = EMOJIS[int(row[i])]\n",
    "            \n",
    "        rows.append(row)"
   ]
  },
  {
   "cell_type": "code",
   "execution_count": 114,
   "metadata": {},
   "outputs": [],
   "source": [
    "with open('output/twitter-emojis.csv', 'w') as f:\n",
    "    writer = csv.writer(f, delimiter=',', lineterminator='\\n')\n",
    "    writer.writerow(['Text', 'Top5%',\n",
    "                     'Emoji_1', 'Emoji_2', 'Emoji_3', 'Emoji_4', 'Emoji_5',\n",
    "                     'Pct_1', 'Pct_2', 'Pct_3', 'Pct_4', 'Pct_5'])\n",
    "    \n",
    "    for row in rows:\n",
    "        writer.writerow(row)"
   ]
  },
  {
   "cell_type": "code",
   "execution_count": null,
   "metadata": {},
   "outputs": [],
   "source": []
  }
 ],
 "metadata": {
  "kernelspec": {
   "display_name": "Python 3",
   "language": "python",
   "name": "python3"
  },
  "language_info": {
   "codemirror_mode": {
    "name": "ipython",
    "version": 3
   },
   "file_extension": ".py",
   "mimetype": "text/x-python",
   "name": "python",
   "nbconvert_exporter": "python",
   "pygments_lexer": "ipython3",
   "version": "3.7.1"
  }
 },
 "nbformat": 4,
 "nbformat_minor": 2
}
