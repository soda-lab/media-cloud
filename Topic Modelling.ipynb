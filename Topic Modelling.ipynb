{
 "cells": [
  {
   "cell_type": "code",
   "execution_count": 1,
   "metadata": {},
   "outputs": [],
   "source": [
    "col_names = [\n",
    "    'dv-fv',\n",
    "    'dv', \n",
    "    'fv'\n",
    "]"
   ]
  },
  {
   "cell_type": "code",
   "execution_count": 4,
   "metadata": {},
   "outputs": [],
   "source": [
    "import configparser\n",
    "import warnings\n",
    "import pandas as pd\n",
    "from pymongo import MongoClient\n",
    "import json\n",
    "import requests\n",
    "from bs4 import BeautifulSoup\n",
    "\n",
    "warnings.filterwarnings(\"ignore\", category=DeprecationWarning)\n",
    "warnings.filterwarnings(\"ignore\", category=UserWarning)\n",
    "\n",
    "# config = configparser.ConfigParser()\n",
    "# config.read('config.ini')\n",
    "# host = config['DEFAULT']['IP']\n",
    "# port = config['DEFAULT']['MongoDB-Port']\n",
    "# user = config['DEFAULT']['User']\n",
    "# pw = config['DEFAULT']['Pw']\n",
    "\n",
    "# client = MongoClient(host, int(port), username=user, password=pw)\n",
    "# db = client['mediacloud']"
   ]
  },
  {
   "cell_type": "markdown",
   "metadata": {},
   "source": [
    "# Copy to Local"
   ]
  },
  {
   "cell_type": "code",
   "execution_count": 174,
   "metadata": {},
   "outputs": [
    {
     "data": {
      "text/plain": [
       "(12845, 17)"
      ]
     },
     "execution_count": 174,
     "metadata": {},
     "output_type": "execute_result"
    }
   ],
   "source": [
    "df = pd.DataFrame()\n",
    "for col in col_names:\n",
    "    df = pd.concat([df, pd.DataFrame(list(db[col].find()))])\n",
    "df.shape"
   ]
  },
  {
   "cell_type": "code",
   "execution_count": 175,
   "metadata": {},
   "outputs": [],
   "source": [
    "df_test = df.copy()\n",
    "titles = []\n",
    "texts = []\n",
    "\n",
    "for _,row in df_test.iterrows():\n",
    "    title = row['title'].replace('&#8217;', \"'\").replace('&#8216;',\"'\").replace('&#8230;','...').replace('&#8211;','-').replace('&#124;','|').replace('&#39;',\"'\").replace('&#038;','&').replace('&#8220;','\"').replace('&#8221;','\"')\n",
    "    text = row['text'].replace('&#x2019;', \"'\").replace('&#275;','e')\n",
    "    titles.append(title)\n",
    "    texts.append(text)\n",
    "    \n",
    "df_test['title'] = titles\n",
    "df_test['text'] = texts"
   ]
  },
  {
   "cell_type": "code",
   "execution_count": 181,
   "metadata": {},
   "outputs": [],
   "source": [
    "df = df_test.copy()\n",
    "df.to_csv('database/media_cloud_database.csv')"
   ]
  },
  {
   "cell_type": "markdown",
   "metadata": {},
   "source": [
    "# Read Local DB"
   ]
  },
  {
   "cell_type": "code",
   "execution_count": null,
   "metadata": {},
   "outputs": [],
   "source": [
    "df = pd.read_csv('output/media_cloud_database.csv')\n",
    "df.drop(['Unnamed: 0'], axis=1, inplace=True)\n",
    "df.head()"
   ]
  },
  {
   "cell_type": "markdown",
   "metadata": {},
   "source": [
    "# Topic Modelling"
   ]
  },
  {
   "cell_type": "code",
   "execution_count": 1,
   "metadata": {},
   "outputs": [],
   "source": [
    "import numpy as np\n",
    "\n",
    "# Gensim\n",
    "import gensim\n",
    "import gensim.corpora as corpora\n",
    "from gensim.utils import simple_preprocess\n",
    "from gensim.models import CoherenceModel\n",
    "from gensim.models import TfidfModel\n",
    "\n",
    "# NLTK\n",
    "from nltk.corpus import stopwords\n",
    "from nltk import word_tokenize\n",
    "from nltk.stem.wordnet import WordNetLemmatizer\n",
    "\n",
    "# Plotting tools\n",
    "import pyLDAvis\n",
    "import pyLDAvis.gensim  # don't skip this\n",
    "import matplotlib.pyplot as plt\n",
    "%matplotlib inline\n",
    "\n",
    "from sklearn.feature_extraction.text import TfidfVectorizer \n",
    "\n",
    "from pandas import ExcelWriter"
   ]
  },
  {
   "cell_type": "code",
   "execution_count": 2,
   "metadata": {},
   "outputs": [],
   "source": [
    "lmtz = WordNetLemmatizer()\n",
    "\n",
    "\n",
    "def lemmatize(word):\n",
    "    if word.startswith('#'):\n",
    "        return word\n",
    "    \n",
    "    lemma = lmtz.lemmatize(word, 'v')\n",
    "    if lemma == word:\n",
    "        lemma = lmtz.lemmatize(word, 'n')\n",
    "    return lemma\n",
    "\n",
    "\n",
    "def strip_punc(s):\n",
    "    return ''.join([c for c in s if c.isalpha()])"
   ]
  },
  {
   "cell_type": "code",
   "execution_count": 3,
   "metadata": {},
   "outputs": [],
   "source": [
    "stop_words = [strip_punc(w) for w in stopwords.words('english')]\n",
    "stop_words.extend([\n",
    "    'i',\n",
    "    'u',\n",
    "    'r',\n",
    "    'im',\n",
    "    'cant',\n",
    "    'would',\n",
    "    'family',\n",
    "    'domestic',\n",
    "    'violence',\n",
    "    'australia',\n",
    "    'australian',\n",
    "    'dv',\n",
    "    'fv',\n",
    "    'via',\n",
    "    'today',\n",
    "    'thing',\n",
    "    'make',\n",
    "    'talk',\n",
    "    'due',\n",
    "    'day',\n",
    "    'month',\n",
    "    'find',\n",
    "    'show',\n",
    "    'put',\n",
    "    'part',\n",
    "    'time',\n",
    "    'yeah',\n",
    "    'deal',\n",
    "    'big',\n",
    "    'level',\n",
    "    'focus',\n",
    "    'theyre',\n",
    "    'list',\n",
    "    'top',\n",
    "    'give',\n",
    "    'situation',\n",
    "    'lot',\n",
    "    'hold',\n",
    "    'number',\n",
    "    'include',\n",
    "    'form',\n",
    "    'back',\n",
    "    'involve',\n",
    "    'link',\n",
    "    'real',\n",
    "    'good',\n",
    "    'get',\n",
    "    'go',\n",
    "    'have',\n",
    "    'do',\n",
    "    'take',\n",
    "    'time','year','month','week','day','say',\n",
    "    'per','cent','percent','people',\n",
    "    'mr','ms','miss','mrs'\n",
    "])"
   ]
  },
  {
   "cell_type": "markdown",
   "metadata": {},
   "source": [
    "### Main"
   ]
  },
  {
   "cell_type": "markdown",
   "metadata": {},
   "source": [
    "### Parameters"
   ]
  },
  {
   "cell_type": "code",
   "execution_count": 130,
   "metadata": {},
   "outputs": [],
   "source": [
    "year = 2017\n",
    "start = 4\n",
    "limit = 14\n",
    "step = 1\n",
    "n = 40 #how many articles to extract for each topic"
   ]
  },
  {
   "cell_type": "code",
   "execution_count": 131,
   "metadata": {},
   "outputs": [
    {
     "name": "stdout",
     "output_type": "stream",
     "text": [
      "2146\n"
     ]
    }
   ],
   "source": [
    "### Read from original database\n",
    "df_current = df[df['publish_date'].str.contains(str(year))]\n",
    "#df_current.reset_index(inplace=True)\n",
    "\n",
    "\n",
    "\n",
    "\n",
    "### Read from cleaned (relavent) database\n",
    "df_current = pd.read_csv('output/remove_irrelavent/{}/{}_relavent.csv'.format(year, year))\n",
    "\n",
    "\n",
    "\n",
    "\n",
    "\n",
    "df_current = df_current.replace(np.nan, '', regex=True)\n",
    "print(len(df_current))"
   ]
  },
  {
   "cell_type": "code",
   "execution_count": 132,
   "metadata": {},
   "outputs": [
    {
     "name": "stdout",
     "output_type": "stream",
     "text": [
      "0 100 200 300 400 500 600 700 800 900 1000 1100 1200 1300 1400 1500 1600 1700 1800 1900 2000 2100 "
     ]
    }
   ],
   "source": [
    "data = []\n",
    "\n",
    "for i, row in df_current.iterrows():\n",
    "    data.append(row['text'])\n",
    "        \n",
    "    if i % 100 == 0:\n",
    "        print(i, end = ' ')"
   ]
  },
  {
   "cell_type": "markdown",
   "metadata": {},
   "source": [
    "### Pre-processing"
   ]
  },
  {
   "cell_type": "code",
   "execution_count": 11,
   "metadata": {},
   "outputs": [],
   "source": [
    "def clean_doc(doc):\n",
    "    cleaned_doc = ''\n",
    "    for token in doc.split():\n",
    "\n",
    "        # Cleaning\n",
    "        if token[0] in ['@','$','%','^','&','*','#'] or token.startswith('http'):\n",
    "            continue\n",
    "\n",
    "        # Remove puctuations, lower case\n",
    "        token = strip_punc(token.lower())\n",
    "\n",
    "        # Lemmatize\n",
    "        lemma = lemmatize(token)\n",
    "\n",
    "        if lemma and lemma not in stop_words:\n",
    "            cleaned_doc += lemma + ' '\n",
    "\n",
    "    return cleaned_doc.strip()"
   ]
  },
  {
   "cell_type": "code",
   "execution_count": 133,
   "metadata": {},
   "outputs": [
    {
     "name": "stdout",
     "output_type": "stream",
     "text": [
      "0 100 200 300 400 500 600 700 800 900 1000 1100 1200 1300 1400 1500 1600 1700 1800 1900 2000 2100 "
     ]
    },
    {
     "data": {
      "text/plain": [
       "1688"
      ]
     },
     "execution_count": 133,
     "metadata": {},
     "output_type": "execute_result"
    }
   ],
   "source": [
    "data_lemmatized = []\n",
    "data_filtered = []\n",
    "dups = set()\n",
    "indices = [] # points back to index in df_current data\n",
    "\n",
    "check = []\n",
    "\n",
    "for i, doc in enumerate(data):\n",
    "    \n",
    "    \n",
    "    \n",
    "    #### For the 1st round, keep the duplicates\n",
    "#     cleaned_doc = clean_doc(doc)    \n",
    "#     data_lemmatized.append(cleaned_doc.split())\n",
    "#     data_filtered.append(cleaned_doc)\n",
    "    \n",
    "    \n",
    "    \n",
    "    \n",
    "    \n",
    "    \n",
    "    #### After we remove irrelavent docs, we also need to remove duplicates\n",
    "    \n",
    "    doc = doc.replace('.', '|').replace('?','|').replace('!','|')\n",
    "    \n",
    "    # Use 1st sentence to check duplicates\n",
    "    first_sent = doc.split('|')[0]\n",
    "    cleaned_1_sent = clean_doc(first_sent)\n",
    "    \n",
    "    if len(cleaned_1_sent) > 0 and cleaned_1_sent not in dups:\n",
    "        dups.add(cleaned_1_sent)\n",
    "\n",
    "        cleaned_doc = clean_doc(doc)\n",
    "        \n",
    "        data_lemmatized.append(cleaned_doc.split())\n",
    "        data_filtered.append(cleaned_doc)\n",
    "        indices.append(i)\n",
    "    else:\n",
    "        if len(cleaned_1_sent) > 0:\n",
    "            check.append(first_sent)\n",
    "        \n",
    "    if i % 100 == 0:\n",
    "        print(i, end=' ')\n",
    "        \n",
    "len(data_lemmatized)"
   ]
  },
  {
   "cell_type": "markdown",
   "metadata": {},
   "source": [
    "### Removal record for duplicates"
   ]
  },
  {
   "cell_type": "code",
   "execution_count": 134,
   "metadata": {},
   "outputs": [],
   "source": [
    "with open('output/final_output/{}/{}_remove_record.txt'.format(year, year), 'a') as f:\n",
    "    f.write('\\nNo. of duplicated docs removed: {}\\n'.format(len(df_current)-len(data_lemmatized)))\n",
    "    f.write('\\nNo. of docs remaining: {}\\n'.format(len(data_lemmatized)))"
   ]
  },
  {
   "cell_type": "markdown",
   "metadata": {},
   "source": [
    "# Model"
   ]
  },
  {
   "cell_type": "code",
   "execution_count": 135,
   "metadata": {
    "scrolled": false
   },
   "outputs": [],
   "source": [
    "# Create Dictionary\n",
    "id2word = corpora.Dictionary(data_lemmatized)\n",
    "\n",
    "# Create Corpus\n",
    "texts = data_lemmatized\n",
    "\n",
    "# Term Document Frequency\n",
    "corpus = [id2word.doc2bow(text) for text in texts]"
   ]
  },
  {
   "cell_type": "code",
   "execution_count": 46,
   "metadata": {},
   "outputs": [],
   "source": [
    "mallet_path = 'input/mallet-2.0.8/bin/mallet'"
   ]
  },
  {
   "cell_type": "code",
   "execution_count": 18,
   "metadata": {},
   "outputs": [],
   "source": [
    "def compute_coherence_values(dictionary, corpus, texts, limit, start=2, step=3):\n",
    "    \"\"\"\n",
    "    Compute c_v coherence for various number of topics\n",
    "\n",
    "    Parameters:\n",
    "    ----------\n",
    "    dictionary : Gensim dictionary\n",
    "    corpus : Gensim corpus\n",
    "    texts : List of input texts\n",
    "    limit : Max num of topics\n",
    "\n",
    "    Returns:\n",
    "    -------\n",
    "    model_list : List of LDA topic models\n",
    "    coherence_values : Coherence values corresponding to the LDA model with respective number of topics\n",
    "    \"\"\"\n",
    "    coherence_values = []\n",
    "    model_list = []\n",
    "    for num_topics in range(start, limit, step):\n",
    "        model = gensim.models.wrappers.LdaMallet(mallet_path, corpus=corpus, num_topics=num_topics, id2word=id2word)\n",
    "        model_list.append(model)\n",
    "        print(str(len(model_list)-1)+'-'+str(num_topics),end=' ')\n",
    "        coherencemodel = CoherenceModel(model=model, texts=texts, dictionary=dictionary, coherence='c_v')\n",
    "        coherence_values.append(coherencemodel.get_coherence())\n",
    "\n",
    "    return model_list, coherence_values"
   ]
  },
  {
   "cell_type": "code",
   "execution_count": 136,
   "metadata": {},
   "outputs": [
    {
     "name": "stdout",
     "output_type": "stream",
     "text": [
      "0-4 1-5 2-6 3-7 4-8 5-9 6-10 7-11 8-12 9-13 "
     ]
    }
   ],
   "source": [
    "# Takes a long time to run.\n",
    "model_list, coherence_values = compute_coherence_values(dictionary=id2word, corpus=corpus, texts=data_lemmatized, start=start, limit=limit, step=step)"
   ]
  },
  {
   "cell_type": "code",
   "execution_count": 137,
   "metadata": {},
   "outputs": [
    {
     "data": {
      "image/png": "[encoded data removed]",
      "text/plain": [
       "<Figure size 432x288 with 1 Axes>"
      ]
     },
     "metadata": {
      "needs_background": "light"
     },
     "output_type": "display_data"
    }
   ],
   "source": [
    "x = range(start, limit, step)\n",
    "plt.figure().suptitle(str(year))\n",
    "plt.plot(x, coherence_values)\n",
    "plt.xlabel(\"Num Topics\")\n",
    "plt.ylabel(\"Coherence score\")\n",
    "plt.legend((\"coherence_values\"), loc='best')\n",
    "#plt.savefig('output/topic_models/{}_pre_relavent.png'.format(year))\n",
    "plt.savefig('output/topic_models/{}.png'.format(year))\n",
    "plt.show()"
   ]
  },
  {
   "cell_type": "markdown",
   "metadata": {},
   "source": [
    "### Save models"
   ]
  },
  {
   "cell_type": "code",
   "execution_count": 138,
   "metadata": {},
   "outputs": [],
   "source": [
    "for i in range(start, limit):\n",
    "    model_list[i-start].save('output/topic_models/{}_{}'.format(year, i))\n",
    "    #model_list[i-start].save('output/topic_models/{}_{}_pre_relavent'.format(year, i))"
   ]
  },
  {
   "cell_type": "markdown",
   "metadata": {},
   "source": [
    "## Select model"
   ]
  },
  {
   "cell_type": "code",
   "execution_count": 151,
   "metadata": {},
   "outputs": [],
   "source": [
    "no_topics = 10\n",
    "model = model_list[no_topics-start]"
   ]
  },
  {
   "cell_type": "code",
   "execution_count": 659,
   "metadata": {},
   "outputs": [],
   "source": [
    "#### Only for loading saved models\n",
    "# no_topics = 8\n",
    "# model = gensim.models.wrappers.LdaMallet.load('output/topic_models/{}_{}'.format(year, no_topics))"
   ]
  },
  {
   "cell_type": "code",
   "execution_count": 152,
   "metadata": {
    "scrolled": false
   },
   "outputs": [],
   "source": [
    "### displaying\n",
    "\n",
    "pyLDAvis.enable_notebook()\n",
    "the_model = gensim.models.wrappers.ldamallet.malletmodel2ldamodel(model)\n",
    "vis = pyLDAvis.gensim.prepare(the_model, corpus, id2word)\n",
    "pyLDAvis.save_html(vis, 'output/final_output/{}/{}_{}.html'.format(year, year, no_topics))\n",
    "#vis"
   ]
  },
  {
   "cell_type": "markdown",
   "metadata": {},
   "source": [
    "# Docs"
   ]
  },
  {
   "cell_type": "code",
   "execution_count": 122,
   "metadata": {},
   "outputs": [],
   "source": [
    "# Finding the dominant topic in each Tweet\n",
    "\n",
    "\n",
    "def format_topics_sentences(ldamodel, corpus=corpus, texts=data_filtered):\n",
    "    # Init output\n",
    "    sent_topics_df = pd.DataFrame()\n",
    "\n",
    "    # Get main topic in each document\n",
    "    for i, row in enumerate(ldamodel[corpus]):\n",
    "        row = sorted(row, key=lambda x: (x[1]), reverse=True)\n",
    "        # Get the Dominant topic, Perc Contribution and Keywords for each document\n",
    "        for j, (topic_num, prop_topic) in enumerate(row):\n",
    "            if j == 0:  # => dominant topic\n",
    "                wp = ldamodel.show_topic(topic_num)\n",
    "                topic_keywords = \", \".join([word for word, prop in wp])\n",
    "                sent_topics_df = sent_topics_df.append(pd.Series([int(topic_num), round(prop_topic,4), topic_keywords]), ignore_index=True)\n",
    "            else:\n",
    "                break\n",
    "    sent_topics_df.columns = ['Dominant_Topic', 'Perc_Contribution', 'Topic_Keywords']\n",
    "\n",
    "    # Add original text to the end of the output\n",
    "    contents = pd.Series(texts)\n",
    "    sent_topics_df = pd.concat([sent_topics_df, contents], axis=1)\n",
    "    return(sent_topics_df)"
   ]
  },
  {
   "cell_type": "code",
   "execution_count": 153,
   "metadata": {},
   "outputs": [
    {
     "data": {
      "text/html": [
       "<div>\n",
       "<style scoped>\n",
       "    .dataframe tbody tr th:only-of-type {\n",
       "        vertical-align: middle;\n",
       "    }\n",
       "\n",
       "    .dataframe tbody tr th {\n",
       "        vertical-align: top;\n",
       "    }\n",
       "\n",
       "    .dataframe thead th {\n",
       "        text-align: right;\n",
       "    }\n",
       "</style>\n",
       "<table border=\"1\" class=\"dataframe\">\n",
       "  <thead>\n",
       "    <tr style=\"text-align: right;\">\n",
       "      <th></th>\n",
       "      <th>Document_No</th>\n",
       "      <th>Dominant_Topic</th>\n",
       "      <th>Topic_Perc_Contrib</th>\n",
       "      <th>Keywords</th>\n",
       "      <th>Text</th>\n",
       "    </tr>\n",
       "  </thead>\n",
       "  <tbody>\n",
       "    <tr>\n",
       "      <th>0</th>\n",
       "      <td>0</td>\n",
       "      <td>4.0</td>\n",
       "      <td>0.3227</td>\n",
       "      <td>police, crime, officer, report, assault, offence, nsw, incident, local, area</td>\n",
       "      <td>lust revenge greed pride envy wrath motif murder read like seven deadly sin rarely change start ...</td>\n",
       "    </tr>\n",
       "    <tr>\n",
       "      <th>1</th>\n",
       "      <td>1</td>\n",
       "      <td>4.0</td>\n",
       "      <td>0.2742</td>\n",
       "      <td>police, crime, officer, report, assault, offence, nsw, incident, local, area</td>\n",
       "      <td>victim receive compensation act government drop significantly last despite rise victim seek help...</td>\n",
       "    </tr>\n",
       "    <tr>\n",
       "      <th>2</th>\n",
       "      <td>2</td>\n",
       "      <td>1.0</td>\n",
       "      <td>0.3912</td>\n",
       "      <td>court, man, police, charge, woman, hear, yearold, bail, murder, sentence</td>\n",
       "      <td>yearold man charge murder allege dispute umina beach central coast ben ivanoff accuse stab wife ...</td>\n",
       "    </tr>\n",
       "    <tr>\n",
       "      <th>3</th>\n",
       "      <td>3</td>\n",
       "      <td>5.0</td>\n",
       "      <td>0.1566</td>\n",
       "      <td>woman, men, female, white, support, experience, gender, work, dr, male</td>\n",
       "      <td>copyright aest gmt play nicely current browser please moment upgrade latest version</td>\n",
       "    </tr>\n",
       "    <tr>\n",
       "      <th>4</th>\n",
       "      <td>4</td>\n",
       "      <td>3.0</td>\n",
       "      <td>0.4702</td>\n",
       "      <td>child, abuse, life, mother, live, parent, relationship, happen, young, father</td>\n",
       "      <td>room second floor childrens hospital westmead team specialise staff weigh collective consciousne...</td>\n",
       "    </tr>\n",
       "  </tbody>\n",
       "</table>\n",
       "</div>"
      ],
      "text/plain": [
       "   Document_No  Dominant_Topic  Topic_Perc_Contrib  \\\n",
       "0            0             4.0              0.3227   \n",
       "1            1             4.0              0.2742   \n",
       "2            2             1.0              0.3912   \n",
       "3            3             5.0              0.1566   \n",
       "4            4             3.0              0.4702   \n",
       "\n",
       "                                                                        Keywords  \\\n",
       "0   police, crime, officer, report, assault, offence, nsw, incident, local, area   \n",
       "1   police, crime, officer, report, assault, offence, nsw, incident, local, area   \n",
       "2       court, man, police, charge, woman, hear, yearold, bail, murder, sentence   \n",
       "3         woman, men, female, white, support, experience, gender, work, dr, male   \n",
       "4  child, abuse, life, mother, live, parent, relationship, happen, young, father   \n",
       "\n",
       "                                                                                                  Text  \n",
       "0  lust revenge greed pride envy wrath motif murder read like seven deadly sin rarely change start ...  \n",
       "1  victim receive compensation act government drop significantly last despite rise victim seek help...  \n",
       "2  yearold man charge murder allege dispute umina beach central coast ben ivanoff accuse stab wife ...  \n",
       "3                  copyright aest gmt play nicely current browser please moment upgrade latest version  \n",
       "4  room second floor childrens hospital westmead team specialise staff weigh collective consciousne...  "
      ]
     },
     "execution_count": 153,
     "metadata": {},
     "output_type": "execute_result"
    }
   ],
   "source": [
    "df_topic_sents_keywords = format_topics_sentences(ldamodel=model, corpus=corpus, texts=data_filtered)\n",
    "\n",
    "# Format\n",
    "df_dominant_topic = df_topic_sents_keywords.reset_index()\n",
    "df_dominant_topic.columns = ['Document_No', 'Dominant_Topic', 'Topic_Perc_Contrib', 'Keywords', 'Text']\n",
    "df_dominant_topic.head()"
   ]
  },
  {
   "cell_type": "code",
   "execution_count": 154,
   "metadata": {},
   "outputs": [
    {
     "data": {
      "text/html": [
       "<div>\n",
       "<style scoped>\n",
       "    .dataframe tbody tr th:only-of-type {\n",
       "        vertical-align: middle;\n",
       "    }\n",
       "\n",
       "    .dataframe tbody tr th {\n",
       "        vertical-align: top;\n",
       "    }\n",
       "\n",
       "    .dataframe thead th {\n",
       "        text-align: right;\n",
       "    }\n",
       "</style>\n",
       "<table border=\"1\" class=\"dataframe\">\n",
       "  <thead>\n",
       "    <tr style=\"text-align: right;\">\n",
       "      <th></th>\n",
       "      <th>Document_No</th>\n",
       "      <th>Dominant_Topic</th>\n",
       "      <th>Topic_Perc_Contrib</th>\n",
       "      <th>Keywords</th>\n",
       "      <th>Text</th>\n",
       "    </tr>\n",
       "  </thead>\n",
       "  <tbody>\n",
       "    <tr>\n",
       "      <th>0</th>\n",
       "      <td>1315</td>\n",
       "      <td>0.0</td>\n",
       "      <td>0.7156</td>\n",
       "      <td>story, world, work, start, write, book, life, watch, film, yard</td>\n",
       "      <td>iphone x weird wonderful device apple new phone look behave differently iphones use two become f...</td>\n",
       "    </tr>\n",
       "    <tr>\n",
       "      <th>1</th>\n",
       "      <td>1171</td>\n",
       "      <td>0.0</td>\n",
       "      <td>0.6962</td>\n",
       "      <td>story, world, work, start, write, book, life, watch, film, yard</td>\n",
       "      <td>emma alberici join former lateline host kerry obrien maxine mckew leigh sale reflect latelines v...</td>\n",
       "    </tr>\n",
       "    <tr>\n",
       "      <th>2</th>\n",
       "      <td>1267</td>\n",
       "      <td>0.0</td>\n",
       "      <td>0.6917</td>\n",
       "      <td>story, world, work, start, write, book, life, watch, film, yard</td>\n",
       "      <td>maze runner trilogy jam dashner dystopian young adult novel paint bleak picture humanity thomas ...</td>\n",
       "    </tr>\n",
       "    <tr>\n",
       "      <th>3</th>\n",
       "      <td>270</td>\n",
       "      <td>0.0</td>\n",
       "      <td>0.6262</td>\n",
       "      <td>story, world, work, start, write, book, life, watch, film, yard</td>\n",
       "      <td>jimmy barnes barely set foot inside melbourne landmark pellegrinis end bourke street voice pip b...</td>\n",
       "    </tr>\n",
       "    <tr>\n",
       "      <th>4</th>\n",
       "      <td>484</td>\n",
       "      <td>0.0</td>\n",
       "      <td>0.6234</td>\n",
       "      <td>story, world, work, start, write, book, life, watch, film, yard</td>\n",
       "      <td>author liane moriarty like fair chunk tvviewing planet recently little lie utterly grip business...</td>\n",
       "    </tr>\n",
       "  </tbody>\n",
       "</table>\n",
       "</div>"
      ],
      "text/plain": [
       "   Document_No  Dominant_Topic  Topic_Perc_Contrib  \\\n",
       "0         1315             0.0              0.7156   \n",
       "1         1171             0.0              0.6962   \n",
       "2         1267             0.0              0.6917   \n",
       "3          270             0.0              0.6262   \n",
       "4          484             0.0              0.6234   \n",
       "\n",
       "                                                          Keywords  \\\n",
       "0  story, world, work, start, write, book, life, watch, film, yard   \n",
       "1  story, world, work, start, write, book, life, watch, film, yard   \n",
       "2  story, world, work, start, write, book, life, watch, film, yard   \n",
       "3  story, world, work, start, write, book, life, watch, film, yard   \n",
       "4  story, world, work, start, write, book, life, watch, film, yard   \n",
       "\n",
       "                                                                                                  Text  \n",
       "0  iphone x weird wonderful device apple new phone look behave differently iphones use two become f...  \n",
       "1  emma alberici join former lateline host kerry obrien maxine mckew leigh sale reflect latelines v...  \n",
       "2  maze runner trilogy jam dashner dystopian young adult novel paint bleak picture humanity thomas ...  \n",
       "3  jimmy barnes barely set foot inside melbourne landmark pellegrinis end bourke street voice pip b...  \n",
       "4  author liane moriarty like fair chunk tvviewing planet recently little lie utterly grip business...  "
      ]
     },
     "execution_count": 154,
     "metadata": {},
     "output_type": "execute_result"
    }
   ],
   "source": [
    "# Group top n Tweets under each topic\n",
    "sent_topics_sorteddf_mallet = pd.DataFrame()\n",
    "\n",
    "sent_topics_outdf_grpd = df_dominant_topic.groupby('Dominant_Topic')\n",
    "\n",
    "for i, grp in sent_topics_outdf_grpd:\n",
    "    sent_topics_sorteddf_mallet = pd.concat([sent_topics_sorteddf_mallet, \n",
    "                                             grp.sort_values(['Topic_Perc_Contrib'], ascending=[0]).head(n)], \n",
    "                                            axis=0)\n",
    "\n",
    "# Reset Index    \n",
    "sent_topics_sorteddf_mallet.reset_index(drop=True, inplace=True)\n",
    "\n",
    "# Show\n",
    "sent_topics_sorteddf_mallet.head()"
   ]
  },
  {
   "cell_type": "markdown",
   "metadata": {},
   "source": [
    "# Excel"
   ]
  },
  {
   "cell_type": "code",
   "execution_count": 155,
   "metadata": {},
   "outputs": [
    {
     "data": {
      "text/html": [
       "<div>\n",
       "<style scoped>\n",
       "    .dataframe tbody tr th:only-of-type {\n",
       "        vertical-align: middle;\n",
       "    }\n",
       "\n",
       "    .dataframe tbody tr th {\n",
       "        vertical-align: top;\n",
       "    }\n",
       "\n",
       "    .dataframe thead th {\n",
       "        text-align: right;\n",
       "    }\n",
       "</style>\n",
       "<table border=\"1\" class=\"dataframe\">\n",
       "  <thead>\n",
       "    <tr style=\"text-align: right;\">\n",
       "      <th></th>\n",
       "      <th>Topic_Keywords</th>\n",
       "      <th>Num_Documents</th>\n",
       "      <th>Perc_Documents</th>\n",
       "    </tr>\n",
       "    <tr>\n",
       "      <th>Dominant_Topic_Num</th>\n",
       "      <th></th>\n",
       "      <th></th>\n",
       "      <th></th>\n",
       "    </tr>\n",
       "  </thead>\n",
       "  <tbody>\n",
       "    <tr>\n",
       "      <th>1</th>\n",
       "      <td>court, man, police, charge, woman, hear, yearold, bail, murder, sentence</td>\n",
       "      <td>313</td>\n",
       "      <td>18.54%</td>\n",
       "    </tr>\n",
       "    <tr>\n",
       "      <th>8</th>\n",
       "      <td>community, service, support, school, program, house, provide, health, fund, work</td>\n",
       "      <td>224</td>\n",
       "      <td>13.27%</td>\n",
       "    </tr>\n",
       "    <tr>\n",
       "      <th>6</th>\n",
       "      <td>government, million, minister, state, labor, queensland, pay, leader, party, federal</td>\n",
       "      <td>196</td>\n",
       "      <td>11.61%</td>\n",
       "    </tr>\n",
       "    <tr>\n",
       "      <th>9</th>\n",
       "      <td>law, victim, report, act, sexual, system, court, change, order, university</td>\n",
       "      <td>173</td>\n",
       "      <td>10.25%</td>\n",
       "    </tr>\n",
       "    <tr>\n",
       "      <th>4</th>\n",
       "      <td>police, crime, officer, report, assault, offence, nsw, incident, local, area</td>\n",
       "      <td>161</td>\n",
       "      <td>9.54%</td>\n",
       "    </tr>\n",
       "    <tr>\n",
       "      <th>3</th>\n",
       "      <td>child, abuse, life, mother, live, parent, relationship, happen, young, father</td>\n",
       "      <td>143</td>\n",
       "      <td>8.47%</td>\n",
       "    </tr>\n",
       "    <tr>\n",
       "      <th>7</th>\n",
       "      <td>play, club, game, player, win, team, sport, star, season, award</td>\n",
       "      <td>136</td>\n",
       "      <td>8.06%</td>\n",
       "    </tr>\n",
       "    <tr>\n",
       "      <th>5</th>\n",
       "      <td>woman, men, female, white, support, experience, gender, work, dr, male</td>\n",
       "      <td>129</td>\n",
       "      <td>7.64%</td>\n",
       "    </tr>\n",
       "    <tr>\n",
       "      <th>2</th>\n",
       "      <td>alcohol, house, street, melbourne, car, home, city, council, homeless, sydney</td>\n",
       "      <td>114</td>\n",
       "      <td>6.75%</td>\n",
       "    </tr>\n",
       "    <tr>\n",
       "      <th>0</th>\n",
       "      <td>story, world, work, start, write, book, life, watch, film, yard</td>\n",
       "      <td>99</td>\n",
       "      <td>5.86%</td>\n",
       "    </tr>\n",
       "  </tbody>\n",
       "</table>\n",
       "</div>"
      ],
      "text/plain": [
       "                                                                                          Topic_Keywords  \\\n",
       "Dominant_Topic_Num                                                                                         \n",
       "1                               court, man, police, charge, woman, hear, yearold, bail, murder, sentence   \n",
       "8                       community, service, support, school, program, house, provide, health, fund, work   \n",
       "6                   government, million, minister, state, labor, queensland, pay, leader, party, federal   \n",
       "9                             law, victim, report, act, sexual, system, court, change, order, university   \n",
       "4                           police, crime, officer, report, assault, offence, nsw, incident, local, area   \n",
       "3                          child, abuse, life, mother, live, parent, relationship, happen, young, father   \n",
       "7                                        play, club, game, player, win, team, sport, star, season, award   \n",
       "5                                 woman, men, female, white, support, experience, gender, work, dr, male   \n",
       "2                          alcohol, house, street, melbourne, car, home, city, council, homeless, sydney   \n",
       "0                                        story, world, work, start, write, book, life, watch, film, yard   \n",
       "\n",
       "                    Num_Documents Perc_Documents  \n",
       "Dominant_Topic_Num                                \n",
       "1                             313         18.54%  \n",
       "8                             224         13.27%  \n",
       "6                             196         11.61%  \n",
       "9                             173         10.25%  \n",
       "4                             161          9.54%  \n",
       "3                             143          8.47%  \n",
       "7                             136          8.06%  \n",
       "5                             129          7.64%  \n",
       "2                             114          6.75%  \n",
       "0                              99          5.86%  "
      ]
     },
     "execution_count": 155,
     "metadata": {},
     "output_type": "execute_result"
    }
   ],
   "source": [
    "# Number of Documents for Each Topic\n",
    "series_topic_counts = df_topic_sents_keywords['Dominant_Topic'].value_counts()\n",
    "\n",
    "idx = []\n",
    "topic_counts = []\n",
    "keywords = []\n",
    "topic_contributions = []\n",
    "\n",
    "for (i, count) in series_topic_counts.iteritems():\n",
    "    idx.append(int(i))\n",
    "    keywords.append(\", \".join([word for word, _ in model.show_topic(int(i))]))\n",
    "    topic_counts.append(count)\n",
    "    topic_contributions.append(str(round(100*count/series_topic_counts.sum(), 2))+'%')\n",
    "    \n",
    "df_dominant_topics = pd.DataFrame.from_dict({\n",
    "    'Dominant_Topic_Num': idx,\n",
    "    'Topic_Keywords': keywords, \n",
    "    'Num_Documents': topic_counts, \n",
    "    'Perc_Documents': topic_contributions\n",
    "})\n",
    "\n",
    "# Show\n",
    "pd.options.display.max_colwidth = 100\n",
    "df_dominant_topics.set_index('Dominant_Topic_Num', inplace=True)\n",
    "df_dominant_topics"
   ]
  },
  {
   "cell_type": "code",
   "execution_count": 156,
   "metadata": {},
   "outputs": [],
   "source": [
    "writer = ExcelWriter('output/final_output/{}/{}_{}.xlsx'.format(year, year, no_topics))\n",
    "#writer = ExcelWriter('output/final_output/{}/{}_pre_relevant_{}.xlsx'.format(year, year, no_topics))\n",
    "\n",
    "new_df = df_dominant_topics.copy()\n",
    "new_df.index += 1\n",
    "new_df.to_excel(writer,'topic_rank')\n",
    "\n",
    "for topic_no in range(no_topics):\n",
    "    new_df = pd.DataFrame(columns=['Document_No'])\n",
    "    new_df['Document_No'] = sent_topics_sorteddf_mallet[sent_topics_sorteddf_mallet['Dominant_Topic']==topic_no]['Document_No']\n",
    "\n",
    "    \n",
    "    \n",
    "    \n",
    "    #### For after removing duplicates\n",
    "    new_df['Document_No'] = list(map(lambda x: indices[x], new_df['Document_No']))\n",
    "    \n",
    "    \n",
    "    \n",
    "    \n",
    "    new_df.set_index('Document_No', inplace=True)\n",
    "    \n",
    "    new_df['Title'] = list(map(lambda x: df_current.iloc[x]['title'], new_df.index))\n",
    "    new_df['Text'] = list(map(lambda x: df_current.iloc[x]['text'], new_df.index))\n",
    "    new_df['URL'] = list(map(lambda x: df_current.iloc[x]['url'], new_df.index))\n",
    "    \n",
    "    new_df.reset_index(inplace=True)\n",
    "    new_df.drop(['Document_No'], axis=1, inplace=True)\n",
    "    new_df.to_excel(writer,'topic_'+str(topic_no+1))\n",
    "    \n",
    "writer.save()"
   ]
  },
  {
   "cell_type": "markdown",
   "metadata": {},
   "source": [
    "# Remove irrelavent coduments"
   ]
  },
  {
   "cell_type": "code",
   "execution_count": 128,
   "metadata": {},
   "outputs": [],
   "source": [
    "topic_nos = [9,2]"
   ]
  },
  {
   "cell_type": "code",
   "execution_count": 129,
   "metadata": {},
   "outputs": [
    {
     "name": "stderr",
     "output_type": "stream",
     "text": [
      "/anaconda3/lib/python3.7/site-packages/pandas/core/frame.py:3697: SettingWithCopyWarning: \n",
      "A value is trying to be set on a copy of a slice from a DataFrame\n",
      "\n",
      "See the caveats in the documentation: http://pandas.pydata.org/pandas-docs/stable/indexing.html#indexing-view-versus-copy\n",
      "  errors=errors)\n"
     ]
    },
    {
     "name": "stdout",
     "output_type": "stream",
     "text": [
      "306 2146\n"
     ]
    }
   ],
   "source": [
    "ids_to_rm = []\n",
    "\n",
    "with open('output/final_output/{}/{}_remove_record.txt'.format(year, year), 'w') as f:\n",
    "    for topic_to_rm in topic_nos:\n",
    "        df_to_rm = df_dominant_topic[df_dominant_topic['Dominant_Topic']==topic_to_rm-1]\n",
    "        rm_list = list(df_to_rm['Document_No'])\n",
    "        ids_to_rm.extend(rm_list)\n",
    "        f.write('No. of docs removed for topic {}: {}\\n'.format(topic_to_rm, len(rm_list)))\n",
    "        f.write('Topic {} keywords: '.format(topic_to_rm))\n",
    "        f.write(df_to_rm.iloc[0]['Keywords'])\n",
    "        f.write('\\n\\n')\n",
    "        \n",
    "df_rm = df_current[df_current.index.isin(ids_to_rm)]\n",
    "df_keep = df_current[~df_current.index.isin(ids_to_rm)]\n",
    "df_rm.set_index('_id', inplace=True)\n",
    "df_keep.set_index('_id', inplace=True)\n",
    "df_rm.drop(['index'], axis=1, inplace=True)\n",
    "df_keep.drop(['index'], axis=1, inplace=True)\n",
    "\n",
    "print(len(df_rm), len(df_keep))\n",
    "df_rm.to_csv('output/remove_irrelavent/{}/{}_irrelavent.csv'.format(year, year))\n",
    "df_keep.to_csv('output/remove_irrelavent/{}/{}_relavent.csv'.format(year, year))"
   ]
  },
  {
   "cell_type": "code",
   "execution_count": null,
   "metadata": {},
   "outputs": [],
   "source": []
  }
 ],
 "metadata": {
  "kernelspec": {
   "display_name": "Python 3",
   "language": "python",
   "name": "python3"
  },
  "language_info": {
   "codemirror_mode": {
    "name": "ipython",
    "version": 3
   },
   "file_extension": ".py",
   "mimetype": "text/x-python",
   "name": "python",
   "nbconvert_exporter": "python",
   "pygments_lexer": "ipython3",
   "version": "3.7.1"
  }
 },
 "nbformat": 4,
 "nbformat_minor": 2
}
