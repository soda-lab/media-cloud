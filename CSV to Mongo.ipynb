{
 "cells": [
  {
   "cell_type": "code",
   "execution_count": 1,
   "metadata": {},
   "outputs": [],
   "source": [
    "col_names = [\n",
    "    'dv-fv',\n",
    "    'dv', \n",
    "    'fv'\n",
    "]"
   ]
  },
  {
   "cell_type": "code",
   "execution_count": 6,
   "metadata": {},
   "outputs": [],
   "source": [
    "import configparser\n",
    "import warnings\n",
    "import pandas as pd\n",
    "from pymongo import MongoClient\n",
    "import json\n",
    "import requests\n",
    "from bs4 import BeautifulSoup\n",
    "\n",
    "warnings.filterwarnings(\"ignore\", category=DeprecationWarning)\n",
    "\n",
    "config = configparser.ConfigParser()\n",
    "config.read('config.ini')\n",
    "host = config['DEFAULT']['IP']\n",
    "port = config['DEFAULT']['MongoDB-Port']\n",
    "\n",
    "client = MongoClient(host, int(port))\n",
    "db = client['Media-cloud']"
   ]
  },
  {
   "cell_type": "code",
   "execution_count": 3,
   "metadata": {},
   "outputs": [],
   "source": [
    "def get_text(url):\n",
    "    text = ''\n",
    "    try:\n",
    "        if '/?nk=' in url:\n",
    "            return ''\n",
    "        \n",
    "        html = requests.get(url).text\n",
    "        soup = BeautifulSoup(html)\n",
    "\n",
    "        for p in soup.find_all('p'):\n",
    "            if p.parent.get('class') == ['section']:\n",
    "                continue\n",
    "            if p.get('class') == ['_2g0-m']:\n",
    "                continue\n",
    "            sentence = p.get_text().strip()\n",
    "            if (not sentence.startswith('A NOTE') and\n",
    "                not sentence.startswith('If you have inside') and\n",
    "                not sentence.startswith('ABC') and\n",
    "                not sentence.startswith('Read') and\n",
    "                not sentence.startswith('Sign up') and\n",
    "                not sentence.startswith('Stay Informed') and\n",
    "                not sentence.startswith('For independent news') and\n",
    "                not sentence.startswith(\"Don't miss\") and \n",
    "                not sentence.startswith('Follow') and\n",
    "                '<!' not in sentence\n",
    "               ) and (\n",
    "                sentence.endswith('.') or \n",
    "                sentence.endswith(\"'\") or\n",
    "                sentence.endswith('\"') or\n",
    "                sentence.endswith(\"?\") or\n",
    "                sentence.endswith(\"!\") or\n",
    "                sentence.endswith(\";\") or\n",
    "                sentence.endswith(\",\") or\n",
    "                sentence.endswith(\")\") or\n",
    "                sentence.endswith(\":\")\n",
    "            ):\n",
    "                text += sentence + ' '\n",
    "                \n",
    "        return text.strip()\n",
    "    except:\n",
    "        return text.strip()"
   ]
  },
  {
   "cell_type": "code",
   "execution_count": null,
   "metadata": {},
   "outputs": [],
   "source": [
    "for col_name in col_names:\n",
    "    counter = 0\n",
    "    print('Now processing:', col_name+'.csv')\n",
    "    \n",
    "    df = pd.read_csv('input/'+col_name+'.csv')\n",
    "    df['text'] = ''\n",
    "    for i, row in df.iterrows():\n",
    "        url = row['url']\n",
    "        df.at[i, 'text'] = get_text(url)\n",
    "        \n",
    "        counter += 1\n",
    "        if counter % 100 == 0:\n",
    "            print(counter, 'records processed')\n",
    "            \n",
    "    records = json.loads(df.to_json(orient='records'))\n",
    "    \n",
    "    print(col_name+'.csv finished\\n--------------------\\n')"
   ]
  },
  {
   "cell_type": "code",
   "execution_count": null,
   "metadata": {},
   "outputs": [],
   "source": [
    "df = pd.read_csv('input/dv.csv')\n",
    "col = db['dv']\n",
    "n = 0\n",
    "\n",
    "for _, row in df.iterrows()[-200]:\n",
    "    story_id = row['stories_id']\n",
    "    if col.find({'stories_id': story_id}).count() == 0:\n",
    "        url = row['url']\n",
    "        if url.endswith('.mp3'):\n",
    "            continue\n",
    "        text = get_text(url)\n",
    "        record = {\n",
    "            \"stories_id\" : row['stories_id'],\n",
    "            \"publish_date\" : row['publish_date'],\n",
    "            \"title\" : row['title'],\n",
    "            \"url\" : row['url'],\n",
    "            \"language\" : row['language'],\n",
    "            \"ap_syndicated\" : row['ap_syndicated'],\n",
    "            \"themes\" : row['themes'],\n",
    "            \"media_id\" : row['media_id'],\n",
    "            \"media_name\" : row['media_name'],\n",
    "            \"media_url\" : row['media_url'],\n",
    "            \"media_pub_country\" : row['media_pub_country'],\n",
    "            \"media_pub_state\" : row['media_pub_state'],\n",
    "            \"media_language\" : row['media_language'],\n",
    "            \"media_about_country\" : row['media_about_country'],\n",
    "            \"media_media_type\" : row['media_media_type'],\n",
    "            \"text\" : text\n",
    "        }\n",
    "        col.insert_one(record)\n",
    "        \n",
    "    n += 1\n",
    "    if n % 100 == 0:\n",
    "        print(n)"
   ]
  },
  {
   "cell_type": "code",
   "execution_count": 9,
   "metadata": {},
   "outputs": [
    {
     "name": "stdout",
     "output_type": "stream",
     "text": [
      "http://mpegmedia.abc.net.au/ra/MOD/RA_Podcast/PAB_PM_20170313.mp3\n"
     ]
    }
   ],
   "source": [
    "print(url)"
   ]
  },
  {
   "cell_type": "code",
   "execution_count": null,
   "metadata": {},
   "outputs": [],
   "source": []
  }
 ],
 "metadata": {
  "kernelspec": {
   "display_name": "Python 3",
   "language": "python",
   "name": "python3"
  },
  "language_info": {
   "codemirror_mode": {
    "name": "ipython",
    "version": 3
   },
   "file_extension": ".py",
   "mimetype": "text/x-python",
   "name": "python",
   "nbconvert_exporter": "python",
   "pygments_lexer": "ipython3",
   "version": "3.7.1"
  }
 },
 "nbformat": 4,
 "nbformat_minor": 2
}
