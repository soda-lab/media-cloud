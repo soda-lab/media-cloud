{
 "cells": [
  {
   "cell_type": "code",
   "execution_count": 1,
   "metadata": {},
   "outputs": [],
   "source": [
    "import re\n",
    "import numpy as np\n",
    "import pandas as pd\n",
    "\n",
    "# Gensim\n",
    "import gensim\n",
    "import gensim.corpora as corpora\n",
    "from gensim.utils import simple_preprocess\n",
    "from gensim.models import CoherenceModel\n",
    "\n",
    "# NLTK\n",
    "from nltk.corpus import stopwords\n",
    "from nltk import word_tokenize\n",
    "from nltk.stem.wordnet import WordNetLemmatizer\n",
    "\n",
    "# Plotting tools\n",
    "import pyLDAvis\n",
    "import pyLDAvis.gensim  # don't skip this\n",
    "import matplotlib.pyplot as plt\n",
    "%matplotlib inline\n",
    "\n",
    "# Enable logging for gensim - optional\n",
    "import logging\n",
    "logging.basicConfig(format='%(asctime)s : %(levelname)s : %(message)s', level=logging.ERROR)\n",
    "\n",
    "import warnings\n",
    "warnings.filterwarnings(\"ignore\",category=DeprecationWarning)"
   ]
  },
  {
   "cell_type": "code",
   "execution_count": 2,
   "metadata": {},
   "outputs": [],
   "source": [
    "lmtz = WordNetLemmatizer()\n",
    "\n",
    "\n",
    "def lemmatize(word):\n",
    "    if word.startswith('#'):\n",
    "        return word\n",
    "    \n",
    "    lemma = lmtz.lemmatize(word, 'v')\n",
    "    if lemma == word:\n",
    "        lemma = lmtz.lemmatize(word, 'n')\n",
    "    return lemma\n",
    "\n",
    "\n",
    "def strip_punc(s):\n",
    "    if s[0] == '#':\n",
    "        return s\n",
    "    return ''.join([c for c in s if c.isalpha()])"
   ]
  },
  {
   "cell_type": "markdown",
   "metadata": {},
   "source": [
    "### Stop words"
   ]
  },
  {
   "cell_type": "code",
   "execution_count": 3,
   "metadata": {},
   "outputs": [],
   "source": [
    "stop_words = [strip_punc(w) for w in stopwords.words('english')]\n",
    "stop_words.extend([\n",
    "    'i',\n",
    "    'u',\n",
    "    'r',\n",
    "    'im',\n",
    "    'cant',\n",
    "    'would',\n",
    "    'family',\n",
    "    'domestic',\n",
    "    'violence',\n",
    "    'australia',\n",
    "    'australian',\n",
    "    'dv',\n",
    "    'fv',\n",
    "    'wa',\n",
    "    'via',\n",
    "    'today',\n",
    "    'thing',\n",
    "    'make',\n",
    "    'talk',\n",
    "    'due',\n",
    "    'day',\n",
    "    'month',\n",
    "    'find',\n",
    "    'show',\n",
    "    'put',\n",
    "    'part',\n",
    "    'time',\n",
    "    'yeah',\n",
    "    'deal',\n",
    "    'big',\n",
    "    'level',\n",
    "    'focus',\n",
    "    'theyre',\n",
    "    'list',\n",
    "    'top',\n",
    "    'give',\n",
    "    'situation',\n",
    "    'lot',\n",
    "    'hold',\n",
    "    'number',\n",
    "    'include',\n",
    "    'form',\n",
    "    'back',\n",
    "    'involve',\n",
    "    'link',\n",
    "    'real'\n",
    "])"
   ]
  },
  {
   "cell_type": "markdown",
   "metadata": {},
   "source": [
    "### Data"
   ]
  },
  {
   "cell_type": "code",
   "execution_count": 5,
   "metadata": {},
   "outputs": [],
   "source": [
    "import configparser\n",
    "import warnings\n",
    "from pymongo import MongoClient\n",
    "\n",
    "warnings.filterwarnings(\"ignore\", category=DeprecationWarning)\n",
    "\n",
    "config = configparser.ConfigParser()\n",
    "config.read('config.ini')\n",
    "host = config['DEFAULT']['IP']\n",
    "port = config['DEFAULT']['MongoDB-Port']\n",
    "\n",
    "client = MongoClient(host, int(port))\n",
    "db = client['mediacloud']\n",
    "\n",
    "col_names = [\n",
    "    'dv', \n",
    "    'fv',\n",
    "    'dv-fv'\n",
    "]"
   ]
  },
  {
   "cell_type": "code",
   "execution_count": 7,
   "metadata": {},
   "outputs": [
    {
     "name": "stdout",
     "output_type": "stream",
     "text": [
      "5699\n"
     ]
    }
   ],
   "source": [
    "data = []\n",
    "\n",
    "for col_name in col_names:\n",
    "    for record in db[col_name].find():\n",
    "        if '2018' in record['publish_date']:\n",
    "            if record['text']:\n",
    "                data.append(record['text'])\n",
    "        \n",
    "print(len(data))"
   ]
  },
  {
   "cell_type": "markdown",
   "metadata": {},
   "source": [
    "### Preprocessing"
   ]
  },
  {
   "cell_type": "code",
   "execution_count": 8,
   "metadata": {},
   "outputs": [
    {
     "name": "stdout",
     "output_type": "stream",
     "text": [
      "0 100 200 300 400 500 600 700 800 900 1000 1100 1200 1300 1400 1500 1600 1700 1800 1900 2000 2100 2200 2300 2400 2500 2600 2700 2800 2900 3000 3100 3200 3300 3400 3500 3600 3700 3800 3900 4000 4100 4200 4300 4400 4500 4600 4700 4800 4900 5000 5100 5200 5300 5400 5500 5600 "
     ]
    }
   ],
   "source": [
    "set_cleaned_sent = set()\n",
    "data_lemmatized = []\n",
    "data_filtered = []\n",
    "\n",
    "for i, sent in enumerate(data):\n",
    "    \n",
    "    cleaned_sent = ''\n",
    "    for token in sent.split():\n",
    "        \n",
    "        # Cleaning\n",
    "        if token[0] in ['#','@','$','%','^','&','*'] or token.startswith('http'):\n",
    "            continue\n",
    "\n",
    "        # Remove puctuations, lower case\n",
    "        token = strip_punc(token.lower())\n",
    "        \n",
    "        # Lemmatize\n",
    "        lemma = lemmatize(token)\n",
    "\n",
    "        if lemma and lemma not in stop_words:\n",
    "            cleaned_sent += lemma + ' '\n",
    "    \n",
    "    cleaned_sent = cleaned_sent.strip()\n",
    "    \n",
    "    # Check for duplicates\n",
    "    if cleaned_sent and cleaned_sent not in set_cleaned_sent:\n",
    "        set_cleaned_sent.add(cleaned_sent)\n",
    "        data_lemmatized.append(cleaned_sent.split())\n",
    "        data_filtered.append(sent)\n",
    "        \n",
    "    if i % 100 == 0:\n",
    "        print(i, end=' ')"
   ]
  },
  {
   "cell_type": "code",
   "execution_count": 9,
   "metadata": {},
   "outputs": [
    {
     "data": {
      "text/plain": [
       "5420"
      ]
     },
     "execution_count": 9,
     "metadata": {},
     "output_type": "execute_result"
    }
   ],
   "source": [
    "len(data_lemmatized)"
   ]
  },
  {
   "cell_type": "markdown",
   "metadata": {},
   "source": [
    "### Creating Bigram and Trigram Models"
   ]
  },
  {
   "cell_type": "code",
   "execution_count": 11,
   "metadata": {},
   "outputs": [],
   "source": [
    "# Build the bigram and trigram models\n",
    "bigram = gensim.models.Phrases(data_lemmatized, min_count=5, threshold=100) # higher threshold fewer phrases.\n",
    "# trigram = gensim.models.Phrases(bigram[data_lemmatized], threshold=100)  \n",
    "\n",
    "# Faster way to get a Tweet clubbed as a trigram/bigram\n",
    "bigram_mod = gensim.models.phrases.Phraser(bigram)\n",
    "# trigram_mod = gensim.models.phrases.Phraser(trigram)"
   ]
  },
  {
   "cell_type": "code",
   "execution_count": 12,
   "metadata": {},
   "outputs": [],
   "source": [
    "def make_bigrams(texts):\n",
    "    return [bigram_mod[doc] for doc in texts]\n",
    "\n",
    "\n",
    "def make_trigrams(texts):\n",
    "    return [trigram_mod[bigram_mod[doc]] for doc in texts]"
   ]
  },
  {
   "cell_type": "code",
   "execution_count": 13,
   "metadata": {},
   "outputs": [],
   "source": [
    "data_lemmatized = make_bigrams(data_lemmatized)"
   ]
  },
  {
   "cell_type": "markdown",
   "metadata": {},
   "source": [
    "### Create the Dictionary and Corpus needed for Topic Modeling"
   ]
  },
  {
   "cell_type": "code",
   "execution_count": 14,
   "metadata": {},
   "outputs": [
    {
     "name": "stdout",
     "output_type": "stream",
     "text": [
      "[['come', 'new', 'year', 'resolution', 'bathurst', 'improve', 'health', 'people', 'come', 'surprise', 'popular', 'answer', 'question', 'whats', 'new', 'year', 'resolution', 'statistic', 'around', 'world', 'often', 'favour', 'resolution', 'mayor_graeme', 'hanger', 'one', 'bathurst', 'want', 'health', 'resolution', 'old', 'traditional', 'one', 'lose', 'bite', 'weight', 'get', 'fit', 'apple', 'keep', 'doctor', 'away', 'say', 'also', 'hop', 'spend', 'year', 'grandchild', 'weve', 'get', 'try', 'catch', 'say', 'member', 'bathurst', 'paul_toole', 'also', 'jump', 'board', 'health', 'fitness', 'bandwagon', 'new', 'year', 'resolution', 'get', 'fitter', 'say', 'mr', 'toole', 'also', 'want', 'difference', 'community', 'new', 'year', 'set', 'ambitious', 'careerrelated', 'goal', 'ive', 'set', 'goal', 'minimum', 'one', 'fund', 'announcement', 'bathurst', 'electorate', 'say', 'lifeline_central', 'west', 'executive_director', 'alex_ferguson', 'say', 'lifeline', 'good', 'year', 'across', 'board', 'resolution', 'keep', 'momentum', 'another', 'successful', 'year', 'saw', 'people', 'counsel', 'answer', 'call', 'lifeline', 'train', 'people', 'mental_health', 'say', 'barometer', 'use', 'good', 'year', 'cap', 'purchase', 'new', 'build', 'hope', 'stay', 'well', 'keep', 'busy', 'lifeline', 'hope', 'maintain', 'momentum', 'achieve', 'hope', 'continue', 'reach', 'people', 'encourage', 'hand', 'help', 'everyone', 'traditional', 'new', 'year', 'resolution', 'however', 'panorama', 'road', 'safety', 'matthew', 'irvine', 'goal', 'mind', 'rely', 'heavily', 'mother', 'nature', 'ive', 'become', 'license', 'snake', 'breeder', 'want', 'successfully', 'breed', 'two', 'spot', 'python', 'say', 'mr', 'irvine', 'need', 'wait', 'mid', 'late', 'winter', 'get', 'work', 'resolution', 'result', 'least', 'late', 'october', 'people', 'choose', 'resolution', 'former', 'bathurst', 'business', 'chamber', 'president', 'stacey', 'whittaker', 'say', 'one', 'resolution', 'new', 'year', 'roll', 'around', 'husband', 'mick', 'something', 'want', 'say', 'couple', 'resolution', 'yearold', 'daughter', 'tell', 'parent', 'want', 'get', 'fitter', 'year', 'completely', 'dead', 'whittaker', 'household', 'whittaker', 'say']]\n"
     ]
    }
   ],
   "source": [
    "# Create Dictionary\n",
    "id2word = corpora.Dictionary(data_lemmatized)\n",
    "\n",
    "# Create Corpus\n",
    "texts = data_lemmatized\n",
    "\n",
    "# Term Document Frequency\n",
    "corpus = [id2word.doc2bow(text) for text in texts]\n",
    "\n",
    "# View\n",
    "print(data_lemmatized[:1])"
   ]
  },
  {
   "cell_type": "markdown",
   "metadata": {},
   "source": [
    "### Building LDA Mallet Model\n",
    "Mallet’s version of LDA often gives a better quality of topics.\n",
    "Num of topics = 20 at this step."
   ]
  },
  {
   "cell_type": "code",
   "execution_count": 15,
   "metadata": {},
   "outputs": [],
   "source": [
    "# Download File: http://mallet.cs.umass.edu/dist/mallet-2.0.8.zip\n",
    "mallet_path = 'input/mallet-2.0.8/bin/mallet' # update this path\n",
    "# ldamallet = gensim.models.wrappers.LdaMallet(mallet_path, corpus=corpus, num_topics=12, id2word=id2word)"
   ]
  },
  {
   "cell_type": "markdown",
   "metadata": {},
   "source": [
    "### Optimal number of topics for LDA\n",
    "Build many LDA models with different values of number of topics (k) and pick the one that gives the highest coherence value."
   ]
  },
  {
   "cell_type": "code",
   "execution_count": 16,
   "metadata": {},
   "outputs": [],
   "source": [
    "def compute_coherence_values(dictionary, corpus, texts, limit, start=2, step=3):\n",
    "    \"\"\"\n",
    "    Compute c_v coherence for various number of topics\n",
    "\n",
    "    Parameters:\n",
    "    ----------\n",
    "    dictionary : Gensim dictionary\n",
    "    corpus : Gensim corpus\n",
    "    texts : List of input texts\n",
    "    limit : Max num of topics\n",
    "\n",
    "    Returns:\n",
    "    -------\n",
    "    model_list : List of LDA topic models\n",
    "    coherence_values : Coherence values corresponding to the LDA model with respective number of topics\n",
    "    \"\"\"\n",
    "    coherence_values = []\n",
    "    model_list = []\n",
    "    for num_topics in range(start, limit, step):\n",
    "        model = gensim.models.wrappers.LdaMallet(mallet_path, corpus=corpus, num_topics=num_topics, id2word=id2word)\n",
    "        model_list.append(model)\n",
    "        print(str(len(model_list)-1)+'-'+str(num_topics),end=' ')\n",
    "        coherencemodel = CoherenceModel(model=model, texts=texts, dictionary=dictionary, coherence='c_v')\n",
    "        coherence_values.append(coherencemodel.get_coherence())\n",
    "\n",
    "    return model_list, coherence_values"
   ]
  },
  {
   "cell_type": "markdown",
   "metadata": {},
   "source": [
    "#### Topic coherence provide a convenient measure to judge how good a given topic model is."
   ]
  },
  {
   "cell_type": "code",
   "execution_count": 18,
   "metadata": {},
   "outputs": [
    {
     "name": "stdout",
     "output_type": "stream",
     "text": [
      "0-5 1-7 2-9 3-11 4-13 "
     ]
    }
   ],
   "source": [
    "# Takes a long time to run.\n",
    "model_list, coherence_values = compute_coherence_values(dictionary=id2word, corpus=corpus, texts=data_lemmatized, start=5, limit=14, step=2)"
   ]
  },
  {
   "cell_type": "code",
   "execution_count": null,
   "metadata": {},
   "outputs": [],
   "source": [
    "# ml2, cv2 = compute_coherence_values(dictionary=id2word, corpus=corpus, texts=data_lemmatized, start=15, limit=20, step=2)\n",
    "# model_list.extend(ml2)\n",
    "# coherence_values.extend(cv2)"
   ]
  },
  {
   "cell_type": "markdown",
   "metadata": {},
   "source": [
    "# Graphs"
   ]
  },
  {
   "cell_type": "code",
   "execution_count": 21,
   "metadata": {},
   "outputs": [
    {
     "data": {
      "image/png": "[encoded data removed]",
      "text/plain": [
       "<Figure size 432x288 with 1 Axes>"
      ]
     },
     "metadata": {
      "needs_background": "light"
     },
     "output_type": "display_data"
    }
   ],
   "source": [
    "limit=20; start=5; step=2;\n",
    "x = range(start, limit, step)\n",
    "plt.figure().suptitle('2018')\n",
    "plt.plot(x, coherence_values)\n",
    "plt.xlabel(\"Num Topics\")\n",
    "plt.ylabel(\"Coherence score\")\n",
    "plt.legend((\"coherence_values\"), loc='best')\n",
    "plt.show()"
   ]
  },
  {
   "cell_type": "markdown",
   "metadata": {},
   "source": [
    "# Evaluation"
   ]
  },
  {
   "cell_type": "code",
   "execution_count": 29,
   "metadata": {
    "scrolled": false
   },
   "outputs": [
    {
     "data": {
      "text/html": [
       "\n",
       "<link rel=\"stylesheet\" type=\"text/css\" href=\"https://cdn.rawgit.com/bmabey/pyLDAvis/files/ldavis.v1.0.0.css\">\n",
       "\n",
       "\n",
       "<div id=\"ldavis_el403301127705359768196243842\"></div>\n",
       "<script type=\"text/javascript\">\n",
       "\n",
       "var ldavis_el403301127705359768196243842_data = {\"mdsDat\": {\"x\": [-0.02666458496588119, 0.03957564715175018, 0.24593166997228177, -0.3306220240903313, 0.07177929193218059], \"y\": [0.0017032044248475617, -0.18241550600023973, -0.12212121331153136, -0.038670165769370254, 0.3415036806562938], \"topics\": [1, 2, 3, 4, 5], \"cluster\": [1, 1, 1, 1, 1], \"Freq\": [22.83460593614139, 21.38040349208975, 19.147713223507353, 18.612946604304, 18.02433074395749]}, \"tinfo\": {\"Category\": [\"Default\", \"Default\", \"Default\", \"Default\", \"Default\", \"Default\", \"Default\", \"Default\", \"Default\", \"Default\", \"Default\", \"Default\", \"Default\", \"Default\", \"Default\", \"Default\", \"Default\", \"Default\", \"Default\", \"Default\", \"Default\", \"Default\", \"Default\", \"Default\", \"Default\", \"Default\", \"Default\", \"Default\", \"Default\", \"Default\", \"Topic1\", \"Topic1\", \"Topic1\", \"Topic1\", \"Topic1\", \"Topic1\", \"Topic1\", \"Topic1\", \"Topic1\", \"Topic1\", \"Topic1\", \"Topic1\", \"Topic1\", \"Topic1\", \"Topic1\", \"Topic1\", \"Topic1\", \"Topic1\", \"Topic1\", \"Topic1\", \"Topic1\", \"Topic1\", \"Topic1\", \"Topic1\", \"Topic1\", \"Topic1\", \"Topic1\", \"Topic1\", \"Topic1\", \"Topic1\", \"Topic1\", \"Topic1\", \"Topic1\", \"Topic1\", \"Topic1\", \"Topic1\", \"Topic1\", \"Topic1\", \"Topic1\", \"Topic1\", \"Topic1\", \"Topic1\", \"Topic1\", \"Topic1\", \"Topic1\", \"Topic1\", \"Topic1\", \"Topic1\", \"Topic1\", \"Topic1\", \"Topic1\", \"Topic1\", \"Topic1\", \"Topic1\", \"Topic1\", \"Topic1\", \"Topic1\", \"Topic1\", \"Topic1\", \"Topic1\", \"Topic1\", \"Topic1\", \"Topic1\", \"Topic1\", \"Topic1\", \"Topic1\", \"Topic1\", \"Topic1\", \"Topic1\", \"Topic1\", \"Topic1\", \"Topic1\", \"Topic1\", \"Topic1\", \"Topic1\", \"Topic1\", \"Topic1\", \"Topic1\", \"Topic1\", \"Topic1\", \"Topic1\", \"Topic1\", \"Topic1\", \"Topic1\", \"Topic1\", \"Topic1\", \"Topic1\", \"Topic1\", \"Topic1\", \"Topic1\", \"Topic1\", \"Topic1\", \"Topic1\", \"Topic1\", \"Topic1\", \"Topic1\", \"Topic2\", \"Topic2\", \"Topic2\", \"Topic2\", \"Topic2\", \"Topic2\", \"Topic2\", \"Topic2\", \"Topic2\", \"Topic2\", \"Topic2\", \"Topic2\", \"Topic2\", \"Topic2\", \"Topic2\", \"Topic2\", \"Topic2\", \"Topic2\", \"Topic2\", \"Topic2\", \"Topic2\", \"Topic2\", \"Topic2\", \"Topic2\", \"Topic2\", \"Topic2\", \"Topic2\", \"Topic2\", \"Topic2\", \"Topic2\", \"Topic2\", \"Topic2\", \"Topic2\", \"Topic2\", \"Topic2\", \"Topic2\", \"Topic2\", \"Topic2\", \"Topic2\", \"Topic2\", \"Topic2\", \"Topic2\", \"Topic2\", \"Topic2\", \"Topic2\", \"Topic2\", \"Topic2\", \"Topic2\", \"Topic2\", \"Topic2\", \"Topic2\", \"Topic2\", \"Topic2\", \"Topic2\", \"Topic2\", \"Topic2\", \"Topic2\", \"Topic2\", \"Topic2\", \"Topic2\", \"Topic2\", \"Topic2\", \"Topic2\", \"Topic2\", \"Topic2\", \"Topic2\", \"Topic2\", \"Topic2\", \"Topic2\", \"Topic2\", \"Topic2\", \"Topic2\", \"Topic2\", \"Topic2\", \"Topic2\", \"Topic2\", \"Topic2\", \"Topic2\", \"Topic2\", \"Topic2\", \"Topic2\", \"Topic2\", \"Topic2\", \"Topic2\", \"Topic2\", \"Topic2\", \"Topic3\", \"Topic3\", \"Topic3\", \"Topic3\", \"Topic3\", \"Topic3\", \"Topic3\", \"Topic3\", \"Topic3\", \"Topic3\", \"Topic3\", \"Topic3\", \"Topic3\", \"Topic3\", \"Topic3\", \"Topic3\", \"Topic3\", \"Topic3\", \"Topic3\", \"Topic3\", \"Topic3\", \"Topic3\", \"Topic3\", \"Topic3\", \"Topic3\", \"Topic3\", \"Topic3\", \"Topic3\", \"Topic3\", \"Topic3\", \"Topic3\", \"Topic3\", \"Topic3\", \"Topic3\", \"Topic3\", \"Topic3\", \"Topic3\", \"Topic3\", \"Topic3\", \"Topic3\", \"Topic3\", \"Topic3\", \"Topic3\", \"Topic3\", \"Topic3\", \"Topic3\", \"Topic3\", \"Topic3\", \"Topic3\", \"Topic3\", \"Topic3\", \"Topic3\", \"Topic3\", \"Topic3\", \"Topic3\", \"Topic3\", \"Topic3\", \"Topic3\", \"Topic3\", \"Topic3\", \"Topic3\", \"Topic3\", \"Topic3\", \"Topic3\", \"Topic3\", \"Topic3\", \"Topic3\", \"Topic3\", \"Topic3\", \"Topic3\", \"Topic3\", \"Topic3\", \"Topic3\", \"Topic3\", \"Topic3\", \"Topic3\", \"Topic3\", \"Topic3\", \"Topic3\", \"Topic3\", \"Topic3\", \"Topic3\", \"Topic3\", \"Topic3\", \"Topic3\", \"Topic3\", \"Topic3\", \"Topic3\", \"Topic3\", \"Topic4\", \"Topic4\", \"Topic4\", \"Topic4\", \"Topic4\", \"Topic4\", \"Topic4\", \"Topic4\", \"Topic4\", \"Topic4\", \"Topic4\", \"Topic4\", \"Topic4\", \"Topic4\", \"Topic4\", \"Topic4\", \"Topic4\", \"Topic4\", \"Topic4\", \"Topic4\", \"Topic4\", \"Topic4\", \"Topic4\", \"Topic4\", \"Topic4\", \"Topic4\", \"Topic4\", \"Topic4\", \"Topic4\", \"Topic4\", \"Topic4\", \"Topic4\", \"Topic4\", \"Topic4\", \"Topic4\", \"Topic4\", \"Topic4\", \"Topic4\", \"Topic4\", \"Topic4\", \"Topic4\", \"Topic4\", \"Topic4\", \"Topic4\", \"Topic4\", \"Topic4\", \"Topic4\", \"Topic4\", \"Topic4\", \"Topic4\", \"Topic4\", \"Topic4\", \"Topic4\", \"Topic4\", \"Topic4\", \"Topic4\", \"Topic4\", \"Topic4\", \"Topic4\", \"Topic4\", \"Topic4\", \"Topic4\", \"Topic4\", \"Topic4\", \"Topic4\", \"Topic4\", \"Topic4\", \"Topic4\", \"Topic4\", \"Topic4\", \"Topic4\", \"Topic4\", \"Topic4\", \"Topic4\", \"Topic4\", \"Topic4\", \"Topic4\", \"Topic4\", \"Topic4\", \"Topic4\", \"Topic4\", \"Topic4\", \"Topic4\", \"Topic5\", \"Topic5\", \"Topic5\", \"Topic5\", \"Topic5\", \"Topic5\", \"Topic5\", \"Topic5\", \"Topic5\", \"Topic5\", \"Topic5\", \"Topic5\", \"Topic5\", \"Topic5\", \"Topic5\", \"Topic5\", \"Topic5\", \"Topic5\", \"Topic5\", \"Topic5\", \"Topic5\", \"Topic5\", \"Topic5\", \"Topic5\", \"Topic5\", \"Topic5\", \"Topic5\", \"Topic5\", \"Topic5\", \"Topic5\", \"Topic5\", \"Topic5\", \"Topic5\", \"Topic5\", \"Topic5\", \"Topic5\", \"Topic5\", \"Topic5\", \"Topic5\", \"Topic5\", \"Topic5\", \"Topic5\", \"Topic5\", \"Topic5\", \"Topic5\", \"Topic5\", \"Topic5\", \"Topic5\", \"Topic5\", \"Topic5\", \"Topic5\", \"Topic5\", \"Topic5\", \"Topic5\", \"Topic5\", \"Topic5\", \"Topic5\", \"Topic5\", \"Topic5\", \"Topic5\", \"Topic5\", \"Topic5\", \"Topic5\", \"Topic5\", \"Topic5\", \"Topic5\", \"Topic5\", \"Topic5\", \"Topic5\", \"Topic5\", \"Topic5\", \"Topic5\", \"Topic5\", \"Topic5\", \"Topic5\", \"Topic5\", \"Topic5\", \"Topic5\", \"Topic5\", \"Topic5\", \"Topic5\", \"Topic5\"], \"Freq\": [12222.0, 16409.0, 9049.0, 7567.0, 5987.0, 6068.0, 11026.0, 4842.0, 5229.0, 3749.0, 3058.0, 3061.0, 3326.0, 8182.0, 3297.0, 2903.0, 4254.0, 2438.0, 2264.0, 2229.0, 3087.0, 2330.0, 2990.0, 4397.0, 3585.0, 2525.0, 1881.0, 3908.0, 2162.0, 1898.0, 1.2169826805085866, 3.65094804152576, 1.2169826805085866, 1.2169826805085866, 1.2169826805085866, 1.2169826805085866, 1.2169826805085866, 1.2169826805085866, 9.735861444068693, 1.2169826805085866, 6.0849134025429334, 4.867930722034346, 3.65094804152576, 3.65094804152576, 1.2169826805085866, 3.65094804152576, 1.2169826805085866, 2.433965361017173, 1.2169826805085866, 1.2169826805085866, 10.95284412457728, 1.2169826805085866, 3.65094804152576, 1.2169826805085866, 9.735861444068693, 8.518878763560107, 1.2169826805085866, 1.2169826805085866, 1.2169826805085866, 3.65094804152576, 3749.523638646955, 1941.0873754111956, 2883.031970124842, 1348.416810003514, 1027.133382349247, 1007.6616594611098, 682.727283765317, 642.5668553085337, 601.1894441712418, 564.6799637559842, 541.557292826321, 540.3403101458124, 519.6516045771665, 517.2176392161493, 509.91574313309775, 495.31195096699474, 365.094804152576, 357.79290806952446, 343.18911590342145, 292.0758433220608, 289.64187796104363, 371.17971755511894, 356.5759253890159, 256.78334558731177, 253.13239754578603, 251.91541486527746, 251.91541486527746, 240.96257074070013, 238.52860537968297, 237.3116226991744, 13597.34748932244, 561.0290157144584, 851.8878763560106, 1358.1526714475826, 817.8123613017702, 423.5099728169881, 564.6799637559842, 1697.6908393094782, 1332.5960351569024, 864.0577031610966, 2455.871049266328, 1750.0210945713477, 1220.6336285501125, 1597.8982595077741, 1394.6621518628401, 1150.0486330806143, 2241.682097496817, 805.6425344966843, 3322.3627177884414, 631.6140111839564, 1260.7940570068956, 1024.6994169882298, 875.0105472856739, 1636.8417052840489, 965.0672656433092, 1577.2095539391285, 1611.2850689933687, 2466.823893390905, 1589.379380744214, 1237.6713860772327, 1696.4738566289698, 1238.888368757741, 1113.5391526653568, 1265.6619877289302, 1489.58680094251, 1120.8410487484084, 6.007580613383037, 12.015161226766073, 12.015161226766073, 6.007580613383037, 6.007580613383037, 6.007580613383037, 6.007580613383037, 12.015161226766073, 12.015161226766073, 6.007580613383037, 6.007580613383037, 6.007580613383037, 12.015161226766073, 24.030322453532147, 39.65003204832804, 6.007580613383037, 87.71067695539233, 34.84396755762161, 24.030322453532147, 6.007580613383037, 12.015161226766073, 12.015161226766073, 6.007580613383037, 6.007580613383037, 6.007580613383037, 6.007580613383037, 6.007580613383037, 6.007580613383037, 12.015161226766073, 6.007580613383037, 3314.98298246476, 2330.9412779926183, 1897.193957706363, 1595.6134109145348, 1260.3904126877612, 1178.6873163457517, 1121.0145424572747, 1058.5357040780912, 884.315866289983, 875.9052534312468, 863.8900922044808, 825.4415762788293, 821.8370279107994, 732.9248348327304, 713.7005768699048, 662.0353835948107, 657.2293191041042, 654.826286858751, 641.6096095093084, 618.7808031784527, 576.7277388847715, 529.8686101003839, 511.84586826023474, 507.03980376952836, 493.8231264200856, 455.3746104944342, 449.36702988105117, 438.5533847769617, 430.14277191822544, 425.33670742751906, 662.0353835948107, 4503.282427791924, 812.2248989293867, 1173.8812518550455, 1517.514862940555, 3072.2767256840852, 920.3613499702813, 2726.240082353222, 1283.2192190186167, 1805.878732382941, 1397.3632506728943, 1394.9602184275411, 1581.1952174424152, 1825.1029903457666, 1286.8237673866465, 3013.4024356729315, 2191.5654077621316, 1039.3114461152654, 1417.7890247583969, 1155.8585100148964, 1223.1434128847864, 1149.8509294015132, 1434.6102504758692, 968.4219948773455, 1104.1933167398022, 998.4598979442608, 15.219469399613436, 25.756025137807356, 3.5121852460646394, 19.902383061032957, 3.5121852460646394, 7.024370492129279, 3.5121852460646394, 62.04860601380863, 7.024370492129279, 7.024370492129279, 3.5121852460646394, 21.073111476387837, 3.5121852460646394, 3.5121852460646394, 30.43893879922687, 3.5121852460646394, 10.536555738193918, 7.024370492129279, 118.24356995084285, 25.756025137807356, 26.926753553162236, 10.536555738193918, 3.5121852460646394, 7.024370492129279, 15.219469399613436, 7.024370492129279, 3.5121852460646394, 3.5121852460646394, 7.024370492129279, 3.5121852460646394, 9049.730650693222, 7567.588476853943, 3061.4548061530104, 1418.9228394101142, 1198.825897323397, 1153.1674891245566, 1089.9481546953932, 913.1681639768062, 897.9486945771929, 1178.923514262364, 852.2902863783524, 832.3879033173196, 766.8271120574462, 640.3884431991193, 519.8034164175666, 516.291231171502, 495.2181196951141, 468.2913661419519, 441.36461258878967, 437.85242734272504, 426.1451431891762, 612.2909612306021, 376.9745497442713, 337.1697836222054, 321.95031422259194, 318.4381289765273, 296.1942890847846, 291.51137542336505, 289.16991859265534, 269.26753553162234, 5817.349495898397, 1624.9710405125732, 1548.873693514506, 1695.214745433866, 1982.0432071958114, 2168.1890252372373, 2576.773242196091, 1134.4358344788784, 1868.4825509063883, 7125.053135849798, 1093.4603399414577, 1087.6066978646834, 1941.0677126583905, 1190.6307984159127, 2247.7985574813692, 3343.600354253537, 1856.7752667528393, 1784.1901050008369, 2007.7992323336189, 2030.0430722253616, 2992.3818296470727, 2827.309123082035, 2658.724231270932, 2809.7481968517113, 1447.0203213786313, 1437.6544940557924, 1244.4843055222373, 1225.752650876559, 1199.9966257387518, 5.801071055332684, 10.44192789959883, 8.121499477465758, 8.121499477465758, 12.762356321731904, 32.48599790986303, 10.44192789959883, 40.607497387328785, 5.801071055332684, 5.801071055332684, 8.121499477465758, 8.121499477465758, 8.121499477465758, 15.082784743864979, 10.44192789959883, 5.801071055332684, 5.801071055332684, 12.762356321731904, 45.24835423159493, 16.242998954931515, 5.801071055332684, 11.602142110665367, 11.602142110665367, 10.44192789959883, 46.40856844266147, 5.801071055332684, 11.602142110665367, 15.082784743864979, 26.684926854530346, 15.082784743864979, 12222.856713585967, 5987.865543314397, 3058.324660371391, 2438.7702716618605, 2264.73814000188, 2229.9317136698837, 1881.8674503499226, 1500.156974909032, 1422.4226227675742, 1349.3291274703822, 1232.1474921526622, 1192.7002089763998, 877.1219435663018, 829.5531609125738, 741.3768808715171, 645.0791013529944, 609.1124608099318, 531.3781086684738, 498.89211075861084, 4726.712695885071, 422.3179728282194, 418.8373301950198, 416.5169017728867, 416.5169017728867, 416.5169017728867, 401.4341170290217, 381.7104754408906, 377.0696185966245, 466.4061128487478, 351.54490595316065, 715.8521682280532, 2923.7398118876727, 1365.5721264253139, 1378.3344827470457, 1517.56018807503, 2365.6767763646685, 931.652011486429, 787.7854493141784, 777.3435214145796, 1892.3093782495216, 2798.436677092487, 855.0778735560376, 2153.3575757394924, 3163.904153578446, 987.3422936176229, 1539.6042580852943, 1372.533411691713, 1105.6841431464095, 1505.9580459643646, 1103.3637147242764, 1471.1516196323687, 1182.258281076801, 1048.8336468041493, 272.02846354227717, 288.9546790515744, 1.209015393521232, 10.881138541691087, 1.209015393521232, 1.209015393521232, 2.418030787042464, 2.418030787042464, 1.209015393521232, 1.209015393521232, 2.418030787042464, 1.209015393521232, 1.209015393521232, 1.209015393521232, 1.209015393521232, 1.209015393521232, 3.6270461805636955, 2.418030787042464, 1.209015393521232, 4.836061574084928, 2.418030787042464, 1.209015393521232, 1.209015393521232, 2.418030787042464, 1.209015393521232, 13.299169328733552, 1.209015393521232, 2.418030787042464, 1.209015393521232, 1.209015393521232, 1374.6505024336407, 1327.4989020863127, 1001.06474583558, 1200.5522857665833, 956.3311762752944, 857.1919140065534, 737.4993900479514, 726.6182515062604, 709.6920359969631, 617.8068660893495, 606.9257275476583, 593.6265582189249, 542.8479116910331, 535.5938193299057, 492.0692651631413, 437.66357245468595, 417.110310764825, 385.67591053327294, 373.58575659806064, 359.07757187580586, 357.86855648228465, 308.2989253479141, 297.41778680622303, 396.5570490749641, 286.53664826453195, 281.700586690447, 279.28255590340456, 274.4464943293196, 1916.2893987311525, 738.7084054414727, 973.2573917845916, 696.3928666682295, 511.4135114594811, 495.6963113437051, 486.0241881955352, 824.54849838148, 1140.1015160905217, 958.7492070623368, 906.7615451409239, 3598.029811119186, 949.0770839141669, 736.2903746544303, 762.8887133118973, 1089.3228695626299, 900.7164681733177, 672.212558797805, 772.5608364600671, 748.3805285896425, 903.1344989603601, 709.6920359969631, 634.7330815986468, 619.0158814828708], \"Term\": [\"police\", \"woman\", \"community\", \"service\", \"court\", \"support\", \"people\", \"man\", \"government\", \"men\", \"charge\", \"program\", \"per_cent\", \"mr\", \"crime\", \"abuse\", \"report\", \"incident\", \"assault\", \"yearold\", \"provide\", \"law\", \"officer\", \"victim\", \"experience\", \"fund\", \"offence\", \"state\", \"event\", \"system\", \"fuelcheck\", \"envisage\", \"cheetoshuffing\", \"celibate\", \"cavechested\", \"basementdwelling\", \"ratcliffe\", \"purer\", \"enormity\", \"dissolute\", \"afresh\", \"timid\", \"loriens\", \"lorien\", \"indis\", \"flinch\", \"cutesy\", \"degenerate\", \"demimonde\", \"douchepistols\", \"dude\", \"everpopular\", \"goodlooking\", \"hyperbolically\", \"incel\", \"incels\", \"internetting\", \"loserdom\", \"manosphere\", \"minassian\", \"men\", \"feel\", \"abuse\", \"write\", \"husband\", \"boy\", \"felt\", \"word\", \"kind\", \"moment\", \"sense\", \"bad\", \"marriage\", \"abusive\", \"emotional\", \"realise\", \"marry\", \"attitude\", \"divorce\", \"rap\", \"dad\", \"id\", \"bully\", \"angry\", \"character\", \"survive\", \"muslim\", \"silence\", \"childhood\", \"abuser\", \"woman\", \"sex\", \"male\", \"girl\", \"ive\", \"gender\", \"mum\", \"happen\", \"behaviour\", \"female\", \"life\", \"story\", \"love\", \"speak\", \"relationship\", \"friend\", \"live\", \"control\", \"child\", \"conversation\", \"mother\", \"world\", \"sexual\", \"change\", \"parent\", \"experience\", \"home\", \"people\", \"call\", \"partner\", \"work\", \"leave\", \"start\", \"victim\", \"year\", \"young\", \"fourhour\", \"oust\", \"silver_bullet\", \"gatekeeper\", \"muellers\", \"inhibit\", \"ashburton\", \"mcgahn\", \"stark_contrast\", \"mccurdy\", \"recklessness\", \"hotly\", \"plug\", \"privatisation\", \"privatise\", \"lutz\", \"rollout\", \"busiest\", \"theft_motor\", \"flint\", \"liberalnational\", \"east_timor\", \"garlic\", \"cashless\", \"detonate\", \"wgea\", \"canberrabased\", \"threeyearolds\", \"hamas\", \"termite\", \"per_cent\", \"law\", \"system\", \"pay\", \"labor\", \"party\", \"policy\", \"federal\", \"data\", \"figure\", \"cost\", \"parliament\", \"review\", \"rate\", \"election\", \"rat\", \"mp\", \"vote\", \"reform\", \"commission\", \"legislation\", \"trump\", \"introduce\", \"employee\", \"liberal\", \"private\", \"royal_commission\", \"measure\", \"seat\", \"scheme\", \"bill\", \"government\", \"victorian\", \"minister\", \"record\", \"report\", \"decision\", \"state\", \"concern\", \"increase\", \"million\", \"victoria\", \"health\", \"house\", \"public\", \"year\", \"mr\", \"national\", \"issue\", \"act\", \"change\", \"case\", \"people\", \"access\", \"leave\", \"week\", \"onebedroom\", \"designate\", \"wingewarra\", \"factor_contribute\", \"tarasinski\", \"oasis\", \"noelene\", \"curriculum\", \"buck_trend\", \"lytzki\", \"oration\", \"vocational\", \"heald\", \"bugbear\", \"odonnell\", \"kadina\", \"certificate_ii\", \"warrina_specialist\", \"educator\", \"medicine_field\", \"medicine_particularly\", \"melton\", \"schs\", \"sacwa\", \"trench\", \"iga_supermarket\", \"lois\", \"surat\", \"protea\", \"rajwa\", \"community\", \"service\", \"program\", \"homelessness\", \"mental_health\", \"education\", \"youth\", \"crisis\", \"regional\", \"homeless\", \"aboriginal\", \"aim\", \"prevention\", \"initiative\", \"specialist\", \"assistance\", \"facility\", \"accommodation\", \"shelter\", \"disability\", \"rural\", \"refuge\", \"shire\", \"disadvantage\", \"dedicate\", \"poverty\", \"wellbeing\", \"bendigo\", \"hub\", \"addiction\", \"support\", \"organisation\", \"region\", \"council\", \"centre\", \"fund\", \"provide\", \"please_note\", \"area\", \"people\", \"online_discussion\", \"term_condition\", \"nsw\", \"social\", \"local\", \"work\", \"young\", \"school\", \"experience\", \"issue\", \"child\", \"mr\", \"year\", \"woman\", \"health\", \"live\", \"group\", \"member\", \"house\", \"valencia\", \"hetty_johnston\", \"fatherofthree\", \"financial_planner\", \"william_joan\", \"carriage\", \"livestreamed\", \"munday\", \"bita\", \"jiujitsu\", \"wood_brazilian\", \"firstdegree_murder\", \"mrdeadmoth\", \"feldman\", \"tiahleigh_palmer\", \"herrod\", \"mercael\", \"mundays\", \"ridgeway\", \"keogh\", \"volusia\", \"perjury\", \"fiance\", \"livestream\", \"endanger\", \"paepaeris\", \"manifestly_inadequate\", \"extraordinarily\", \"extradite\", \"track_device\", \"police\", \"court\", \"charge\", \"incident\", \"assault\", \"yearold\", \"offence\", \"sentence\", \"magistrate\", \"arrest\", \"jail\", \"allege\", \"offender\", \"allegedly\", \"bail\", \"plead_guilty\", \"vehicle\", \"custody\", \"steal\", \"man\", \"problem_might\", \"international_treaty\", \"refer_helpful\", \"faq_section\", \"unauthorised_reproduction\", \"offend\", \"detective\", \"knife\", \"yesterday\", \"prosecutor\", \"injury\", \"crime\", \"car\", \"drug\", \"order\", \"officer\", \"station\", \"accuse\", \"breach\", \"hear\", \"victim\", \"judge\", \"home\", \"mr\", \"release\", \"case\", \"partner\", \"murder\", \"call\", \"face\", \"year\", \"report\", \"leave\", \"winner\", \"fun\", \"relase\", \"locale\", \"loretto\", \"lorett\", \"lorena\", \"longworth\", \"loizou\", \"loiero\", \"lodding\", \"lockart\", \"livingstonthe\", \"lilajean\", \"liverrmoore\", \"littlewood\", \"linus\", \"linnert\", \"lindsy\", \"lindsey\", \"lindfield\", \"lindbeck\", \"limeburners\", \"lorn\", \"louie\", \"louisa\", \"luschwitz\", \"macklin\", \"mackander\", \"macka\", \"club\", \"comment_bind\", \"game\", \"award\", \"white_ribbon\", \"sport\", \"charity\", \"player\", \"christmas\", \"donate\", \"peter\", \"donation\", \"nrl\", \"star\", \"bag\", \"item\", \"music\", \"art\", \"newcastle\", \"enjoy\", \"animal\", \"race\", \"college\", \"season\", \"ambassador\", \"rugby_league\", \"coach\", \"football\", \"event\", \"john\", \"park\", \"win\", \"weekend\", \"gympie\", \"career\", \"great\", \"business\", \"play\", \"team\", \"year\", \"run\", \"raise\", \"night\", \"local\", \"group\", \"open\", \"start\", \"member\", \"work\", \"school\", \"march\", \"street\"], \"Total\": [12222.0, 16409.0, 9049.0, 7567.0, 5987.0, 6068.0, 11026.0, 4842.0, 5229.0, 3749.0, 3058.0, 3061.0, 3326.0, 8182.0, 3297.0, 2903.0, 4254.0, 2438.0, 2264.0, 2229.0, 3087.0, 2330.0, 2990.0, 4397.0, 3585.0, 2525.0, 1881.0, 3908.0, 2162.0, 1898.0, 1.2169826805085866, 3.65094804152576, 1.2169826805085866, 1.2169826805085866, 1.2169826805085866, 1.2169826805085866, 1.2169826805085866, 1.2169826805085866, 9.735861444068693, 1.2169826805085866, 6.0849134025429334, 4.867930722034346, 3.65094804152576, 3.65094804152576, 1.2169826805085866, 3.65094804152576, 1.2169826805085866, 2.433965361017173, 1.2169826805085866, 1.2169826805085866, 10.95284412457728, 1.2169826805085866, 3.65094804152576, 1.2169826805085866, 9.735861444068693, 8.518878763560107, 1.2169826805085866, 1.2169826805085866, 1.2169826805085866, 3.65094804152576, 3749.523638646955, 1941.0873754111956, 2903.457744210344, 1348.416810003514, 1027.133382349247, 1007.6616594611098, 682.727283765317, 642.5668553085337, 601.1894441712418, 564.6799637559842, 541.557292826321, 540.3403101458124, 519.6516045771665, 517.2176392161493, 509.91574313309775, 495.31195096699474, 365.094804152576, 357.79290806952446, 343.18911590342145, 292.0758433220608, 289.64187796104363, 372.3504459704738, 357.74665380437074, 256.78334558731177, 253.13239754578603, 251.91541486527746, 251.91541486527746, 240.96257074070013, 238.52860537968297, 237.3116226991744, 16409.416114596283, 585.3935141468556, 909.8985869093374, 1500.8590194087667, 875.8451001907894, 437.55871380124665, 597.3233793810575, 1957.6201244999925, 1506.6281668168829, 946.8745087269311, 2951.212561061296, 2106.680635660111, 1469.6907996154862, 2036.5478488171193, 1770.3891630361472, 1411.4006518331594, 3820.9502863820085, 975.056307794086, 7973.340072308963, 697.1748024438298, 2021.9576646922737, 1491.3793588874253, 1176.5910940775022, 3309.5448296651093, 1443.0283584956712, 3585.0087862727473, 4261.596232670229, 11026.487279716574, 4256.504946514009, 2615.0108622596517, 6756.63512489493, 3391.9153323016926, 2352.1481780146096, 4397.044963780641, 12230.894898637927, 2977.6163155012478, 6.007580613383037, 12.015161226766073, 12.015161226766073, 6.007580613383037, 6.007580613383037, 6.007580613383037, 6.007580613383037, 12.015161226766073, 12.015161226766073, 6.007580613383037, 6.007580613383037, 6.007580613383037, 12.015161226766073, 24.030322453532147, 39.65003204832804, 6.007580613383037, 87.71067695539233, 34.84396755762161, 24.030322453532147, 6.007580613383037, 12.015161226766073, 12.015161226766073, 6.007580613383037, 6.007580613383037, 6.007580613383037, 6.007580613383037, 6.007580613383037, 6.007580613383037, 12.015161226766073, 6.007580613383037, 3326.6902666183087, 2330.9412779926183, 1898.4029730998843, 1595.6134109145348, 1260.3904126877612, 1178.6873163457517, 1121.0145424572747, 1058.5357040780912, 884.315866289983, 875.9052534312468, 863.8900922044808, 825.4415762788293, 821.8370279107994, 732.9248348327304, 713.7005768699048, 662.0353835948107, 657.2293191041042, 654.826286858751, 641.6096095093084, 618.7808031784527, 576.7277388847715, 529.8686101003839, 511.84586826023474, 507.03980376952836, 493.8231264200856, 455.3746104944342, 449.36702988105117, 438.5533847769617, 430.14277191822544, 425.33670742751906, 672.9244894234891, 5229.13404531195, 850.8589366360977, 1323.7344890204702, 1785.5243456969251, 4254.535006760886, 1037.1916872991055, 3908.1852659994474, 1563.9910580967187, 2454.4622744895446, 1831.7034927695547, 1907.7392643529784, 3029.432521501555, 4007.801052857875, 2296.0870860391487, 12230.894898637927, 8182.778684422612, 1661.7608349875536, 3901.7666368134614, 2415.0899371404826, 3309.5448296651093, 3059.417922361418, 11026.487279716574, 1487.0546828795573, 3391.9153323016926, 3345.8601894109884, 15.219469399613436, 25.756025137807356, 3.5121852460646394, 19.902383061032957, 3.5121852460646394, 7.024370492129279, 3.5121852460646394, 62.04860601380863, 7.024370492129279, 7.024370492129279, 3.5121852460646394, 21.073111476387837, 3.5121852460646394, 3.5121852460646394, 30.43893879922687, 3.5121852460646394, 10.536555738193918, 7.024370492129279, 118.24356995084285, 25.756025137807356, 26.926753553162236, 10.536555738193918, 3.5121852460646394, 7.024370492129279, 15.219469399613436, 7.024370492129279, 3.5121852460646394, 3.5121852460646394, 7.024370492129279, 3.5121852460646394, 9049.730650693222, 7567.588476853943, 3061.4548061530104, 1418.9228394101142, 1198.825897323397, 1153.1674891245566, 1089.9481546953932, 913.1681639768062, 897.9486945771929, 1182.4041568955636, 852.2902863783524, 832.3879033173196, 766.8271120574462, 640.3884431991193, 519.8034164175666, 516.291231171502, 495.2181196951141, 468.2913661419519, 441.36461258878967, 437.85242734272504, 426.1451431891762, 614.7249265916192, 376.9745497442713, 337.1697836222054, 321.95031422259194, 318.4381289765273, 296.1942890847846, 291.51137542336505, 289.16991859265534, 269.26753553162234, 6068.651964231793, 1694.6589756278163, 1621.4146171257798, 1854.8047773786686, 2257.6987169186523, 2525.0393136721896, 3087.417594333649, 1297.6529126042446, 2286.4186947837356, 11026.487279716574, 1292.947879872461, 1297.9753763373778, 2799.9528178203036, 1523.3058495954488, 3831.3726809583436, 6756.63512489493, 2977.6163155012478, 2877.2316853580046, 3585.0087862727473, 3901.7666368134614, 7973.340072308963, 8182.778684422612, 12230.894898637927, 16409.416114596283, 3029.432521501555, 3820.9502863820085, 2527.3333353752514, 2500.074347277644, 4007.801052857875, 5.801071055332684, 10.44192789959883, 8.121499477465758, 8.121499477465758, 12.762356321731904, 32.48599790986303, 10.44192789959883, 40.607497387328785, 5.801071055332684, 5.801071055332684, 8.121499477465758, 8.121499477465758, 8.121499477465758, 15.082784743864979, 10.44192789959883, 5.801071055332684, 5.801071055332684, 12.762356321731904, 45.24835423159493, 16.242998954931515, 5.801071055332684, 11.602142110665367, 11.602142110665367, 10.44192789959883, 46.40856844266147, 5.801071055332684, 11.602142110665367, 15.082784743864979, 26.684926854530346, 15.082784743864979, 12222.856713585967, 5987.865543314397, 3058.324660371391, 2438.7702716618605, 2264.73814000188, 2229.9317136698837, 1881.8674503499226, 1500.156974909032, 1422.4226227675742, 1349.3291274703822, 1232.1474921526622, 1192.7002089763998, 877.1219435663018, 829.5531609125738, 741.3768808715171, 645.0791013529944, 609.1124608099318, 531.3781086684738, 498.89211075861084, 4842.326050533387, 422.3179728282194, 418.8373301950198, 416.5169017728867, 416.5169017728867, 416.5169017728867, 401.4341170290217, 381.7104754408906, 377.0696185966245, 467.6076289714244, 351.54490595316065, 723.0679736110143, 3297.4113260400977, 1525.5605227194842, 1606.6265237412472, 1803.5210252720626, 2990.845750164174, 1039.733188790994, 868.2870295335111, 874.6663273513849, 2599.3763156250106, 4397.044963780641, 996.2478644950337, 4261.596232670229, 8182.778684422612, 1311.7516467403068, 3059.417922361418, 2615.0108622596517, 1744.6000504134176, 4256.504946514009, 2161.555888835332, 12230.894898637927, 4254.535006760886, 3391.9153323016926, 272.02846354227717, 288.9546790515744, 1.209015393521232, 10.881138541691087, 1.209015393521232, 1.209015393521232, 2.418030787042464, 2.418030787042464, 1.209015393521232, 1.209015393521232, 2.418030787042464, 1.209015393521232, 1.209015393521232, 1.209015393521232, 1.209015393521232, 1.209015393521232, 3.6270461805636955, 2.418030787042464, 1.209015393521232, 4.836061574084928, 2.418030787042464, 1.209015393521232, 1.209015393521232, 2.418030787042464, 1.209015393521232, 13.299169328733552, 1.209015393521232, 2.418030787042464, 1.209015393521232, 1.209015393521232, 1374.6505024336407, 1327.4989020863127, 1001.06474583558, 1202.893742597293, 956.3311762752944, 857.1919140065534, 737.4993900479514, 726.6182515062604, 709.6920359969631, 617.8068660893495, 606.9257275476583, 593.6265582189249, 542.8479116910331, 535.5938193299057, 492.0692651631413, 437.66357245468595, 417.110310764825, 385.67591053327294, 373.58575659806064, 359.07757187580586, 357.86855648228465, 308.2989253479141, 297.41778680622303, 397.77403175547266, 286.53664826453195, 281.700586690447, 279.28255590340456, 274.4464943293196, 2162.142365955677, 808.6051416212501, 1109.0024544793764, 787.7080919916517, 575.2252930681406, 557.1876645302316, 545.656339540456, 1131.5025205549491, 1831.7801313169698, 1460.1460714318746, 1386.7601954364245, 12230.894898637927, 1952.1795837829197, 1387.9551762700364, 1635.312512660625, 3831.3726809583436, 2527.3333353752514, 1264.5930429920961, 2352.1481780146096, 2500.074347277644, 6756.63512489493, 2877.2316853580046, 1185.3354482299465, 1511.325310822163], \"loglift\": [30.0, 29.0, 28.0, 27.0, 26.0, 25.0, 24.0, 23.0, 22.0, 21.0, 20.0, 19.0, 18.0, 17.0, 16.0, 15.0, 14.0, 13.0, 12.0, 11.0, 10.0, 9.0, 8.0, 7.0, 6.0, 5.0, 4.0, 3.0, 2.0, 1.0, 1.4769, 1.4769, 1.4769, 1.4769, 1.4769, 1.4769, 1.4769, 1.4769, 1.4769, 1.4769, 1.4769, 1.4769, 1.4769, 1.4769, 1.4769, 1.4769, 1.4769, 1.4769, 1.4769, 1.4769, 1.4769, 1.4769, 1.4769, 1.4769, 1.4769, 1.4769, 1.4769, 1.4769, 1.4769, 1.4769, 1.4769, 1.4769, 1.4698, 1.4769, 1.4769, 1.4769, 1.4769, 1.4769, 1.4769, 1.4769, 1.4769, 1.4769, 1.4769, 1.4769, 1.4769, 1.4769, 1.4769, 1.4769, 1.4769, 1.4769, 1.4769, 1.4737, 1.4736, 1.4769, 1.4769, 1.4769, 1.4769, 1.4769, 1.4769, 1.4769, 1.2889, 1.4344, 1.411, 1.377, 1.4083, 1.4443, 1.4207, 1.3344, 1.3541, 1.3854, 1.2932, 1.2914, 1.2912, 1.2343, 1.2383, 1.2721, 0.9436, 1.286, 0.6015, 1.3781, 1.0046, 1.1016, 1.1808, 0.7729, 1.0746, 0.6558, 0.5043, -0.0205, 0.4918, 0.7289, 0.0949, 0.4697, 0.7291, 0.2316, -0.6286, 0.4998, 1.5427, 1.5427, 1.5427, 1.5427, 1.5427, 1.5427, 1.5427, 1.5427, 1.5427, 1.5427, 1.5427, 1.5427, 1.5427, 1.5427, 1.5427, 1.5427, 1.5427, 1.5427, 1.5427, 1.5427, 1.5427, 1.5427, 1.5427, 1.5427, 1.5427, 1.5427, 1.5427, 1.5427, 1.5427, 1.5427, 1.5392, 1.5427, 1.5421, 1.5427, 1.5427, 1.5427, 1.5427, 1.5427, 1.5427, 1.5427, 1.5427, 1.5427, 1.5427, 1.5427, 1.5427, 1.5427, 1.5427, 1.5427, 1.5427, 1.5427, 1.5427, 1.5427, 1.5427, 1.5427, 1.5427, 1.5427, 1.5427, 1.5427, 1.5427, 1.5427, 1.5264, 1.3933, 1.4962, 1.4226, 1.3801, 1.2171, 1.4232, 1.1825, 1.3448, 1.2358, 1.272, 1.2296, 0.8925, 0.7561, 0.9637, 0.1418, 0.2253, 1.0734, 0.5304, 0.8058, 0.5473, 0.5641, -0.4967, 1.1138, 0.4204, 0.3334, 1.653, 1.653, 1.653, 1.653, 1.653, 1.653, 1.653, 1.653, 1.653, 1.653, 1.653, 1.653, 1.653, 1.653, 1.653, 1.653, 1.653, 1.653, 1.653, 1.653, 1.653, 1.653, 1.653, 1.653, 1.653, 1.653, 1.653, 1.653, 1.653, 1.653, 1.653, 1.653, 1.653, 1.653, 1.653, 1.653, 1.653, 1.653, 1.653, 1.65, 1.653, 1.653, 1.653, 1.653, 1.653, 1.653, 1.653, 1.653, 1.653, 1.653, 1.653, 1.649, 1.653, 1.653, 1.653, 1.653, 1.653, 1.653, 1.653, 1.653, 1.6107, 1.611, 1.6072, 1.563, 1.5228, 1.5006, 1.4722, 1.5186, 1.4511, 1.2163, 1.4854, 1.4762, 1.2866, 1.4066, 1.1197, 0.9495, 1.1807, 1.1751, 1.0733, 0.9996, 0.673, 0.5903, 0.1269, -0.1118, 0.9141, 0.6755, 0.9445, 0.9402, 0.4471, 1.6813, 1.6813, 1.6813, 1.6813, 1.6813, 1.6813, 1.6813, 1.6813, 1.6813, 1.6813, 1.6813, 1.6813, 1.6813, 1.6813, 1.6813, 1.6813, 1.6813, 1.6813, 1.6813, 1.6813, 1.6813, 1.6813, 1.6813, 1.6813, 1.6813, 1.6813, 1.6813, 1.6813, 1.6813, 1.6813, 1.6813, 1.6813, 1.6813, 1.6813, 1.6813, 1.6813, 1.6813, 1.6813, 1.6813, 1.6813, 1.6813, 1.6813, 1.6813, 1.6813, 1.6813, 1.6813, 1.6813, 1.6813, 1.6813, 1.6571, 1.6813, 1.6813, 1.6813, 1.6813, 1.6813, 1.6813, 1.6813, 1.6813, 1.6787, 1.6813, 1.6713, 1.561, 1.5705, 1.5281, 1.5087, 1.4468, 1.5716, 1.584, 1.5634, 1.3638, 1.2294, 1.5285, 0.9987, 0.7311, 1.3972, 0.9946, 1.0367, 1.2253, 0.6423, 1.0088, -0.4366, 0.4008, 0.5076, 1.7134, 1.7134, 1.7134, 1.7134, 1.7134, 1.7134, 1.7134, 1.7134, 1.7134, 1.7134, 1.7134, 1.7134, 1.7134, 1.7134, 1.7134, 1.7134, 1.7134, 1.7134, 1.7134, 1.7134, 1.7134, 1.7134, 1.7134, 1.7134, 1.7134, 1.7134, 1.7134, 1.7134, 1.7134, 1.7134, 1.7134, 1.7134, 1.7134, 1.7115, 1.7134, 1.7134, 1.7134, 1.7134, 1.7134, 1.7134, 1.7134, 1.7134, 1.7134, 1.7134, 1.7134, 1.7134, 1.7134, 1.7134, 1.7134, 1.7134, 1.7134, 1.7134, 1.7134, 1.7104, 1.7134, 1.7134, 1.7134, 1.7134, 1.5927, 1.623, 1.5829, 1.5902, 1.5959, 1.5965, 1.5977, 1.397, 1.2393, 1.2928, 1.2886, 0.4899, 0.9922, 1.0795, 0.951, 0.4558, 0.6817, 1.0815, 0.6001, 0.5073, -0.299, 0.3137, 1.0889, 0.8208], \"logprob\": [30.0, 29.0, 28.0, 27.0, 26.0, 25.0, 24.0, 23.0, 22.0, 21.0, 20.0, 19.0, 18.0, 17.0, 16.0, 15.0, 14.0, 13.0, 12.0, 11.0, 10.0, 9.0, 8.0, 7.0, 6.0, 5.0, 4.0, 3.0, 2.0, 1.0, -12.5168, -11.4182, -12.5168, -12.5168, -12.5168, -12.5168, -12.5168, -12.5168, -10.4374, -12.5168, -10.9074, -11.1306, -11.4182, -11.4182, -12.5168, -11.4182, -12.5168, -11.8237, -12.5168, -12.5168, -10.3196, -12.5168, -11.4182, -12.5168, -10.4374, -10.5709, -12.5168, -12.5168, -12.5168, -11.4182, -4.4838, -5.1422, -4.7466, -5.5065, -5.7787, -5.7978, -6.1871, -6.2477, -6.3143, -6.377, -6.4188, -6.421, -6.4601, -6.4648, -6.479, -6.508, -6.8131, -6.8333, -6.8749, -7.0362, -7.0446, -6.7965, -6.8367, -7.165, -7.1793, -7.1841, -7.1841, -7.2286, -7.2387, -7.2438, -3.1956, -6.3834, -5.9658, -5.4993, -6.0066, -6.6646, -6.377, -5.2762, -5.5183, -5.9516, -4.907, -5.2458, -5.6061, -5.3368, -5.4728, -5.6657, -4.9982, -6.0216, -4.6048, -6.2649, -5.5737, -5.7811, -5.939, -5.3127, -5.841, -5.3498, -5.3284, -4.9025, -5.3421, -5.5922, -5.2769, -5.5913, -5.6979, -5.5699, -5.407, -5.6914, -10.8544, -10.1612, -10.1612, -10.8544, -10.8544, -10.8544, -10.8544, -10.1612, -10.1612, -10.8544, -10.8544, -10.8544, -10.1612, -9.4681, -8.9673, -10.8544, -8.1734, -9.0965, -9.4681, -10.8544, -10.1612, -10.1612, -10.8544, -10.8544, -10.8544, -10.8544, -10.8544, -10.8544, -10.1612, -10.8544, -4.5412, -4.8934, -5.0993, -5.2724, -5.5082, -5.5753, -5.6254, -5.6828, -5.8626, -5.8722, -5.886, -5.9315, -5.9359, -6.0504, -6.077, -6.1521, -6.1594, -6.163, -6.1834, -6.2197, -6.29, -6.3748, -6.4094, -6.4188, -6.4452, -6.5263, -6.5396, -6.5639, -6.5833, -6.5945, -6.1521, -4.2349, -5.9476, -5.5793, -5.3226, -4.6172, -5.8227, -4.7367, -5.4903, -5.1486, -5.4051, -5.4068, -5.2815, -5.138, -5.4875, -4.6366, -4.955, -5.7011, -5.3906, -5.5948, -5.5382, -5.6, -5.3788, -5.7718, -5.6405, -5.7412, -9.8146, -9.2885, -11.2809, -9.5463, -11.2809, -10.5877, -11.2809, -8.4092, -10.5877, -10.5877, -11.2809, -9.4891, -11.2809, -11.2809, -9.1214, -11.2809, -10.1823, -10.5877, -7.7644, -9.2885, -9.244, -10.1823, -11.2809, -10.5877, -9.8146, -10.5877, -11.2809, -11.2809, -10.5877, -11.2809, -3.4266, -3.6055, -4.5105, -5.2795, -5.448, -5.4869, -5.5432, -5.7202, -5.737, -5.4648, -5.7892, -5.8128, -5.8949, -6.0751, -6.2837, -6.2905, -6.3321, -6.388, -6.4473, -6.4552, -6.4823, -6.1199, -6.6049, -6.7165, -6.7627, -6.7737, -6.8461, -6.862, -6.8701, -6.9414, -3.8685, -5.1439, -5.1918, -5.1016, -4.9452, -4.8555, -4.6828, -5.5032, -5.0042, -3.6658, -5.54, -5.5454, -4.9661, -5.4549, -4.8194, -4.4223, -5.0105, -5.0504, -4.9323, -4.9213, -4.5333, -4.59, -4.6515, -4.5963, -5.2599, -5.2664, -5.4107, -5.4258, -5.4471, -10.7508, -10.163, -10.4143, -10.4143, -9.9623, -9.028, -10.163, -8.8048, -10.7508, -10.7508, -10.4143, -10.4143, -10.4143, -9.7952, -10.163, -10.7508, -10.7508, -9.9623, -8.6966, -9.7211, -10.7508, -10.0576, -10.0576, -10.163, -8.6713, -10.7508, -10.0576, -9.7952, -9.2247, -9.7952, -3.0977, -3.8113, -4.4832, -4.7096, -4.7836, -4.7991, -4.9688, -5.1955, -5.2487, -5.3014, -5.3923, -5.4248, -5.7322, -5.7879, -5.9003, -6.0394, -6.0968, -6.2333, -6.2964, -4.0478, -6.463, -6.4713, -6.4769, -6.4769, -6.4769, -6.5138, -6.5641, -6.5764, -6.3637, -6.6465, -5.9353, -4.5282, -5.2895, -5.2802, -5.1839, -4.74, -5.6718, -5.8396, -5.8529, -4.9632, -4.572, -5.7576, -4.834, -4.4492, -5.6138, -5.1695, -5.2844, -5.5006, -5.1916, -5.5027, -5.215, -5.4336, -5.5534, -6.8708, -6.8104, -12.2869, -10.0896, -12.2869, -12.2869, -11.5937, -11.5937, -12.2869, -12.2869, -11.5937, -12.2869, -12.2869, -12.2869, -12.2869, -12.2869, -11.1882, -11.5937, -12.2869, -10.9006, -11.5937, -12.2869, -12.2869, -11.5937, -12.2869, -9.889, -12.2869, -11.5937, -12.2869, -12.2869, -5.2507, -5.2856, -5.5678, -5.3861, -5.6136, -5.723, -5.8734, -5.8883, -5.9118, -6.0505, -6.0683, -6.0904, -6.1798, -6.1933, -6.278, -6.3952, -6.4433, -6.5217, -6.5535, -6.5931, -6.5965, -6.7456, -6.7815, -6.4938, -6.8188, -6.8358, -6.8444, -6.8619, -4.9185, -5.8718, -5.596, -5.9308, -6.2395, -6.2707, -6.2904, -5.7618, -5.4378, -5.611, -5.6668, -4.2885, -5.6212, -5.875, -5.8396, -5.4834, -5.6735, -5.9661, -5.827, -5.8588, -5.6708, -5.9118, -6.0235, -6.0485]}, \"token.table\": {\"Topic\": [3, 1, 2, 1, 1, 2, 3, 3, 2, 4, 1, 2, 3, 4, 3, 1, 3, 4, 4, 5, 1, 5, 2, 3, 4, 4, 5, 2, 4, 3, 1, 3, 5, 1, 5, 4, 1, 1, 4, 3, 1, 2, 5, 4, 1, 2, 4, 3, 3, 1, 3, 2, 2, 3, 5, 1, 2, 3, 4, 2, 1, 4, 5, 1, 5, 4, 1, 2, 4, 2, 1, 1, 3, 5, 3, 1, 2, 3, 1, 4, 5, 1, 1, 2, 3, 4, 1, 5, 5, 5, 5, 5, 2, 3, 2, 4, 1, 2, 1, 3, 2, 3, 5, 4, 2, 4, 3, 3, 4, 1, 1, 2, 1, 2, 3, 1, 1, 3, 4, 2, 3, 3, 1, 1, 5, 5, 1, 3, 4, 1, 2, 3, 3, 2, 1, 2, 4, 5, 1, 1, 3, 5, 1, 1, 3, 4, 4, 1, 2, 3, 4, 5, 3, 3, 4, 4, 2, 1, 4, 1, 1, 3, 4, 4, 2, 4, 4, 1, 2, 5, 2, 1, 4, 5, 1, 5, 2, 3, 5, 2, 2, 1, 3, 1, 4, 1, 2, 3, 1, 3, 5, 1, 3, 5, 4, 5, 2, 1, 2, 4, 3, 1, 2, 3, 1, 4, 4, 4, 1, 2, 4, 5, 3, 4, 3, 2, 2, 3, 4, 3, 1, 1, 1, 3, 3, 1, 1, 4, 2, 3, 1, 2, 3, 3, 4, 5, 4, 1, 2, 1, 2, 3, 5, 1, 5, 4, 4, 3, 4, 5, 1, 4, 3, 4, 1, 4, 2, 2, 1, 2, 4, 2, 2, 2, 1, 3, 5, 5, 5, 5, 5, 5, 5, 5, 5, 5, 1, 2, 3, 4, 5, 4, 4, 5, 3, 4, 5, 5, 5, 5, 5, 3, 5, 5, 5, 5, 5, 1, 1, 5, 1, 5, 5, 1, 5, 5, 2, 3, 5, 5, 5, 4, 1, 4, 1, 4, 4, 1, 2, 4, 5, 1, 1, 2, 2, 2, 3, 3, 3, 2, 3, 4, 5, 1, 3, 4, 2, 3, 1, 2, 3, 1, 1, 3, 4, 2, 2, 3, 4, 4, 2, 1, 5, 4, 4, 1, 4, 5, 1, 1, 2, 3, 5, 1, 3, 4, 5, 3, 5, 2, 3, 4, 3, 3, 4, 4, 4, 3, 4, 3, 3, 5, 1, 3, 5, 3, 2, 4, 2, 3, 2, 4, 1, 2, 3, 4, 5, 2, 1, 2, 4, 2, 2, 1, 2, 3, 2, 3, 4, 5, 1, 5, 5, 4, 3, 5, 2, 4, 2, 3, 3, 2, 2, 2, 4, 3, 4, 3, 2, 3, 1, 2, 3, 5, 1, 5, 1, 2, 3, 5, 3, 1, 2, 1, 2, 1, 2, 2, 4, 4, 2, 1, 3, 3, 5, 3, 5, 1, 3, 4, 2, 4, 2, 4, 2, 4, 2, 2, 5, 1, 3, 4, 5, 3, 3, 2, 1, 3, 5, 3, 1, 5, 2, 1, 4, 3, 1, 4, 1, 2, 3, 3, 1, 2, 1, 2, 3, 1, 3, 4, 5, 3, 5, 5, 2, 1, 3, 4, 5, 2, 3, 4, 2, 3, 4, 5, 4, 1, 5, 3, 4, 5, 1, 2, 3, 3, 1, 2, 5, 3, 3, 5, 3, 5, 2, 2, 2, 4, 1, 4, 3, 2, 4, 4, 4, 1, 2, 3, 4, 2, 3, 2, 3, 3, 4, 2, 3, 1, 2, 3, 4, 5, 4, 5, 3, 2, 5, 4, 2, 5, 3, 5, 1, 3, 4, 4, 1, 1, 2, 3, 5, 1, 5, 1, 1, 2, 3, 4, 5, 4, 2, 4, 1, 3, 3], \"Freq\": [0.9996594043332513, 0.9929540065629893, 0.006888338581775853, 0.9986868628867394, 0.9995792115356329, 0.6509511796335214, 0.34901204775805544, 0.9993778101348475, 0.0932871242399157, 0.9075339987784391, 0.04637508453727001, 0.47865712254539405, 0.20537537437933862, 0.26955517887288194, 0.9990064322789818, 0.9860452570274135, 0.9995339873203664, 1.0002513548847765, 1.000538650334277, 1.0016170766925434, 1.000843724549942, 1.0003672955204765, 0.12158752928071866, 0.816998218332311, 0.061231129853599325, 0.9997560806598763, 1.0008403155547851, 0.9987381586913459, 1.0001156248457581, 0.9994359168742007, 1.0005788038996997, 0.0016626572482467087, 0.9984256775721485, 0.9993701929331895, 0.9998592369651083, 0.9994916473911702, 0.8217043808561779, 0.8847571214709768, 0.11548967677115526, 1.0016761767046838, 0.0014860508358920397, 0.9837656533605302, 0.014860508358920397, 1.0342917614298914, 1.0003357679988252, 0.11089943326586027, 0.8883387592533343, 0.9965305799065431, 1.1388920913217635, 0.997912897866603, 0.002795274223715975, 1.0044780331665835, 0.1948923857708472, 0.18288221073734962, 0.6223454335539658, 0.37331097225702947, 0.1376716360872368, 0.13508735622894397, 0.3538114060535471, 0.9987381586913459, 0.03998530316664238, 0.8954085922234999, 0.06489418054914092, 0.1099593199091779, 0.8906704912643411, 0.9850397727903727, 0.1209380376886904, 0.3758884955189026, 0.5033637244340087, 0.9987381586913459, 0.8217043808561779, 0.8217043808561779, 0.8778850717092443, 0.12224837527333574, 1.04398441704495, 0.49462995192775405, 0.36953722126306854, 0.13597035941813643, 0.9994769632529472, 0.9998938437192108, 0.9993228603918997, 0.8217043808561779, 0.4166384438482877, 0.1082356944735317, 0.37525051896269623, 0.09983269154221464, 1.0019762603297273, 1.0004339403394942, 1.0002542446721845, 0.9989882794416194, 0.9985952864127281, 0.999624178908526, 1.0003542398542768, 1.0000297632401642, 0.820337170956292, 0.17966854640585975, 0.8266189281144699, 0.17332332363690497, 0.9065158376129338, 0.09466779316843929, 1.0001272242806243, 0.9138428047373723, 0.0862624476448257, 1.0000224548605225, 0.1134223070826718, 0.8867562190099796, 0.9998158455545867, 0.9992166461596604, 0.9992884376260412, 0.8217043808561779, 1.0012364304550068, 0.9996428128205953, 0.11280460635456242, 0.8870105798820294, 1.0001543274698397, 0.8217043808561779, 0.8217043808561779, 1.009472535489745, 1.0007584925689423, 0.9987381586913459, 1.0003370374310143, 0.9994964447276935, 0.8217043808561779, 0.9994489455094646, 1.0003126121143215, 1.0006290853667255, 0.8217043808561779, 0.14191225940243485, 0.8576977783182246, 1.0043053543797729, 0.9987381586913459, 0.9998547573304518, 0.9979400998215454, 1.00041953606288, 1.0001652368416487, 0.9999214977419278, 0.9911962713703125, 0.9997839690309795, 1.0271304760702225, 1.0956058411415706, 0.11377604170448176, 0.8861581134381588, 0.8217043808561779, 0.43988734589394723, 0.5601102032688942, 1.0118071579205459, 0.9945113090672031, 0.24982004989515094, 0.08466123913113449, 0.09807750106994814, 0.5102805833969472, 0.056903455809451046, 0.9995595482345266, 1.0049047864603797, 1.001159852637569, 0.9850397727903727, 1.0004386209365637, 0.9999549863585213, 0.9945113090672031, 1.0003994512027978, 0.9124757209502286, 0.05174920176685324, 0.03590760938924511, 1.0342917614298914, 1.0001081698829664, 0.9850397727903727, 0.9850397727903727, 1.0956058411415706, 0.9987381586913459, 0.9983731097370702, 0.9987381586913459, 0.8147934454375898, 0.15941610888996322, 0.025506577422394115, 0.8217043808561779, 1.0001568444870814, 0.14138393729831136, 0.8586004931729384, 0.9999353230289556, 0.9987381586913459, 0.9987381586913459, 0.9690128127412737, 0.031995706081079794, 0.9048151641417705, 0.09527876912538526, 1.0956058411415706, 0.8611368461738044, 0.1388375195030384, 0.19531551718648388, 0.07512135276403227, 0.7291190121214897, 0.15114745437537694, 0.49221841163080865, 0.35650224186443613, 0.10947837485136984, 0.8901848184635974, 0.9987381586913459, 0.8673797223216104, 0.0005108243358784514, 0.13230350299251892, 1.1388920913217635, 0.0003300948256488461, 0.5218799193508257, 0.4776472127138803, 0.27198832110232735, 0.7278669073912353, 1.0342917614298914, 0.957677556879529, 0.3780273662834971, 0.08916846628661011, 0.505209757671241, 0.027454501461929955, 0.9971209870366988, 0.0025372035293554675, 1.0000543796940486, 0.9987381586913459, 0.4553619243895933, 0.2994160598726093, 0.2452716557123124, 0.999412391878511, 0.9998701411603019, 0.8217043808561779, 0.99637318556997, 0.002685642009622561, 0.9965305799065431, 1.0271304760702225, 1.0564770611008, 1.0000941984330418, 0.7358027127858767, 0.2644163679944817, 0.8217043808561779, 0.9987381586913459, 0.9993934256571234, 0.001382995840634432, 0.9902250218942533, 0.008297975043806593, 1.0003883842085053, 0.8217043808561779, 1.0003011292057298, 0.11635754832605207, 0.3634251178994314, 0.520277143396224, 1.0007686898487511, 0.9339551021314286, 0.06622175540785191, 0.99988029667422, 1.0342917614298914, 0.03957432169654539, 0.046994507014647656, 0.9139194916795952, 0.14153104365394892, 0.858220158327137, 1.1388920913217635, 0.9850397727903727, 0.9996848844019492, 0.9998153693822281, 0.9996902446386206, 1.0000251924009995, 0.3652803441762908, 0.32547982241374096, 0.3092647950289984, 1.0004720791057407, 1.0003581719252328, 0.9987381586913459, 0.8322003072244952, 0.04133894034258486, 0.1267275712141536, 0.8271193281398354, 0.8271193281398354, 0.8271193281398354, 0.8271193281398354, 1.0338991601747942, 0.8271193281398354, 0.8271193281398354, 1.102825770853114, 0.8271193281398354, 0.5867650275353127, 0.03585495484939243, 0.37634616841917023, 0.0013085749945033734, 0.8271193281398354, 0.957677556879529, 0.957677556879529, 0.8271193281398354, 0.5867348825585159, 0.12893551244835713, 0.2842323341219857, 1.0109236232820211, 0.8271193281398354, 0.8271193281398354, 0.8271193281398354, 1.1388920913217635, 0.8271193281398354, 0.8271193281398354, 0.8271193281398354, 0.8271193281398354, 0.8271193281398354, 1.0956058411415706, 1.0956058411415706, 0.8271193281398354, 0.8217043808561779, 0.8271193281398354, 0.9775046605288963, 0.8307869929644038, 0.16942339168561552, 0.8271193281398354, 0.9987381586913459, 0.9965305799065431, 0.8271193281398354, 0.8271193281398354, 0.8271193281398354, 0.999702885231991, 0.936368087892078, 0.06374336748561095, 0.023955429434005682, 0.9761837494357316, 1.0342917614298914, 0.8217043808561779, 0.016029217744540226, 0.44797445380794, 0.5357133298833181, 1.0006704403869147, 0.9997403300416832, 0.9987381586913459, 0.9987381586913459, 1.001018382797947, 1.009472535489745, 1.0027202108376396, 1.04398441704495, 0.17959465905040808, 0.49038541647171563, 0.030799084068778224, 0.29919110238241703, 1.0001270458327385, 1.0001452276573202, 1.0342917614298914, 0.7626780237710424, 0.23693791146501963, 1.0956058411415706, 0.8868848018523187, 0.11331577536443595, 1.0005667568615098, 0.6236530180724206, 0.003461991377087188, 0.37290592833196284, 0.9996510820539521, 0.26787966344157216, 0.3454816644841809, 0.38666571858080945, 0.9850397727903727, 0.9987381586913459, 0.9458862979471007, 0.055246456340273135, 1.0096657671101321, 1.018620674135499, 0.3662730606069719, 0.6339561894073724, 0.9997355357516271, 1.0003357679988252, 0.12396489053224251, 0.6252403944805824, 0.2509386376308016, 1.0011088308229723, 0.22686795161640966, 0.002446015650850778, 0.3045289485309219, 0.4665774853997859, 1.1388920913217635, 1.0002801674385982, 0.1482167832824653, 0.6932259671114823, 0.15857410066846891, 0.9965305799065431, 0.9855796944130647, 1.000070435168031, 0.9989185846179828, 0.999860973075413, 0.20897099088633786, 0.7910805830993206, 0.9855796944130647, 0.845355034812243, 0.1539118498880479, 0.17001516906284592, 0.29811962203112985, 0.5313962493499184, 1.1388920913217635, 0.1585786891266525, 0.8416868884414632, 0.041306245685251965, 0.9588949891219206, 0.9987381586913459, 1.0342917614298914, 0.668732526508345, 0.16631689778445885, 0.16493092363625503, 0.12263273128989195, 0.8773650554784181, 0.9994650423585156, 0.47342059563386835, 0.0019120379468249933, 0.5250456201981432, 1.0002652812581523, 1.0002422824243145, 0.22373399047383766, 0.13014117402916783, 0.6461713344653803, 0.9964859167276212, 0.003607188838833018, 1.0342917614298914, 1.0001223748623111, 0.3431163565085652, 0.6567836045742795, 1.0005253769678208, 0.9998773772815946, 0.873885450404599, 0.1256114007195323, 0.9987381586913459, 1.0000117228253091, 0.9999870274142538, 0.9986241315450023, 1.0002254588287702, 0.9991773575298204, 0.9987381586913459, 1.0088264229205512, 0.9992470772056183, 0.9998514411670895, 1.0012945545195868, 0.9965305799065431, 0.16551049036510013, 0.8346781480838806, 0.17333837310437886, 0.5605188095108934, 0.1511266720281896, 0.1154137408860814, 0.8217043808561779, 0.9990304041845856, 0.06844601441330486, 0.11671846668374092, 0.28459132308689916, 0.5302764906125513, 1.1388920913217635, 0.9997403300416832, 0.9999465533177115, 0.8217043808561779, 1.0001025550830007, 0.9993701929331894, 0.9987381586913459, 0.8501704295762458, 0.15009596516892876, 1.001159852637569, 1.0006084548686704, 0.0032534877202542037, 0.9955672423977864, 0.9553386182899063, 0.045022413902623085, 1.0000571362519006, 0.8271193281398354, 0.787962346994731, 0.06156838410209726, 0.1508142986721098, 0.24699797465864642, 0.752429015395321, 0.7220530551795393, 0.27782119505931496, 1.0001983021982046, 0.9945113090672032, 1.0032986069045484, 0.999183229172046, 1.001062877834479, 0.17006632113048367, 0.2136073973235292, 0.13011098062392426, 0.4861233094964729, 0.9996594043332513, 0.9965305799065431, 0.9992083743969442, 0.13311406305896584, 0.6200404399404571, 0.24676497329468863, 1.1388920913217635, 0.0025139901556337375, 0.9980540917865939, 0.99966808248901, 1.0008174706158393, 0.9998953610111092, 1.0000543796940486, 0.9583297157256578, 0.04099806270484097, 0.7436738255154289, 0.25667370892075375, 0.9991738970946242, 1.0000675118671696, 1.000155332254237, 0.9987381586913459, 0.11685112352668525, 0.10175238284627086, 0.7818521804510232, 0.7846611612529313, 0.0923130777944625, 0.07168994339357194, 0.05106680899268139, 1.0003781883231708, 0.9997761131394062, 1.0007583744536157, 0.9987381586913459, 0.47360961797070966, 0.14794986270539223, 0.05016690746906979, 0.3286357582507707, 0.6975104337339737, 0.25561735997807766, 0.04682480167766588, 0.03558605265166513, 0.014426778102026406, 0.8963838127392407, 0.05385997158089858, 1.0002162576618523, 0.8306906943451597, 0.1694609016464126, 0.2640066947485604, 0.326203760679299, 0.40957429586305494, 0.002471718610394688, 0.03905315404423607, 0.95853247711106, 1.1388920913217635, 1.0003357679988252, 0.9992609719223136, 0.0005267585513559903, 1.1388920913217635, 0.3461305001251065, 0.6540424241947325, 0.8382285364073041, 0.16179043441685098, 0.9987381586913459, 0.9987381586913459, 0.9987381586913459, 0.957677556879529, 1.0271304760702225, 0.9945113090672031, 0.9855796944130647, 1.0002479669433357, 1.001159852637569, 1.0342917614298914, 0.9998153693822283, 0.2879206399816925, 0.0352509472331456, 0.040481732951612365, 0.6363364539247832, 0.7312320011786951, 0.26890467140119756, 0.9543297543659494, 0.04583603500033501, 0.9965305799065431, 1.0342917614298914, 1.000265281258152, 0.9965305799065431, 0.24029695040590973, 0.298279050379475, 0.1264248880866913, 0.1748429303326582, 0.16019796693727315, 0.11126075430139097, 0.8883475851251685, 0.999344048511587, 0.9987381586913459, 0.9996537012663498, 1.018620674135499, 0.11552502878307924, 0.8835760443189358, 1.1388920913217635, 0.9998953655734899, 0.8286096168836489, 0.1712431435936643, 0.00012188124099193188, 0.9850397727903727, 1.000674085019929, 0.251012518605757, 0.12032616605334932, 0.4949209093264454, 0.13364640583785292, 0.68728321462398, 0.3131329377847792, 0.9996908893448807, 0.12182264767608553, 0.24634338083761456, 0.21740028199376604, 0.12026920451779988, 0.2941730780795676, 1.0000306226104134, 0.0021385450921740847, 0.9965620129531235, 0.37647563729556355, 0.623653218963302, 1.0000475667621285], \"Term\": [\"aboriginal\", \"abuse\", \"abuse\", \"abuser\", \"abusive\", \"access\", \"access\", \"accommodation\", \"accuse\", \"accuse\", \"act\", \"act\", \"act\", \"act\", \"addiction\", \"afresh\", \"aim\", \"allege\", \"allegedly\", \"ambassador\", \"angry\", \"animal\", \"area\", \"area\", \"area\", \"arrest\", \"art\", \"ashburton\", \"assault\", \"assistance\", \"attitude\", \"award\", \"award\", \"bad\", \"bag\", \"bail\", \"basementdwelling\", \"behaviour\", \"behaviour\", \"bendigo\", \"bill\", \"bill\", \"bill\", \"bita\", \"boy\", \"breach\", \"breach\", \"buck_trend\", \"bugbear\", \"bully\", \"bully\", \"busiest\", \"business\", \"business\", \"business\", \"call\", \"call\", \"call\", \"call\", \"canberrabased\", \"car\", \"car\", \"car\", \"career\", \"career\", \"carriage\", \"case\", \"case\", \"case\", \"cashless\", \"cavechested\", \"celibate\", \"centre\", \"centre\", \"certificate_ii\", \"change\", \"change\", \"change\", \"character\", \"charge\", \"charity\", \"cheetoshuffing\", \"child\", \"child\", \"child\", \"child\", \"childhood\", \"christmas\", \"club\", \"coach\", \"college\", \"comment_bind\", \"commission\", \"community\", \"concern\", \"concern\", \"control\", \"control\", \"conversation\", \"conversation\", \"cost\", \"council\", \"council\", \"court\", \"crime\", \"crime\", \"crisis\", \"curriculum\", \"custody\", \"cutesy\", \"dad\", \"data\", \"decision\", \"decision\", \"dedicate\", \"degenerate\", \"demimonde\", \"designate\", \"detective\", \"detonate\", \"disability\", \"disadvantage\", \"dissolute\", \"divorce\", \"donate\", \"donation\", \"douchepistols\", \"drug\", \"drug\", \"dude\", \"east_timor\", \"education\", \"educator\", \"election\", \"emotional\", \"employee\", \"endanger\", \"enjoy\", \"enormity\", \"envisage\", \"event\", \"event\", \"everpopular\", \"experience\", \"experience\", \"extradite\", \"extraordinarily\", \"face\", \"face\", \"face\", \"face\", \"face\", \"facility\", \"factor_contribute\", \"faq_section\", \"fatherofthree\", \"federal\", \"feel\", \"feldman\", \"felt\", \"female\", \"female\", \"female\", \"fiance\", \"figure\", \"financial_planner\", \"firstdegree_murder\", \"flinch\", \"flint\", \"football\", \"fourhour\", \"friend\", \"friend\", \"friend\", \"fuelcheck\", \"fun\", \"fund\", \"fund\", \"game\", \"garlic\", \"gatekeeper\", \"gender\", \"gender\", \"girl\", \"girl\", \"goodlooking\", \"government\", \"government\", \"great\", \"great\", \"great\", \"group\", \"group\", \"group\", \"gympie\", \"gympie\", \"hamas\", \"happen\", \"happen\", \"happen\", \"heald\", \"health\", \"health\", \"health\", \"hear\", \"hear\", \"herrod\", \"hetty_johnston\", \"home\", \"home\", \"home\", \"home\", \"homeless\", \"homeless\", \"homelessness\", \"hotly\", \"house\", \"house\", \"house\", \"hub\", \"husband\", \"hyperbolically\", \"id\", \"id\", \"iga_supermarket\", \"incel\", \"incels\", \"incident\", \"increase\", \"increase\", \"indis\", \"inhibit\", \"initiative\", \"injury\", \"injury\", \"injury\", \"international_treaty\", \"internetting\", \"introduce\", \"issue\", \"issue\", \"issue\", \"item\", \"ive\", \"ive\", \"jail\", \"jiujitsu\", \"john\", \"john\", \"john\", \"judge\", \"judge\", \"kadina\", \"keogh\", \"kind\", \"knife\", \"labor\", \"law\", \"leave\", \"leave\", \"leave\", \"legislation\", \"liberal\", \"liberalnational\", \"life\", \"life\", \"life\", \"lilajean\", \"limeburners\", \"lindbeck\", \"lindfield\", \"lindsey\", \"lindsy\", \"linnert\", \"linus\", \"littlewood\", \"live\", \"live\", \"live\", \"live\", \"liverrmoore\", \"livestream\", \"livestreamed\", \"livingstonthe\", \"local\", \"local\", \"local\", \"locale\", \"lockart\", \"lodding\", \"loiero\", \"lois\", \"loizou\", \"longworth\", \"lorena\", \"lorett\", \"loretto\", \"lorien\", \"loriens\", \"lorn\", \"loserdom\", \"louie\", \"louisa\", \"love\", \"love\", \"luschwitz\", \"lutz\", \"lytzki\", \"macka\", \"mackander\", \"macklin\", \"magistrate\", \"male\", \"male\", \"man\", \"man\", \"manifestly_inadequate\", \"manosphere\", \"march\", \"march\", \"march\", \"marriage\", \"marry\", \"mccurdy\", \"mcgahn\", \"measure\", \"medicine_field\", \"medicine_particularly\", \"melton\", \"member\", \"member\", \"member\", \"member\", \"men\", \"mental_health\", \"mercael\", \"million\", \"million\", \"minassian\", \"minister\", \"minister\", \"moment\", \"mother\", \"mother\", \"mother\", \"mp\", \"mr\", \"mr\", \"mr\", \"mrdeadmoth\", \"muellers\", \"mum\", \"mum\", \"munday\", \"mundays\", \"murder\", \"murder\", \"music\", \"muslim\", \"national\", \"national\", \"national\", \"newcastle\", \"night\", \"night\", \"night\", \"night\", \"noelene\", \"nrl\", \"nsw\", \"nsw\", \"nsw\", \"oasis\", \"odonnell\", \"offence\", \"offend\", \"offender\", \"officer\", \"officer\", \"onebedroom\", \"online_discussion\", \"online_discussion\", \"open\", \"open\", \"open\", \"oration\", \"order\", \"order\", \"organisation\", \"organisation\", \"oust\", \"paepaeris\", \"parent\", \"parent\", \"parent\", \"park\", \"park\", \"parliament\", \"partner\", \"partner\", \"partner\", \"party\", \"pay\", \"people\", \"people\", \"people\", \"per_cent\", \"per_cent\", \"perjury\", \"peter\", \"play\", \"play\", \"player\", \"plead_guilty\", \"please_note\", \"please_note\", \"plug\", \"police\", \"policy\", \"poverty\", \"prevention\", \"private\", \"privatisation\", \"privatise\", \"problem_might\", \"program\", \"prosecutor\", \"protea\", \"provide\", \"provide\", \"public\", \"public\", \"public\", \"public\", \"purer\", \"race\", \"raise\", \"raise\", \"raise\", \"raise\", \"rajwa\", \"rap\", \"rat\", \"ratcliffe\", \"rate\", \"realise\", \"recklessness\", \"record\", \"record\", \"refer_helpful\", \"reform\", \"refuge\", \"refuge\", \"region\", \"region\", \"regional\", \"relase\", \"relationship\", \"relationship\", \"relationship\", \"release\", \"release\", \"report\", \"report\", \"review\", \"ridgeway\", \"rollout\", \"royal_commission\", \"rugby_league\", \"run\", \"run\", \"run\", \"run\", \"rural\", \"sacwa\", \"scheme\", \"school\", \"school\", \"school\", \"schs\", \"season\", \"season\", \"seat\", \"sense\", \"sentence\", \"service\", \"sex\", \"sex\", \"sexual\", \"sexual\", \"shelter\", \"shire\", \"silence\", \"silver_bullet\", \"social\", \"social\", \"social\", \"speak\", \"speak\", \"speak\", \"speak\", \"specialist\", \"sport\", \"star\", \"stark_contrast\", \"start\", \"start\", \"start\", \"start\", \"state\", \"state\", \"state\", \"station\", \"station\", \"station\", \"station\", \"steal\", \"story\", \"story\", \"street\", \"street\", \"street\", \"support\", \"support\", \"support\", \"surat\", \"survive\", \"system\", \"system\", \"tarasinski\", \"team\", \"team\", \"term_condition\", \"term_condition\", \"termite\", \"theft_motor\", \"threeyearolds\", \"tiahleigh_palmer\", \"timid\", \"track_device\", \"trench\", \"trump\", \"unauthorised_reproduction\", \"valencia\", \"vehicle\", \"victim\", \"victim\", \"victim\", \"victim\", \"victoria\", \"victoria\", \"victorian\", \"victorian\", \"vocational\", \"volusia\", \"vote\", \"warrina_specialist\", \"week\", \"week\", \"week\", \"week\", \"week\", \"weekend\", \"weekend\", \"wellbeing\", \"wgea\", \"white_ribbon\", \"william_joan\", \"win\", \"win\", \"wingewarra\", \"winner\", \"woman\", \"woman\", \"woman\", \"wood_brazilian\", \"word\", \"work\", \"work\", \"work\", \"work\", \"world\", \"world\", \"write\", \"year\", \"year\", \"year\", \"year\", \"year\", \"yearold\", \"yesterday\", \"yesterday\", \"young\", \"young\", \"youth\"]}, \"R\": 30, \"lambda.step\": 0.01, \"plot.opts\": {\"xlab\": \"PC1\", \"ylab\": \"PC2\"}, \"topic.order\": [3, 5, 4, 2, 1]};\n",
       "\n",
       "function LDAvis_load_lib(url, callback){\n",
       "  var s = document.createElement('script');\n",
       "  s.src = url;\n",
       "  s.async = true;\n",
       "  s.onreadystatechange = s.onload = callback;\n",
       "  s.onerror = function(){console.warn(\"failed to load library \" + url);};\n",
       "  document.getElementsByTagName(\"head\")[0].appendChild(s);\n",
       "}\n",
       "\n",
       "if(typeof(LDAvis) !== \"undefined\"){\n",
       "   // already loaded: just create the visualization\n",
       "   !function(LDAvis){\n",
       "       new LDAvis(\"#\" + \"ldavis_el403301127705359768196243842\", ldavis_el403301127705359768196243842_data);\n",
       "   }(LDAvis);\n",
       "}else if(typeof define === \"function\" && define.amd){\n",
       "   // require.js is available: use it to load d3/LDAvis\n",
       "   require.config({paths: {d3: \"https://cdnjs.cloudflare.com/ajax/libs/d3/3.5.5/d3.min\"}});\n",
       "   require([\"d3\"], function(d3){\n",
       "      window.d3 = d3;\n",
       "      LDAvis_load_lib(\"https://cdn.rawgit.com/bmabey/pyLDAvis/files/ldavis.v1.0.0.js\", function(){\n",
       "        new LDAvis(\"#\" + \"ldavis_el403301127705359768196243842\", ldavis_el403301127705359768196243842_data);\n",
       "      });\n",
       "    });\n",
       "}else{\n",
       "    // require.js not available: dynamically load d3 & LDAvis\n",
       "    LDAvis_load_lib(\"https://cdnjs.cloudflare.com/ajax/libs/d3/3.5.5/d3.min.js\", function(){\n",
       "         LDAvis_load_lib(\"https://cdn.rawgit.com/bmabey/pyLDAvis/files/ldavis.v1.0.0.js\", function(){\n",
       "                 new LDAvis(\"#\" + \"ldavis_el403301127705359768196243842\", ldavis_el403301127705359768196243842_data);\n",
       "            })\n",
       "         });\n",
       "}\n",
       "</script>"
      ],
      "text/plain": [
       "PreparedData(topic_coordinates=              x         y  topics  cluster       Freq\n",
       "topic                                                \n",
       "2     -0.026665  0.001703       1        1  22.834606\n",
       "4      0.039576 -0.182416       2        1  21.380403\n",
       "3      0.245932 -0.122121       3        1  19.147713\n",
       "1     -0.330622 -0.038670       4        1  18.612947\n",
       "0      0.071779  0.341504       5        1  18.024331, topic_info=      Category          Freq          Term         Total  loglift  logprob\n",
       "term                                                                      \n",
       "187    Default  12222.000000        police  12222.000000  30.0000  30.0000\n",
       "207    Default  16409.000000         woman  16409.000000  29.0000  29.0000\n",
       "29     Default   9049.000000     community   9049.000000  28.0000  28.0000\n",
       "469    Default   7567.000000       service   7567.000000  27.0000  27.0000\n",
       "159    Default   5987.000000         court   5987.000000  26.0000  26.0000\n",
       "475    Default   6068.000000       support   6068.000000  25.0000  25.0000\n",
       "95     Default  11026.000000        people  11026.000000  24.0000  24.0000\n",
       "180    Default   4842.000000           man   4842.000000  23.0000  23.0000\n",
       "443    Default   5229.000000    government   5229.000000  22.0000  22.0000\n",
       "182    Default   3749.000000           men   3749.000000  21.0000  21.0000\n",
       "155    Default   3058.000000        charge   3058.000000  20.0000  20.0000\n",
       "748    Default   3061.000000       program   3061.000000  19.0000  19.0000\n",
       "743    Default   3326.000000      per_cent   3326.000000  18.0000  18.0000\n",
       "84     Default   8182.000000            mr   8182.000000  17.0000  17.0000\n",
       "297    Default   3297.000000         crime   3297.000000  16.0000  16.0000\n",
       "684    Default   2903.000000         abuse   2903.000000  15.0000  15.0000\n",
       "390    Default   4254.000000        report   4254.000000  14.0000  14.0000\n",
       "174    Default   2438.000000      incident   2438.000000  13.0000  13.0000\n",
       "784    Default   2264.000000       assault   2264.000000  12.0000  12.0000\n",
       "140    Default   2229.000000       yearold   2229.000000  11.0000  11.0000\n",
       "459    Default   3087.000000       provide   3087.000000  10.0000  10.0000\n",
       "643    Default   2330.000000           law   2330.000000   9.0000   9.0000\n",
       "1415   Default   2990.000000       officer   2990.000000   8.0000   8.0000\n",
       "206    Default   4397.000000        victim   4397.000000   7.0000   7.0000\n",
       "706    Default   3585.000000    experience   3585.000000   6.0000   6.0000\n",
       "47     Default   2525.000000          fund   2525.000000   5.0000   5.0000\n",
       "572    Default   1881.000000       offence   1881.000000   4.0000   4.0000\n",
       "673    Default   3908.000000         state   3908.000000   3.0000   3.0000\n",
       "1799   Default   2162.000000         event   2162.000000   2.0000   2.0000\n",
       "676    Default   1898.000000        system   1898.000000   1.0000   1.0000\n",
       "...        ...           ...           ...           ...      ...      ...\n",
       "695     Topic5    297.417787       college    297.417787   1.7134  -6.7815\n",
       "830     Topic5    396.557049        season    397.774032   1.7104  -6.4938\n",
       "1126    Topic5    286.536648    ambassador    286.536648   1.7134  -6.8188\n",
       "5994    Topic5    281.700587  rugby_league    281.700587   1.7134  -6.8358\n",
       "4716    Topic5    279.282556         coach    279.282556   1.7134  -6.8444\n",
       "1302    Topic5    274.446494      football    274.446494   1.7134  -6.8619\n",
       "1799    Topic5   1916.289399         event   2162.142366   1.5927  -4.9185\n",
       "497     Topic5    738.708405          john    808.605142   1.6230  -5.8718\n",
       "503     Topic5    973.257392          park   1109.002454   1.5829  -5.5960\n",
       "1590    Topic5    696.392867           win    787.708092   1.5902  -5.9308\n",
       "3076    Topic5    511.413511       weekend    575.225293   1.5959  -6.2395\n",
       "21497   Topic5    495.696311        gympie    557.187665   1.5965  -6.2707\n",
       "1179    Topic5    486.024188        career    545.656340   1.5977  -6.2904\n",
       "717     Topic5    824.548498         great   1131.502521   1.3970  -5.7618\n",
       "20      Topic5   1140.101516      business   1831.780131   1.2393  -5.4378\n",
       "2133    Topic5    958.749207          play   1460.146071   1.2928  -5.6110\n",
       "834     Topic5    906.761545          team   1386.760195   1.2886  -5.6668\n",
       "139     Topic5   3598.029811          year  12230.894899   0.4899  -4.2885\n",
       "510     Topic5    949.077084           run   1952.179584   0.9922  -5.6212\n",
       "1661    Topic5    736.290375         raise   1387.955176   1.0795  -5.8750\n",
       "1613    Topic5    762.888713         night   1635.312513   0.9510  -5.8396\n",
       "556     Topic5   1089.322870         local   3831.372681   0.4558  -5.4834\n",
       "873     Topic5    900.716468         group   2527.333335   0.6817  -5.6735\n",
       "888     Topic5    672.212559          open   1264.593043   1.0815  -5.9661\n",
       "766     Topic5    772.560836         start   2352.148178   0.6001  -5.8270\n",
       "76      Topic5    748.380529        member   2500.074347   0.5073  -5.8588\n",
       "137     Topic5    903.134499          work   6756.635125  -0.2990  -5.6708\n",
       "583     Topic5    709.692036        school   2877.231685   0.3137  -5.9118\n",
       "2103    Topic5    634.733082         march   1185.335448   1.0889  -6.0235\n",
       "833     Topic5    619.015881        street   1511.325311   0.8208  -6.0485\n",
       "\n",
       "[466 rows x 6 columns], token_table=       Topic      Freq            Term\n",
       "term                                  \n",
       "1961       3  0.999659      aboriginal\n",
       "684        1  0.992954           abuse\n",
       "684        2  0.006888           abuse\n",
       "6452       1  0.998687          abuser\n",
       "841        1  0.999579         abusive\n",
       "842        2  0.650951          access\n",
       "842        3  0.349012          access\n",
       "843        3  0.999378   accommodation\n",
       "289        2  0.093287          accuse\n",
       "289        4  0.907534          accuse\n",
       "141        1  0.046375             act\n",
       "141        2  0.478657             act\n",
       "141        3  0.205375             act\n",
       "141        4  0.269555             act\n",
       "1109       3  0.999006       addiction\n",
       "19558      1  0.986045          afresh\n",
       "2642       3  0.999534             aim\n",
       "143        4  1.000251          allege\n",
       "144        4  1.000539       allegedly\n",
       "1126       5  1.001617      ambassador\n",
       "3913       1  1.000844           angry\n",
       "1129       5  1.000367          animal\n",
       "147        2  0.121588            area\n",
       "147        3  0.816998            area\n",
       "147        4  0.061231            area\n",
       "291        4  0.999756          arrest\n",
       "1137       5  1.000840             art\n",
       "31457      2  0.998738       ashburton\n",
       "784        4  1.000116         assault\n",
       "849        3  0.999436      assistance\n",
       "...      ...       ...             ...\n",
       "21325      2  0.998738            wgea\n",
       "4944       5  0.999654    white_ribbon\n",
       "30460      4  1.018621    william_joan\n",
       "1590       2  0.115525             win\n",
       "1590       5  0.883576             win\n",
       "18283      3  1.138892      wingewarra\n",
       "2897       5  0.999895          winner\n",
       "207        1  0.828610           woman\n",
       "207        3  0.171243           woman\n",
       "207        4  0.000122           woman\n",
       "38464      4  0.985040  wood_brazilian\n",
       "3662       1  1.000674            word\n",
       "137        1  0.251013            work\n",
       "137        2  0.120326            work\n",
       "137        3  0.494921            work\n",
       "137        5  0.133646            work\n",
       "138        1  0.687283           world\n",
       "138        5  0.313133           world\n",
       "410        1  0.999691           write\n",
       "139        1  0.121823            year\n",
       "139        2  0.246343            year\n",
       "139        3  0.217400            year\n",
       "139        4  0.120269            year\n",
       "139        5  0.294173            year\n",
       "140        4  1.000031         yearold\n",
       "208        2  0.002139       yesterday\n",
       "208        4  0.996562       yesterday\n",
       "840        1  0.376476           young\n",
       "840        3  0.623653           young\n",
       "918        3  1.000048           youth\n",
       "\n",
       "[595 rows x 3 columns], R=30, lambda_step=0.01, plot_opts={'xlab': 'PC1', 'ylab': 'PC2'}, topic_order=[3, 5, 4, 2, 1])"
      ]
     },
     "execution_count": 29,
     "metadata": {},
     "output_type": "execute_result"
    }
   ],
   "source": [
    "pyLDAvis.enable_notebook()\n",
    "model = gensim.models.wrappers.ldamallet.malletmodel2ldamodel(model_list[0])\n",
    "vis = pyLDAvis.gensim.prepare(model, corpus, id2word)\n",
    "vis"
   ]
  },
  {
   "cell_type": "code",
   "execution_count": 358,
   "metadata": {},
   "outputs": [],
   "source": [
    "pyLDAvis.save_html(vis, 'output/html/2014_13_clusters.html')"
   ]
  },
  {
   "cell_type": "markdown",
   "metadata": {},
   "source": [
    "### Find the most representative document for each topic"
   ]
  },
  {
   "cell_type": "code",
   "execution_count": 22,
   "metadata": {
    "scrolled": true
   },
   "outputs": [],
   "source": [
    "optimal_model = model_list[3]\n",
    "model_topics = optimal_model.show_topics(formatted=False)\n",
    "# pprint(optimal_model.print_topics(num_words=10))"
   ]
  },
  {
   "cell_type": "code",
   "execution_count": null,
   "metadata": {},
   "outputs": [],
   "source": [
    "# Finding the dominant topic in each Tweet\n",
    "\n",
    "\n",
    "def format_topics_sentences(ldamodel, corpus=corpus, texts=data_filtered):\n",
    "    # Init output\n",
    "    sent_topics_df = pd.DataFrame()\n",
    "\n",
    "    # Get main topic in each document\n",
    "    for i, row in enumerate(ldamodel[corpus]):\n",
    "        row = sorted(row, key=lambda x: (x[1]), reverse=True)\n",
    "        # Get the Dominant topic, Perc Contribution and Keywords for each document\n",
    "        for j, (topic_num, prop_topic) in enumerate(row):\n",
    "            if j == 0:  # => dominant topic\n",
    "                wp = ldamodel.show_topic(topic_num)\n",
    "                topic_keywords = \", \".join([word for word, prop in wp])\n",
    "                sent_topics_df = sent_topics_df.append(pd.Series([int(topic_num), round(prop_topic,4), topic_keywords]), ignore_index=True)\n",
    "            else:\n",
    "                break\n",
    "    sent_topics_df.columns = ['Dominant_Topic', 'Perc_Contribution', 'Topic_Keywords']\n",
    "\n",
    "    # Add original text to the end of the output\n",
    "    contents = pd.Series(texts)\n",
    "    sent_topics_df = pd.concat([sent_topics_df, contents], axis=1)\n",
    "    return(sent_topics_df)"
   ]
  },
  {
   "cell_type": "code",
   "execution_count": null,
   "metadata": {
    "scrolled": true
   },
   "outputs": [],
   "source": [
    "df_topic_sents_keywords = format_topics_sentences(ldamodel=optimal_model, corpus=corpus, texts=data_filtered)\n",
    "\n",
    "# Format\n",
    "df_dominant_topic = df_topic_sents_keywords.reset_index()\n",
    "df_dominant_topic.columns = ['Document_No', 'Dominant_Topic', 'Topic_Perc_Contrib', 'Keywords', 'Text']\n",
    "\n"
   ]
  },
  {
   "cell_type": "code",
   "execution_count": null,
   "metadata": {},
   "outputs": [],
   "source": [
    "# # Show\n",
    "len(df_dominant_topic)"
   ]
  },
  {
   "cell_type": "markdown",
   "metadata": {},
   "source": [
    "### Compute dominant topic for each Tweet"
   ]
  },
  {
   "cell_type": "code",
   "execution_count": null,
   "metadata": {},
   "outputs": [],
   "source": [
    "# Group top 40 Tweets under each topic\n",
    "sent_topics_sorteddf_mallet = pd.DataFrame()\n",
    "\n",
    "sent_topics_outdf_grpd = df_dominant_topic.groupby('Dominant_Topic')\n",
    "\n",
    "for i, grp in sent_topics_outdf_grpd:\n",
    "    sent_topics_sorteddf_mallet = pd.concat([sent_topics_sorteddf_mallet, \n",
    "                                             grp.sort_values(['Topic_Perc_Contrib'], ascending=[0]).head(40)], \n",
    "                                            axis=0)\n",
    "\n",
    "# Reset Index    \n",
    "sent_topics_sorteddf_mallet.reset_index(drop=True, inplace=True)\n",
    "\n",
    "# # Format\n",
    "# sent_topics_sorteddf_mallet.columns = ['Topic_Num', \"Topic_Perc_Contrib\", \"Keywords\", \"Text\"]\n",
    "\n",
    "# Show\n",
    "sent_topics_sorteddf_mallet.head()"
   ]
  },
  {
   "cell_type": "markdown",
   "metadata": {},
   "source": [
    "## Most dominant topics and number of documents for each:"
   ]
  },
  {
   "cell_type": "code",
   "execution_count": null,
   "metadata": {},
   "outputs": [],
   "source": [
    "# Number of Documents for Each Topic\n",
    "series_topic_counts = df_topic_sents_keywords['Dominant_Topic'].value_counts()\n",
    "\n",
    "idx = []\n",
    "topic_counts = []\n",
    "keywords = []\n",
    "topic_contributions = []\n",
    "\n",
    "for (i, count) in series_topic_counts.iteritems():\n",
    "    idx.append(int(i))\n",
    "    keywords.append(\", \".join([word for word, _ in optimal_model.show_topic(int(i))]))\n",
    "    topic_counts.append(count)\n",
    "    topic_contributions.append(str(round(100*count/series_topic_counts.sum(), 2))+'%')\n",
    "    \n",
    "df_dominant_topics = pd.DataFrame.from_dict({\n",
    "    'Dominant_Topic_Num': idx,\n",
    "    'Topic_Keywords': keywords, \n",
    "    'Num_Documents': topic_counts, \n",
    "    'Perc_Documents': topic_contributions\n",
    "})\n",
    "\n",
    "# Show\n",
    "pd.options.display.max_colwidth = 100\n",
    "df_dominant_topics.set_index('Dominant_Topic_Num', inplace=True)\n",
    "df_dominant_topics"
   ]
  },
  {
   "cell_type": "markdown",
   "metadata": {},
   "source": [
    "# DF to Excel"
   ]
  },
  {
   "cell_type": "code",
   "execution_count": null,
   "metadata": {},
   "outputs": [],
   "source": [
    "from pandas import ExcelWriter\n",
    "\n",
    "writer = ExcelWriter('output/2014/data/2014_13_clusters.xlsx')\n",
    "new_df = df_dominant_topics.copy()\n",
    "new_df.index += 1\n",
    "new_df.to_excel(writer,'topic_rank')\n",
    "\n",
    "for topic_no in range(13):\n",
    "    new_df = sent_topics_sorteddf_mallet.iloc[topic_no*40:((topic_no+1)*40),[0,4]]\n",
    "    new_df.set_index('Document_No', inplace=True)\n",
    "    \n",
    "    replied_texts = []\n",
    "    for i, row in new_df.iterrows():\n",
    "        if replied_ids[indices[i]]:\n",
    "            try:\n",
    "                text = api.get_status(replied_ids[indices[i]], tweet_mode='extended').full_text\n",
    "                replied_texts.append(text)\n",
    "            except:\n",
    "                replied_texts.append('')\n",
    "        else:\n",
    "            replied_texts.append('')\n",
    "            \n",
    "    new_df['In_Reply_To'] = replied_texts\n",
    "    \n",
    "    new_df.reset_index(inplace=True)\n",
    "    new_df.drop(['Document_No'], axis=1, inplace=True)\n",
    "    new_df.to_excel(writer,'topic_'+str(topic_no+1))\n",
    "    \n",
    "writer.save()"
   ]
  }
 ],
 "metadata": {
  "kernelspec": {
   "display_name": "Python 3",
   "language": "python",
   "name": "python3"
  },
  "language_info": {
   "codemirror_mode": {
    "name": "ipython",
    "version": 3
   },
   "file_extension": ".py",
   "mimetype": "text/x-python",
   "name": "python",
   "nbconvert_exporter": "python",
   "pygments_lexer": "ipython3",
   "version": "3.7.1"
  }
 },
 "nbformat": 4,
 "nbformat_minor": 2
}
