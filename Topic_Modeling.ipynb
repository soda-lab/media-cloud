{
 "cells": [
  {
   "cell_type": "code",
   "execution_count": 1,
   "metadata": {},
   "outputs": [],
   "source": [
    "import re\n",
    "import numpy as np\n",
    "import pandas as pd\n",
    "\n",
    "# Gensim\n",
    "import gensim\n",
    "import gensim.corpora as corpora\n",
    "from gensim.utils import simple_preprocess\n",
    "from gensim.models import CoherenceModel\n",
    "\n",
    "# NLTK\n",
    "from nltk.corpus import stopwords\n",
    "from nltk import word_tokenize\n",
    "from nltk.stem.wordnet import WordNetLemmatizer\n",
    "\n",
    "# Plotting tools\n",
    "import pyLDAvis\n",
    "import pyLDAvis.gensim  # don't skip this\n",
    "import matplotlib.pyplot as plt\n",
    "%matplotlib inline\n",
    "\n",
    "# Enable logging for gensim - optional\n",
    "import logging\n",
    "logging.basicConfig(format='%(asctime)s : %(levelname)s : %(message)s', level=logging.ERROR)\n",
    "\n",
    "import warnings\n",
    "warnings.filterwarnings(\"ignore\",category=DeprecationWarning)"
   ]
  },
  {
   "cell_type": "code",
   "execution_count": 2,
   "metadata": {},
   "outputs": [],
   "source": [
    "lmtz = WordNetLemmatizer()\n",
    "\n",
    "\n",
    "def lemmatize(word):\n",
    "    if word.startswith('#'):\n",
    "        return word\n",
    "    \n",
    "    lemma = lmtz.lemmatize(word, 'v')\n",
    "    if lemma == word:\n",
    "        lemma = lmtz.lemmatize(word, 'n')\n",
    "    return lemma\n",
    "\n",
    "\n",
    "def strip_punc(s):\n",
    "    if s[0] == '#':\n",
    "        return s\n",
    "    return ''.join([c for c in s if c.isalpha()])"
   ]
  },
  {
   "cell_type": "markdown",
   "metadata": {},
   "source": [
    "### Stop words"
   ]
  },
  {
   "cell_type": "code",
   "execution_count": 3,
   "metadata": {},
   "outputs": [],
   "source": [
    "stop_words = [strip_punc(w) for w in stopwords.words('english')]\n",
    "stop_words.extend([\n",
    "    'i',\n",
    "    'u',\n",
    "    'r',\n",
    "    'im',\n",
    "    'cant',\n",
    "    'would',\n",
    "    'family',\n",
    "    'domestic',\n",
    "    'violence',\n",
    "    'australia',\n",
    "    'australian',\n",
    "    'dv',\n",
    "    'fv',\n",
    "    'wa',\n",
    "    'via',\n",
    "    'today',\n",
    "    'thing',\n",
    "    'make',\n",
    "    'talk',\n",
    "    'due',\n",
    "    'day',\n",
    "    'month',\n",
    "    'find',\n",
    "    'show',\n",
    "    'put',\n",
    "    'part',\n",
    "    'time',\n",
    "    'yeah',\n",
    "    'deal',\n",
    "    'big',\n",
    "    'level',\n",
    "    'focus',\n",
    "    'theyre',\n",
    "    'list',\n",
    "    'top',\n",
    "    'give',\n",
    "    'situation',\n",
    "    'lot',\n",
    "    'hold',\n",
    "    'number',\n",
    "    'include',\n",
    "    'form',\n",
    "    'back',\n",
    "    'involve',\n",
    "    'link',\n",
    "    'real'\n",
    "])"
   ]
  },
  {
   "cell_type": "markdown",
   "metadata": {},
   "source": [
    "### Data"
   ]
  },
  {
   "cell_type": "code",
   "execution_count": 4,
   "metadata": {},
   "outputs": [],
   "source": [
    "import configparser\n",
    "import warnings\n",
    "from pymongo import MongoClient\n",
    "\n",
    "warnings.filterwarnings(\"ignore\", category=DeprecationWarning)\n",
    "\n",
    "config = configparser.ConfigParser()\n",
    "config.read('config.ini')\n",
    "host = config['DEFAULT']['IP']\n",
    "port = config['DEFAULT']['MongoDB-Port']\n",
    "\n",
    "client = MongoClient(host, int(port))\n",
    "db = client['mediacloud']\n",
    "\n",
    "col_names = [\n",
    "    'dv', \n",
    "    'fv',\n",
    "    'dv-fv'\n",
    "]"
   ]
  },
  {
   "cell_type": "code",
   "execution_count": 5,
   "metadata": {},
   "outputs": [
    {
     "name": "stdout",
     "output_type": "stream",
     "text": [
      "5699\n"
     ]
    }
   ],
   "source": [
    "data = []\n",
    "\n",
    "for col_name in col_names:\n",
    "    for record in db[col_name].find():\n",
    "        if '2018' in record['publish_date']:\n",
    "            if record['text']:\n",
    "                data.append(record['text'])\n",
    "        \n",
    "print(len(data))"
   ]
  },
  {
   "cell_type": "markdown",
   "metadata": {},
   "source": [
    "### Preprocessing"
   ]
  },
  {
   "cell_type": "code",
   "execution_count": 6,
   "metadata": {},
   "outputs": [
    {
     "name": "stdout",
     "output_type": "stream",
     "text": [
      "0 100 200 300 400 500 600 700 800 900 1000 1100 1200 1300 1400 1500 1600 1700 1800 1900 2000 2100 2200 2300 2400 2500 2600 2700 2800 2900 3000 3100 3200 3300 3400 3500 3600 3700 3800 3900 4000 4100 4200 4300 4400 4500 4600 4700 4800 4900 5000 5100 5200 5300 5400 5500 5600 "
     ]
    }
   ],
   "source": [
    "set_cleaned_sent = set()\n",
    "data_lemmatized = []\n",
    "data_filtered = []\n",
    "\n",
    "for i, sent in enumerate(data):\n",
    "    \n",
    "    cleaned_sent = ''\n",
    "    for token in sent.split():\n",
    "        \n",
    "        # Cleaning\n",
    "        if token[0] in ['#','@','$','%','^','&','*'] or token.startswith('http'):\n",
    "            continue\n",
    "\n",
    "        # Remove puctuations, lower case\n",
    "        token = strip_punc(token.lower())\n",
    "        \n",
    "        # Lemmatize\n",
    "        lemma = lemmatize(token)\n",
    "\n",
    "        if lemma and lemma not in stop_words:\n",
    "            cleaned_sent += lemma + ' '\n",
    "    \n",
    "    cleaned_sent = cleaned_sent.strip()\n",
    "    \n",
    "    # Check for duplicates\n",
    "    if cleaned_sent and cleaned_sent not in set_cleaned_sent:\n",
    "        set_cleaned_sent.add(cleaned_sent)\n",
    "        data_lemmatized.append(cleaned_sent.split())\n",
    "        data_filtered.append(sent)\n",
    "        \n",
    "    if i % 100 == 0:\n",
    "        print(i, end=' ')"
   ]
  },
  {
   "cell_type": "code",
   "execution_count": 7,
   "metadata": {},
   "outputs": [
    {
     "data": {
      "text/plain": [
       "5420"
      ]
     },
     "execution_count": 7,
     "metadata": {},
     "output_type": "execute_result"
    }
   ],
   "source": [
    "len(data_lemmatized)"
   ]
  },
  {
   "cell_type": "markdown",
   "metadata": {},
   "source": [
    "### Creating Bigram and Trigram Models"
   ]
  },
  {
   "cell_type": "code",
   "execution_count": 8,
   "metadata": {},
   "outputs": [],
   "source": [
    "# Build the bigram and trigram models\n",
    "bigram = gensim.models.Phrases(data_lemmatized, min_count=5, threshold=100) # higher threshold fewer phrases.\n",
    "# trigram = gensim.models.Phrases(bigram[data_lemmatized], threshold=100)  \n",
    "\n",
    "# Faster way to get a Tweet clubbed as a trigram/bigram\n",
    "bigram_mod = gensim.models.phrases.Phraser(bigram)\n",
    "# trigram_mod = gensim.models.phrases.Phraser(trigram)"
   ]
  },
  {
   "cell_type": "code",
   "execution_count": 9,
   "metadata": {},
   "outputs": [],
   "source": [
    "def make_bigrams(texts):\n",
    "    return [bigram_mod[doc] for doc in texts]\n",
    "\n",
    "\n",
    "def make_trigrams(texts):\n",
    "    return [trigram_mod[bigram_mod[doc]] for doc in texts]"
   ]
  },
  {
   "cell_type": "code",
   "execution_count": 10,
   "metadata": {},
   "outputs": [],
   "source": [
    "data_lemmatized = make_bigrams(data_lemmatized)"
   ]
  },
  {
   "cell_type": "markdown",
   "metadata": {},
   "source": [
    "### Create the Dictionary and Corpus needed for Topic Modeling"
   ]
  },
  {
   "cell_type": "code",
   "execution_count": 11,
   "metadata": {},
   "outputs": [
    {
     "name": "stdout",
     "output_type": "stream",
     "text": [
      "[['come', 'new', 'year', 'resolution', 'bathurst', 'improve', 'health', 'people', 'come', 'surprise', 'popular', 'answer', 'question', 'whats', 'new', 'year', 'resolution', 'statistic', 'around', 'world', 'often', 'favour', 'resolution', 'mayor_graeme', 'hanger', 'one', 'bathurst', 'want', 'health', 'resolution', 'old', 'traditional', 'one', 'lose', 'bite', 'weight', 'get', 'fit', 'apple', 'keep', 'doctor', 'away', 'say', 'also', 'hop', 'spend', 'year', 'grandchild', 'weve', 'get', 'try', 'catch', 'say', 'member', 'bathurst', 'paul_toole', 'also', 'jump', 'board', 'health', 'fitness', 'bandwagon', 'new', 'year', 'resolution', 'get', 'fitter', 'say', 'mr', 'toole', 'also', 'want', 'difference', 'community', 'new', 'year', 'set', 'ambitious', 'careerrelated', 'goal', 'ive', 'set', 'goal', 'minimum', 'one', 'fund', 'announcement', 'bathurst', 'electorate', 'say', 'lifeline_central', 'west', 'executive_director', 'alex_ferguson', 'say', 'lifeline', 'good', 'year', 'across', 'board', 'resolution', 'keep', 'momentum', 'another', 'successful', 'year', 'saw', 'people', 'counsel', 'answer', 'call', 'lifeline', 'train', 'people', 'mental_health', 'say', 'barometer', 'use', 'good', 'year', 'cap', 'purchase', 'new', 'build', 'hope', 'stay', 'well', 'keep', 'busy', 'lifeline', 'hope', 'maintain', 'momentum', 'achieve', 'hope', 'continue', 'reach', 'people', 'encourage', 'hand', 'help', 'everyone', 'traditional', 'new', 'year', 'resolution', 'however', 'panorama', 'road', 'safety', 'matthew', 'irvine', 'goal', 'mind', 'rely', 'heavily', 'mother', 'nature', 'ive', 'become', 'license', 'snake', 'breeder', 'want', 'successfully', 'breed', 'two', 'spot', 'python', 'say', 'mr', 'irvine', 'need', 'wait', 'mid', 'late', 'winter', 'get', 'work', 'resolution', 'result', 'least', 'late', 'october', 'people', 'choose', 'resolution', 'former', 'bathurst', 'business', 'chamber', 'president', 'stacey', 'whittaker', 'say', 'one', 'resolution', 'new', 'year', 'roll', 'around', 'husband', 'mick', 'something', 'want', 'say', 'couple', 'resolution', 'yearold', 'daughter', 'tell', 'parent', 'want', 'get', 'fitter', 'year', 'completely', 'dead', 'whittaker', 'household', 'whittaker', 'say']]\n"
     ]
    }
   ],
   "source": [
    "# Create Dictionary\n",
    "id2word = corpora.Dictionary(data_lemmatized)\n",
    "\n",
    "# Create Corpus\n",
    "texts = data_lemmatized\n",
    "\n",
    "# Term Document Frequency\n",
    "corpus = [id2word.doc2bow(text) for text in texts]\n",
    "\n",
    "# View\n",
    "print(data_lemmatized[:1])"
   ]
  },
  {
   "cell_type": "markdown",
   "metadata": {},
   "source": [
    "### Building LDA Mallet Model\n",
    "Mallet’s version of LDA often gives a better quality of topics.\n",
    "Num of topics = 20 at this step."
   ]
  },
  {
   "cell_type": "code",
   "execution_count": 12,
   "metadata": {},
   "outputs": [],
   "source": [
    "# Download File: http://mallet.cs.umass.edu/dist/mallet-2.0.8.zip\n",
    "mallet_path = 'input/mallet-2.0.8/bin/mallet' # update this path\n",
    "# ldamallet = gensim.models.wrappers.LdaMallet(mallet_path, corpus=corpus, num_topics=12, id2word=id2word)"
   ]
  },
  {
   "cell_type": "markdown",
   "metadata": {},
   "source": [
    "### Optimal number of topics for LDA\n",
    "Build many LDA models with different values of number of topics (k) and pick the one that gives the highest coherence value."
   ]
  },
  {
   "cell_type": "code",
   "execution_count": 13,
   "metadata": {},
   "outputs": [],
   "source": [
    "def compute_coherence_values(dictionary, corpus, texts, limit, start=2, step=3):\n",
    "    \"\"\"\n",
    "    Compute c_v coherence for various number of topics\n",
    "\n",
    "    Parameters:\n",
    "    ----------\n",
    "    dictionary : Gensim dictionary\n",
    "    corpus : Gensim corpus\n",
    "    texts : List of input texts\n",
    "    limit : Max num of topics\n",
    "\n",
    "    Returns:\n",
    "    -------\n",
    "    model_list : List of LDA topic models\n",
    "    coherence_values : Coherence values corresponding to the LDA model with respective number of topics\n",
    "    \"\"\"\n",
    "    coherence_values = []\n",
    "    model_list = []\n",
    "    for num_topics in range(start, limit, step):\n",
    "        model = gensim.models.wrappers.LdaMallet(mallet_path, corpus=corpus, num_topics=num_topics, id2word=id2word)\n",
    "        model_list.append(model)\n",
    "        print(str(len(model_list)-1)+'-'+str(num_topics),end=' ')\n",
    "        coherencemodel = CoherenceModel(model=model, texts=texts, dictionary=dictionary, coherence='c_v')\n",
    "        coherence_values.append(coherencemodel.get_coherence())\n",
    "\n",
    "    return model_list, coherence_values"
   ]
  },
  {
   "cell_type": "markdown",
   "metadata": {},
   "source": [
    "#### Topic coherence provide a convenient measure to judge how good a given topic model is."
   ]
  },
  {
   "cell_type": "code",
   "execution_count": 19,
   "metadata": {},
   "outputs": [
    {
     "name": "stdout",
     "output_type": "stream",
     "text": [
      "0-5 1-6 2-7 3-8 4-9 5-10 6-11 7-12 8-13 9-14 10-15 11-16 12-17 13-18 14-19 "
     ]
    }
   ],
   "source": [
    "# Takes a long time to run.\n",
    "model_list, coherence_values = compute_coherence_values(dictionary=id2word, corpus=corpus, texts=data_lemmatized, start=5, limit=20, step=1)"
   ]
  },
  {
   "cell_type": "code",
   "execution_count": null,
   "metadata": {},
   "outputs": [],
   "source": [
    "# ml2, cv2 = compute_coherence_values(dictionary=id2word, corpus=corpus, texts=data_lemmatized, start=15, limit=20, step=2)\n",
    "# model_list.extend(ml2)\n",
    "# coherence_values.extend(cv2)"
   ]
  },
  {
   "cell_type": "markdown",
   "metadata": {},
   "source": [
    "# Graphs"
   ]
  },
  {
   "cell_type": "code",
   "execution_count": 20,
   "metadata": {},
   "outputs": [
    {
     "data": {
      "image/png": "[encoded data removed]",
      "text/plain": [
       "<Figure size 432x288 with 1 Axes>"
      ]
     },
     "metadata": {
      "needs_background": "light"
     },
     "output_type": "display_data"
    }
   ],
   "source": [
    "limit=20; start=5; step=1;\n",
    "x = range(start, limit, step)\n",
    "plt.figure().suptitle('2018')\n",
    "plt.plot(x, coherence_values)\n",
    "plt.xlabel(\"Num Topics\")\n",
    "plt.ylabel(\"Coherence score\")\n",
    "plt.legend((\"coherence_values\"), loc='best')\n",
    "plt.show()"
   ]
  },
  {
   "cell_type": "markdown",
   "metadata": {},
   "source": [
    "# Evaluation"
   ]
  },
  {
   "cell_type": "code",
   "execution_count": 21,
   "metadata": {
    "scrolled": false
   },
   "outputs": [
    {
     "name": "stderr",
     "output_type": "stream",
     "text": [
      "/anaconda3/lib/python3.7/site-packages/pyLDAvis/_prepare.py:223: RuntimeWarning: divide by zero encountered in log\n",
      "  kernel = (topic_given_term * np.log((topic_given_term.T / topic_proportion).T))\n",
      "/anaconda3/lib/python3.7/site-packages/pyLDAvis/_prepare.py:240: RuntimeWarning: divide by zero encountered in log\n",
      "  log_lift = np.log(topic_term_dists / term_proportion)\n",
      "/anaconda3/lib/python3.7/site-packages/pyLDAvis/_prepare.py:241: RuntimeWarning: divide by zero encountered in log\n",
      "  log_ttd = np.log(topic_term_dists)\n",
      "/anaconda3/lib/python3.7/site-packages/pyLDAvis/_prepare.py:257: FutureWarning: Sorting because non-concatenation axis is not aligned. A future version\n",
      "of pandas will change to not sort by default.\n",
      "\n",
      "To accept the future behavior, pass 'sort=False'.\n",
      "\n",
      "To retain the current behavior and silence the warning, pass 'sort=True'.\n",
      "\n",
      "  return pd.concat([default_term_info] + list(topic_dfs))\n"
     ]
    },
    {
     "data": {
      "text/html": [
       "\n",
       "<link rel=\"stylesheet\" type=\"text/css\" href=\"https://cdn.rawgit.com/bmabey/pyLDAvis/files/ldavis.v1.0.0.css\">\n",
       "\n",
       "\n",
       "<div id=\"ldavis_el43801122649387441106090018\"></div>\n",
       "<script type=\"text/javascript\">\n",
       "\n",
       "var ldavis_el43801122649387441106090018_data = {\"mdsDat\": {\"x\": [-0.03450801542304655, 0.08744724711650244, -0.0751128177333393, 0.2502711174909452, 0.15364627096172606, -0.3432588577173324, 0.030505192594800622, -0.06899013729025576], \"y\": [0.08725837218561447, -0.20219319498487137, -0.2133617686405378, 0.1345421442907431, 0.06554598577715551, 0.04883038153078452, -0.16924408008429578, 0.24862215992540743], \"topics\": [1, 2, 3, 4, 5, 6, 7, 8], \"cluster\": [1, 1, 1, 1, 1, 1, 1, 1], \"Freq\": [13.795503253320952, 13.794973762600534, 13.515238888701031, 12.77912731418277, 12.446982419090071, 11.9543477745569, 11.64163918918864, 10.072187398359105]}, \"tinfo\": {\"Category\": [\"Default\", \"Default\", \"Default\", \"Default\", \"Default\", \"Default\", \"Default\", \"Default\", \"Default\", \"Default\", \"Default\", \"Default\", \"Default\", \"Default\", \"Default\", \"Default\", \"Default\", \"Default\", \"Default\", \"Default\", \"Default\", \"Default\", \"Default\", \"Default\", \"Default\", \"Default\", \"Default\", \"Default\", \"Default\", \"Default\", \"Topic1\", \"Topic1\", \"Topic1\", \"Topic1\", \"Topic1\", \"Topic1\", \"Topic1\", \"Topic1\", \"Topic1\", \"Topic1\", \"Topic1\", \"Topic1\", \"Topic1\", \"Topic1\", \"Topic1\", \"Topic1\", \"Topic1\", \"Topic1\", \"Topic1\", \"Topic1\", \"Topic1\", \"Topic1\", \"Topic1\", \"Topic1\", \"Topic1\", \"Topic1\", \"Topic1\", \"Topic1\", \"Topic1\", \"Topic1\", \"Topic1\", \"Topic1\", \"Topic1\", \"Topic1\", \"Topic1\", \"Topic1\", \"Topic1\", \"Topic1\", \"Topic1\", \"Topic1\", \"Topic1\", \"Topic1\", \"Topic1\", \"Topic1\", \"Topic1\", \"Topic1\", \"Topic1\", \"Topic1\", \"Topic1\", \"Topic1\", \"Topic1\", \"Topic1\", \"Topic1\", \"Topic1\", \"Topic1\", \"Topic1\", \"Topic1\", \"Topic1\", \"Topic1\", \"Topic1\", \"Topic1\", \"Topic1\", \"Topic1\", \"Topic1\", \"Topic1\", \"Topic1\", \"Topic1\", \"Topic1\", \"Topic1\", \"Topic1\", \"Topic1\", \"Topic1\", \"Topic1\", \"Topic1\", \"Topic1\", \"Topic1\", \"Topic1\", \"Topic1\", \"Topic1\", \"Topic1\", \"Topic1\", \"Topic1\", \"Topic1\", \"Topic1\", \"Topic1\", \"Topic1\", \"Topic1\", \"Topic1\", \"Topic1\", \"Topic1\", \"Topic1\", \"Topic1\", \"Topic2\", \"Topic2\", \"Topic2\", \"Topic2\", \"Topic2\", \"Topic2\", \"Topic2\", \"Topic2\", \"Topic2\", \"Topic2\", \"Topic2\", \"Topic2\", \"Topic2\", \"Topic2\", \"Topic2\", \"Topic2\", \"Topic2\", \"Topic2\", \"Topic2\", \"Topic2\", \"Topic2\", \"Topic2\", \"Topic2\", \"Topic2\", \"Topic2\", \"Topic2\", \"Topic2\", \"Topic2\", \"Topic2\", \"Topic2\", \"Topic2\", \"Topic2\", \"Topic2\", \"Topic2\", \"Topic2\", \"Topic2\", \"Topic2\", \"Topic2\", \"Topic2\", \"Topic2\", \"Topic2\", \"Topic2\", \"Topic2\", \"Topic2\", \"Topic2\", \"Topic2\", \"Topic2\", \"Topic2\", \"Topic2\", \"Topic2\", \"Topic2\", \"Topic2\", \"Topic2\", \"Topic2\", \"Topic2\", \"Topic2\", \"Topic2\", \"Topic2\", \"Topic2\", \"Topic2\", \"Topic2\", \"Topic2\", \"Topic2\", \"Topic2\", \"Topic2\", \"Topic2\", \"Topic2\", \"Topic2\", \"Topic2\", \"Topic2\", \"Topic2\", \"Topic2\", \"Topic2\", \"Topic2\", \"Topic2\", \"Topic2\", \"Topic2\", \"Topic2\", \"Topic2\", \"Topic2\", \"Topic2\", \"Topic2\", \"Topic2\", \"Topic2\", \"Topic2\", \"Topic2\", \"Topic2\", \"Topic2\", \"Topic2\", \"Topic2\", \"Topic2\", \"Topic2\", \"Topic2\", \"Topic2\", \"Topic2\", \"Topic2\", \"Topic2\", \"Topic2\", \"Topic2\", \"Topic2\", \"Topic3\", \"Topic3\", \"Topic3\", \"Topic3\", \"Topic3\", \"Topic3\", \"Topic3\", \"Topic3\", \"Topic3\", \"Topic3\", \"Topic3\", \"Topic3\", \"Topic3\", \"Topic3\", \"Topic3\", \"Topic3\", \"Topic3\", \"Topic3\", \"Topic3\", \"Topic3\", \"Topic3\", \"Topic3\", \"Topic3\", \"Topic3\", \"Topic3\", \"Topic3\", \"Topic3\", \"Topic3\", \"Topic3\", \"Topic3\", \"Topic3\", \"Topic3\", \"Topic3\", \"Topic3\", \"Topic3\", \"Topic3\", \"Topic3\", \"Topic3\", \"Topic3\", \"Topic3\", \"Topic3\", \"Topic3\", \"Topic3\", \"Topic3\", \"Topic3\", \"Topic3\", \"Topic3\", \"Topic3\", \"Topic3\", \"Topic3\", \"Topic3\", \"Topic3\", \"Topic3\", \"Topic3\", \"Topic3\", \"Topic3\", \"Topic3\", \"Topic3\", \"Topic3\", \"Topic3\", \"Topic3\", \"Topic3\", \"Topic3\", \"Topic3\", \"Topic3\", \"Topic3\", \"Topic3\", \"Topic3\", \"Topic3\", \"Topic3\", \"Topic3\", \"Topic3\", \"Topic3\", \"Topic3\", \"Topic3\", \"Topic3\", \"Topic3\", \"Topic3\", \"Topic3\", \"Topic3\", \"Topic3\", \"Topic3\", \"Topic3\", \"Topic3\", \"Topic3\", \"Topic3\", \"Topic3\", \"Topic3\", \"Topic3\", \"Topic3\", \"Topic3\", \"Topic3\", \"Topic3\", \"Topic4\", \"Topic4\", \"Topic4\", \"Topic4\", \"Topic4\", \"Topic4\", \"Topic4\", \"Topic4\", \"Topic4\", \"Topic4\", \"Topic4\", \"Topic4\", \"Topic4\", \"Topic4\", \"Topic4\", \"Topic4\", \"Topic4\", \"Topic4\", \"Topic4\", \"Topic4\", \"Topic4\", \"Topic4\", \"Topic4\", \"Topic4\", \"Topic4\", \"Topic4\", \"Topic4\", \"Topic4\", \"Topic4\", \"Topic4\", \"Topic4\", \"Topic4\", \"Topic4\", \"Topic4\", \"Topic4\", \"Topic4\", \"Topic4\", \"Topic4\", \"Topic4\", \"Topic4\", \"Topic4\", \"Topic4\", \"Topic4\", \"Topic4\", \"Topic4\", \"Topic4\", \"Topic4\", \"Topic4\", \"Topic4\", \"Topic4\", \"Topic4\", \"Topic4\", \"Topic4\", \"Topic4\", \"Topic4\", \"Topic4\", \"Topic4\", \"Topic4\", \"Topic4\", \"Topic4\", \"Topic4\", \"Topic4\", \"Topic4\", \"Topic4\", \"Topic4\", \"Topic4\", \"Topic4\", \"Topic4\", \"Topic4\", \"Topic4\", \"Topic4\", \"Topic4\", \"Topic4\", \"Topic4\", \"Topic4\", \"Topic4\", \"Topic4\", \"Topic4\", \"Topic4\", \"Topic4\", \"Topic4\", \"Topic4\", \"Topic4\", \"Topic4\", \"Topic4\", \"Topic4\", \"Topic4\", \"Topic4\", \"Topic4\", \"Topic4\", \"Topic4\", \"Topic4\", \"Topic4\", \"Topic4\", \"Topic5\", \"Topic5\", \"Topic5\", \"Topic5\", \"Topic5\", \"Topic5\", \"Topic5\", \"Topic5\", \"Topic5\", \"Topic5\", \"Topic5\", \"Topic5\", \"Topic5\", \"Topic5\", \"Topic5\", \"Topic5\", \"Topic5\", \"Topic5\", \"Topic5\", \"Topic5\", \"Topic5\", \"Topic5\", \"Topic5\", \"Topic5\", \"Topic5\", \"Topic5\", \"Topic5\", \"Topic5\", \"Topic5\", \"Topic5\", \"Topic5\", \"Topic5\", \"Topic5\", \"Topic5\", \"Topic5\", \"Topic5\", \"Topic5\", \"Topic5\", \"Topic5\", \"Topic5\", \"Topic5\", \"Topic5\", \"Topic5\", \"Topic5\", \"Topic5\", \"Topic5\", \"Topic5\", \"Topic5\", \"Topic5\", \"Topic5\", \"Topic5\", \"Topic5\", \"Topic5\", \"Topic5\", \"Topic5\", \"Topic5\", \"Topic5\", \"Topic5\", \"Topic5\", \"Topic5\", \"Topic5\", \"Topic5\", \"Topic5\", \"Topic5\", \"Topic5\", \"Topic5\", \"Topic5\", \"Topic5\", \"Topic5\", \"Topic5\", \"Topic5\", \"Topic5\", \"Topic5\", \"Topic5\", \"Topic5\", \"Topic5\", \"Topic5\", \"Topic5\", \"Topic5\", \"Topic5\", \"Topic5\", \"Topic5\", \"Topic5\", \"Topic5\", \"Topic5\", \"Topic5\", \"Topic5\", \"Topic5\", \"Topic5\", \"Topic5\", \"Topic6\", \"Topic6\", \"Topic6\", \"Topic6\", \"Topic6\", \"Topic6\", \"Topic6\", \"Topic6\", \"Topic6\", \"Topic6\", \"Topic6\", \"Topic6\", \"Topic6\", \"Topic6\", \"Topic6\", \"Topic6\", \"Topic6\", \"Topic6\", \"Topic6\", \"Topic6\", \"Topic6\", \"Topic6\", \"Topic6\", \"Topic6\", \"Topic6\", \"Topic6\", \"Topic6\", \"Topic6\", \"Topic6\", \"Topic6\", \"Topic6\", \"Topic6\", \"Topic6\", \"Topic6\", \"Topic6\", \"Topic6\", \"Topic6\", \"Topic6\", \"Topic6\", \"Topic6\", \"Topic6\", \"Topic6\", \"Topic6\", \"Topic6\", \"Topic6\", \"Topic6\", \"Topic6\", \"Topic6\", \"Topic6\", \"Topic6\", \"Topic6\", \"Topic6\", \"Topic6\", \"Topic6\", \"Topic6\", \"Topic6\", \"Topic6\", \"Topic6\", \"Topic6\", \"Topic6\", \"Topic6\", \"Topic6\", \"Topic6\", \"Topic6\", \"Topic6\", \"Topic6\", \"Topic6\", \"Topic6\", \"Topic6\", \"Topic6\", \"Topic6\", \"Topic6\", \"Topic6\", \"Topic6\", \"Topic6\", \"Topic6\", \"Topic6\", \"Topic6\", \"Topic6\", \"Topic6\", \"Topic6\", \"Topic6\", \"Topic6\", \"Topic6\", \"Topic6\", \"Topic6\", \"Topic6\", \"Topic6\", \"Topic6\", \"Topic6\", \"Topic6\", \"Topic7\", \"Topic7\", \"Topic7\", \"Topic7\", \"Topic7\", \"Topic7\", \"Topic7\", \"Topic7\", \"Topic7\", \"Topic7\", \"Topic7\", \"Topic7\", \"Topic7\", \"Topic7\", \"Topic7\", \"Topic7\", \"Topic7\", \"Topic7\", \"Topic7\", \"Topic7\", \"Topic7\", \"Topic7\", \"Topic7\", \"Topic7\", \"Topic7\", \"Topic7\", \"Topic7\", \"Topic7\", \"Topic7\", \"Topic7\", \"Topic7\", \"Topic7\", \"Topic7\", \"Topic7\", \"Topic7\", \"Topic7\", \"Topic7\", \"Topic7\", \"Topic7\", \"Topic7\", \"Topic7\", \"Topic7\", \"Topic7\", \"Topic7\", \"Topic7\", \"Topic7\", \"Topic7\", \"Topic7\", \"Topic7\", \"Topic7\", \"Topic7\", \"Topic7\", \"Topic7\", \"Topic7\", \"Topic7\", \"Topic7\", \"Topic7\", \"Topic7\", \"Topic7\", \"Topic7\", \"Topic7\", \"Topic7\", \"Topic7\", \"Topic7\", \"Topic7\", \"Topic7\", \"Topic7\", \"Topic7\", \"Topic7\", \"Topic7\", \"Topic7\", \"Topic7\", \"Topic7\", \"Topic7\", \"Topic7\", \"Topic7\", \"Topic7\", \"Topic7\", \"Topic7\", \"Topic7\", \"Topic7\", \"Topic7\", \"Topic7\", \"Topic7\", \"Topic7\", \"Topic7\", \"Topic7\", \"Topic7\", \"Topic7\", \"Topic8\", \"Topic8\", \"Topic8\", \"Topic8\", \"Topic8\", \"Topic8\", \"Topic8\", \"Topic8\", \"Topic8\", \"Topic8\", \"Topic8\", \"Topic8\", \"Topic8\", \"Topic8\", \"Topic8\", \"Topic8\", \"Topic8\", \"Topic8\", \"Topic8\", \"Topic8\", \"Topic8\", \"Topic8\", \"Topic8\", \"Topic8\", \"Topic8\", \"Topic8\", \"Topic8\", \"Topic8\", \"Topic8\", \"Topic8\", \"Topic8\", \"Topic8\", \"Topic8\", \"Topic8\", \"Topic8\", \"Topic8\", \"Topic8\", \"Topic8\", \"Topic8\", \"Topic8\", \"Topic8\", \"Topic8\", \"Topic8\", \"Topic8\", \"Topic8\", \"Topic8\", \"Topic8\", \"Topic8\", \"Topic8\", \"Topic8\", \"Topic8\", \"Topic8\", \"Topic8\", \"Topic8\", \"Topic8\", \"Topic8\", \"Topic8\", \"Topic8\", \"Topic8\", \"Topic8\", \"Topic8\", \"Topic8\", \"Topic8\", \"Topic8\", \"Topic8\", \"Topic8\", \"Topic8\", \"Topic8\", \"Topic8\", \"Topic8\", \"Topic8\", \"Topic8\", \"Topic8\", \"Topic8\", \"Topic8\", \"Topic8\", \"Topic8\", \"Topic8\", \"Topic8\", \"Topic8\", \"Topic8\", \"Topic8\", \"Topic8\", \"Topic8\", \"Topic8\", \"Topic8\", \"Topic8\", \"Topic8\", \"Topic8\", \"Topic8\", \"Topic8\", \"Topic8\", \"Topic8\", \"Topic8\"], \"Freq\": [16400.0, 12319.0, 7493.0, 9004.0, 5890.0, 8043.0, 6031.0, 4771.0, 3763.0, 11068.0, 3354.0, 3008.0, 4264.0, 3031.0, 8136.0, 5218.0, 3305.0, 3026.0, 2328.0, 4309.0, 3855.0, 3002.0, 4400.0, 2455.0, 2063.0, 2459.0, 2212.0, 2810.0, 2154.0, 4054.0, 1.200366915662124, 6.0018345783106195, 1.200366915662124, 12.003669156621239, 2.400733831324248, 6.0018345783106195, 4.801467662648496, 15.604769903607611, 1.200366915662124, 3.6011007469863716, 3.6011007469863716, 1.200366915662124, 4.801467662648496, 3.6011007469863716, 1.200366915662124, 33.61027363853947, 7.202201493972743, 16.805136819269734, 12.003669156621239, 18.005503734931857, 1.200366915662124, 1.200366915662124, 1.200366915662124, 14.404402987945486, 18.005503734931857, 3.6011007469863716, 1.200366915662124, 1.200366915662124, 15.604769903607611, 1.200366915662124, 2328.7118163845203, 1259.1848945295678, 1177.5599442645434, 824.652071059879, 821.0509703128927, 713.0179479033015, 654.1999690358575, 640.9959329635742, 576.1761195178194, 529.3618098069967, 493.3508023371329, 448.9372264576344, 423.7295212287297, 358.90970778297503, 349.30677245767805, 326.4998010600977, 324.09906722877344, 322.8987003131113, 291.6891605058961, 276.0843906022885, 237.67264930110053, 223.26824631315503, 219.66714556616867, 216.06604481918228, 211.26457715653382, 204.06237566256104, 379.31594534923113, 199.26090799991255, 192.05870650593982, 178.85467043365645, 602.5841916623862, 1043.1188497103856, 613.3874939033453, 1654.1056097824066, 429.73135580704036, 924.2825250598355, 471.7441978552146, 1104.337562409154, 601.3838247467241, 3583.0952432514396, 520.9592413973618, 837.8561071321624, 786.2403297586911, 1099.5360947465056, 1189.5636134211647, 552.168781204577, 764.6337252767729, 1676.912581179987, 891.8726183369581, 1170.357742770571, 1610.8924008185704, 2256.689801444793, 1251.9826930355953, 1112.7401308187889, 1119.9423323127614, 847.4590424574594, 779.0381282647184, 786.2403297586911, 749.0289553731653, 854.6612439514322, 775.437027517732, 745.4278546261789, 6.106935261661936, 8.54970936632671, 34.19883746530684, 31.756063360642063, 8.54970936632671, 6.106935261661936, 10.992483470991484, 8.54970936632671, 26.870515151312517, 8.54970936632671, 13.435257575656259, 50.07686914562787, 28.091902203644903, 10.992483470991484, 21.984966941982968, 10.992483470991484, 8.54970936632671, 12.213870523323871, 8.54970936632671, 8.54970936632671, 8.54970936632671, 8.54970936632671, 10.992483470991484, 13.435257575656259, 6.106935261661936, 6.106935261661936, 6.106935261661936, 25.649128098980125, 6.106935261661936, 8.54970936632671, 3761.872121183752, 661.9917823641538, 439.6993388396594, 367.63750275204853, 359.0877933857218, 344.4311487577332, 252.82711983280413, 241.83463636181264, 235.72770110015068, 218.6282823674973, 200.30747658251147, 196.64331542551432, 196.64331542551432, 183.20805784985805, 181.98667079752568, 178.32250964052852, 177.10112258819612, 175.87973553586374, 166.10863911720466, 161.22309090787508, 155.11615564621314, 152.6733815415484, 140.45951101822453, 136.79534986122735, 136.79534986122735, 134.3525757565626, 129.46702754723302, 128.24564049490064, 128.24564049490064, 119.69593112857393, 929.4755468249466, 177.10112258819612, 249.16295867580695, 206.41441184417343, 13358.310191359318, 792.6801969637193, 1236.0436969603759, 605.807977956864, 712.0686515097817, 1083.3703154188274, 528.8605936599237, 1363.067950402944, 668.0987176258157, 1005.2015440695546, 505.65423966560826, 1225.0512134893843, 453.1345964153156, 415.27159779301155, 685.1981363584691, 1668.4147134860407, 1464.4430757465323, 741.3819407657589, 528.8605936599237, 381.07276032770477, 928.2541597726142, 758.4813594984124, 462.90569283397474, 1139.5541198261171, 538.6316900785828, 1403.3737231299128, 668.0987176258157, 659.549008259489, 1265.356986216353, 643.6709765791679, 538.6316900785828, 679.0912010968073, 691.3050716201311, 571.6091404915571, 591.1513333288754, 564.2808181775628, 45.18512973183617, 45.18512973183617, 45.18512973183617, 180.74051892734468, 90.37025946367234, 1.2212197224820587, 1.2212197224820587, 1.2212197224820587, 1.2212197224820587, 3.6636591674461765, 1.2212197224820587, 3.6636591674461765, 1.2212197224820587, 9.76975777985647, 15.875856392266764, 1.2212197224820587, 4.884878889928235, 3.6636591674461765, 1.2212197224820587, 4.884878889928235, 1.2212197224820587, 3.6636591674461765, 1.2212197224820587, 1.2212197224820587, 3.6636591674461765, 2.4424394449641174, 1.2212197224820587, 1.2212197224820587, 4.884878889928235, 7.327318334892353, 1427.6058555815266, 1278.6170494387154, 599.6188837386908, 559.3186328967829, 483.60301010289527, 2027.2247393202174, 330.9505447926379, 311.411029232925, 297.97761228562234, 290.65029395073, 274.7744375584632, 257.6773614437144, 238.13784588400148, 232.03174727159114, 230.81052754910908, 227.1468683816629, 221.04076976925262, 221.04076976925262, 219.81955004677056, 219.81955004677056, 205.16491337698588, 196.61637531961148, 188.06783726223705, 178.2980794823806, 172.19198086997028, 157.53734420018557, 157.53734420018557, 153.87368503273942, 142.88270753040086, 1687.725656470205, 1029.4882260523755, 487.2666692703414, 958.6574821484161, 809.6686760056049, 569.0883906766394, 5676.229270096609, 1439.8180528063474, 1191.9104491424894, 1423.9421964140804, 797.4564787807843, 803.5625773931947, 936.675527143739, 1968.6061926410787, 2436.3333463517074, 1182.1406913626329, 1232.2106999843973, 934.233087698775, 1577.81588144682, 511.6910637199826, 1260.2987536014846, 1633.9919886809946, 1019.7184682725191, 664.3435290302399, 853.632586014959, 1257.8563141565205, 989.1879752104676, 792.5715998908561, 2218.9562357499008, 1248.086556376664, 1169.9284941378123, 930.5694285313289, 990.4091949329495, 1002.6213921577703, 1.1592935307803507, 1.1592935307803507, 4.637174123121403, 2.3185870615607014, 1.1592935307803507, 1.1592935307803507, 1.1592935307803507, 1.1592935307803507, 1.1592935307803507, 2.3185870615607014, 1.1592935307803507, 1.1592935307803507, 1.1592935307803507, 1.1592935307803507, 2.3185870615607014, 1.1592935307803507, 2.3185870615607014, 2.3185870615607014, 1.1592935307803507, 1.1592935307803507, 1.1592935307803507, 4.637174123121403, 2.3185870615607014, 1.1592935307803507, 1.1592935307803507, 1.1592935307803507, 2.3185870615607014, 4.637174123121403, 1.1592935307803507, 1.1592935307803507, 7493.673382964187, 3031.552582990617, 1187.116575519079, 433.5757805118512, 293.30126328742875, 286.34550210274665, 262.00033795635926, 259.68175089479854, 233.01799968685052, 214.4693031943649, 210.99142260202385, 200.55778082500066, 192.44272610953823, 191.2834325787579, 188.96484551719715, 182.00908433251507, 154.18603959378666, 148.3895719398849, 147.23027840910453, 133.31875603974035, 120.56652720115648, 118.24794013959577, 117.08864660881542, 117.08864660881542, 105.49571130101192, 104.33641777023158, 99.69924364711017, 98.53995011632982, 250.40740264855577, 96.22136305476911, 823.098406854049, 1043.3641777023158, 1096.691680118212, 224.90294497138802, 5202.909366142215, 7310.505005100892, 724.5584567377192, 757.018675599569, 1357.5327245437907, 1194.0723367037613, 1672.8605649160463, 581.9653524517361, 556.4608947745684, 1887.3298681104109, 522.8413823819382, 719.9212826145979, 1750.5332314783295, 878.744496331506, 1483.895719398849, 1607.9401271923464, 1558.0905053687914, 1756.3296991322316, 2718.5433296799224, 3745.677397951313, 888.0188445777487, 617.903451905927, 2530.7377776935054, 1173.205053149715, 2367.2773898534765, 1474.6213711526063, 1136.1076601647437, 1968.4804152650356, 1211.4617396654667, 799.912536238442, 16.8209487448214, 14.41795606698977, 1.2014963389158144, 1.2014963389158144, 4.805985355663258, 2.402992677831629, 265.530690900395, 2.402992677831629, 1.2014963389158144, 34.84339382855862, 1.2014963389158144, 1.2014963389158144, 7.208978033494885, 1.2014963389158144, 6.007481694579072, 12.014963389158144, 2.402992677831629, 1.2014963389158144, 3.6044890167474426, 2.402992677831629, 8.4104743724107, 3.6044890167474426, 1.2014963389158144, 9.611970711326515, 2.402992677831629, 8.4104743724107, 1.2014963389158144, 8.4104743724107, 8.4104743724107, 1.2014963389158144, 1456.213562765967, 1213.5113023049723, 678.8454314874351, 613.9646291859812, 704.0768546046672, 589.9347024076649, 489.0090099387364, 480.59853556632567, 452.964119771262, 440.94915638210387, 438.54616370427226, 396.49379184221874, 383.27733211414477, 347.23244194667035, 341.22496025209125, 326.8070041851015, 283.55313598413215, 279.9486469673847, 272.73966893388985, 269.1351799171424, 251.1127348334052, 248.70974215557357, 236.69477876641542, 228.28430439400472, 228.28430439400472, 222.27682269942565, 218.67233368267821, 207.85886663243588, 206.65737029352007, 1744.5726841057622, 1272.3846229118474, 424.12820763728246, 1440.5941103600614, 254.7172238501526, 341.22496025209125, 755.7411971780473, 457.7701051269253, 1384.123782431018, 610.3601401692337, 1027.2793697730212, 2292.455014651374, 789.38309466769, 885.5028017809551, 3683.7877751158867, 1058.5182745848324, 794.1890800233533, 2859.561286619638, 1044.1003185178427, 1125.802069564118, 801.3980580568481, 1065.7272526183274, 996.0404649612101, 668.0319644371928, 833.838459207575, 978.0180198774729, 881.8983127642077, 1065.7272526183274, 917.9432029316821, 829.0324738519118, 666.8304680982769, 13.696054693288657, 11.413378911073881, 6.848027346644328, 5.7066894555369405, 3.424013673322164, 3.424013673322164, 6.848027346644328, 13.696054693288657, 3.424013673322164, 3.424013673322164, 11.413378911073881, 3.424013673322164, 6.848027346644328, 5.7066894555369405, 13.696054693288657, 5.7066894555369405, 6.848027346644328, 5.7066894555369405, 3.424013673322164, 3.424013673322164, 19.402744148825597, 3.424013673322164, 3.424013673322164, 11.413378911073881, 19.402744148825597, 6.848027346644328, 3.424013673322164, 11.413378911073881, 6.848027346644328, 6.848027346644328, 5890.44485600523, 3008.5666809590753, 1475.7498932018527, 1399.2802544976578, 1327.3759673578925, 1212.100840356046, 816.0565921417825, 729.314912417621, 634.5838674557077, 522.7327541271837, 415.44699236308924, 412.0229786897671, 409.7403029075523, 409.7403029075523, 409.7403029075523, 370.93481460990114, 345.8253810055386, 341.260029441109, 300.1718653612431, 300.1718653612431, 299.03052747013567, 299.03052747013567, 299.03052747013567, 296.7478516879209, 293.3238380145987, 277.3451075390953, 270.49708019245094, 238.53961924144411, 227.12624033037025, 217.99553720151113, 4573.340929667304, 406.31628923423017, 297.8891895790283, 1108.239092265274, 765.8377249330574, 390.33755875872674, 1928.8610359714858, 744.152305002017, 630.0185158912783, 1350.20272518004, 1583.0356549659473, 1755.377676523163, 538.7114846026872, 787.5231448640977, 5013.897355634756, 674.5306936444664, 938.179746490273, 953.0171390746691, 2646.762569478033, 1718.8548640077265, 1173.2953520583949, 760.1310354775205, 705.3468167043658, 923.342353905877, 961.0065043124208, 738.4456155464802, 821.7632815973195, 751.0003323486615, 894.8089066281923, 1066.0095902943006, 747.5763186753393, 1.2019850935082954, 10.81786584157466, 2.403970187016591, 1.2019850935082954, 1.2019850935082954, 2.403970187016591, 2.403970187016591, 1.2019850935082954, 1.2019850935082954, 2.403970187016591, 1.2019850935082954, 1.2019850935082954, 2.403970187016591, 1.2019850935082954, 1.2019850935082954, 3.6059552805248862, 3.6059552805248862, 2.403970187016591, 2.403970187016591, 2.403970187016591, 9.615880748066363, 1.2019850935082954, 10.81786584157466, 4.807940374033182, 2.403970187016591, 1.2019850935082954, 4.807940374033182, 1.2019850935082954, 3.6059552805248862, 1.2019850935082954, 1366.657051318932, 1195.975168040754, 995.2436574248685, 722.3930411984855, 539.6913069852246, 414.6848572603619, 395.4530957642292, 383.43324482914625, 371.4133938940633, 306.50619884461537, 280.06252678743283, 528.87344114365, 277.65855660041626, 272.85061622638307, 270.4466460393665, 258.4267951042835, 252.41686963674204, 245.20495907569227, 236.7910634211342, 228.37716776657612, 209.1454062704434, 201.9334957093936, 199.52952552237704, 195.92357024185213, 182.70173421326092, 177.89379383922773, 171.88386837168622, 170.68188327817793, 168.27791309116137, 161.0660025301116, 826.9657443337072, 1854.6629992833, 240.39701870165908, 185.1057044002775, 645.4659952139546, 284.870467161466, 378.62530445511305, 625.0322486243136, 441.1285293175444, 959.1841046196197, 427.9066932889532, 768.0684747518009, 431.5126485694781, 634.64812937238, 383.43324482914625, 617.8203380632639, 387.0392001096711, 1882.3086564339906, 373.81736408107986, 670.7076821776288, 515.6516051150587, 462.76426100069375, 524.0655007696168, 548.1052026397826, 456.75433553315224, 449.5424249721025, 443.53249950456103, 427.9066932889532, 405.06897651229554, 33.30510244308627, 13.084147388355321, 8.326275610771567, 16.652551221543135, 8.326275610771567, 16.652551221543135, 8.326275610771567, 8.326275610771567, 139.16774949432477, 13.084147388355321, 33.30510244308627, 8.326275610771567, 36.873506276274085, 8.326275610771567, 13.084147388355321, 215.29369793566482, 52.336589553421284, 8.326275610771567, 26.168294776710642, 13.084147388355321, 26.168294776710642, 53.52605749781722, 29.736698609898458, 8.326275610771567, 16.652551221543135, 8.326275610771567, 8.326275610771567, 13.084147388355321, 36.873506276274085, 36.873506276274085, 1313.172610613116, 1311.98314266872, 1307.2252708911362, 1306.0358029467404, 939.6796760727913, 504.33440842387785, 317.5879411537155, 304.5037937653602, 297.36698609898457, 281.9039028218374, 266.44081954469016, 221.2410376576445, 204.58848643610136, 204.58848643610136, 199.83061465851765, 153.44136482707603, 148.68349304949228, 148.68349304949228, 145.11508921630445, 143.9256212719085, 141.54668538311665, 137.97828154992885, 135.59934566113697, 132.03094182794914, 124.89413416157352, 123.70466621717758, 123.70466621717758, 122.51519827278165, 228.37784532402014, 3036.71166204283, 713.680766637563, 925.40606074004, 143.9256212719085, 806.4592663004462, 2169.5895305781914, 7305.712114479853, 586.4076965871976, 2107.7371974696025, 1541.5504559371361, 1621.244808211664, 2554.9771445624756, 512.6606840346494, 648.2600296957864, 1498.7296099388823, 2114.874005135978, 745.7964011362533, 638.7442861406189, 1517.7610970492174, 555.4815300329032, 1072.9000858451363, 547.1552544221316, 587.5971645315935, 862.3642596870552, 463.89249831441595, 620.9022669746797, 2565.6823560620387, 1693.802352819816, 1218.0151750614407, 1008.6688168477557, 1371.4565398885168, 720.8175743039386, 712.491298693167, 824.3012854663853, 720.8175743039386], \"Term\": [\"woman\", \"police\", \"service\", \"community\", \"court\", \"child\", \"support\", \"man\", \"men\", \"people\", \"crime\", \"charge\", \"report\", \"program\", \"mr\", \"government\", \"per_cent\", \"officer\", \"law\", \"home\", \"local\", \"health\", \"victim\", \"increase\", \"mother\", \"incident\", \"yearold\", \"nsw\", \"event\", \"house\", \"stanvac\", \"nondisclosure\", \"tobaccosmuggling\", \"barkly_regional\", \"goldflam\", \"fortify\", \"skyhigh\", \"inaccurate\", \"brekkie\", \"kneed\", \"lowy\", \"mixedgender\", \"muslimmajority\", \"consternation\", \"indiscreet\", \"mexico\", \"nbc\", \"succession\", \"smoothly\", \"shakeup\", \"toothpick\", \"subsubculture\", \"tword\", \"accuracy\", \"archer\", \"partway\", \"scoreline\", \"abbington\", \"mabbutt\", \"federico\", \"law\", \"labor\", \"party\", \"parliament\", \"review\", \"election\", \"vote\", \"reform\", \"legislation\", \"trump\", \"liberal\", \"royal_commission\", \"prime_minister\", \"candidate\", \"coalition\", \"recommendation\", \"opposition\", \"abortion\", \"privacy\", \"porter\", \"recommend\", \"fairfax_medium\", \"senate\", \"spokeswoman\", \"senator\", \"robertssmith\", \"propose\", \"amendment\", \"delay\", \"voter\", \"commission\", \"policy\", \"mp\", \"system\", \"consent\", \"federal\", \"introduce\", \"minister\", \"bill\", \"government\", \"letter\", \"decision\", \"process\", \"concern\", \"record\", \"allegation\", \"claim\", \"state\", \"legal\", \"act\", \"report\", \"mr\", \"health\", \"case\", \"issue\", \"victoria\", \"access\", \"staff\", \"force\", \"change\", \"week\", \"public\", \"barness\", \"heavier\", \"spell\", \"romance\", \"mark_joffe\", \"mahalia\", \"handsome\", \"robyn_trainor\", \"rigid_gender\", \"insightful\", \"eat_disorder\", \"assumption\", \"alternate\", \"diplomacy\", \"mercy\", \"formidable\", \"pertinent\", \"faculty\", \"churchgoer\", \"likeable\", \"traverse\", \"reekie\", \"fathom\", \"overwork\", \"flicker\", \"judgmental\", \"feal\", \"exert\", \"eureka\", \"michael_salter\", \"men\", \"voice\", \"gender\", \"movement\", \"attitude\", \"divorce\", \"muslim\", \"silence\", \"journalist\", \"writer\", \"shame\", \"belief\", \"religious\", \"truth\", \"sexual_harassment\", \"american\", \"feminist\", \"equality\", \"god\", \"privilege\", \"activist\", \"imam\", \"perspective\", \"lifetime\", \"echo\", \"british\", \"ad\", \"collective\", \"islamic\", \"religion\", \"female\", \"newspaper\", \"character\", \"equal\", \"woman\", \"male\", \"world\", \"conversation\", \"book\", \"write\", \"culture\", \"story\", \"society\", \"behaviour\", \"word\", \"speak\", \"sex\", \"marriage\", \"respect\", \"change\", \"abuse\", \"sexual\", \"study\", \"listen\", \"feel\", \"country\", \"survivor\", \"experience\", \"message\", \"work\", \"campaign\", \"girl\", \"people\", \"good\", \"stand\", \"live\", \"call\", \"happen\", \"issue\", \"age\", \"tara_costigan\", \"breath\", \"deteriorate\", \"emotion\", \"carer\", \"guo\", \"ismail\", \"fatalism\", \"mealymouthed\", \"rejuvenate\", \"node\", \"canape\", \"antisemitic\", \"scum\", \"worthless\", \"biffins\", \"wrangle\", \"sociopath\", \"granddad\", \"dislocation\", \"shiv\", \"shriek\", \"tun\", \"crimewise\", \"grumpy\", \"underserved\", \"py\", \"sieve\", \"subconscious\", \"hover\", \"friend\", \"father\", \"mum\", \"baby\", \"dead\", \"mother\", \"teenager\", \"scar\", \"cry\", \"dad\", \"hurt\", \"angry\", \"abuser\", \"tragedy\", \"horrific\", \"anger\", \"tara\", \"ring\", \"memory\", \"tragic\", \"sad\", \"physically\", \"relative\", \"birth\", \"grandmother\", \"quiet\", \"teen\", \"sibling\", \"brain\", \"death\", \"die\", \"shock\", \"daughter\", \"couple\", \"sister\", \"child\", \"murder\", \"parent\", \"kill\", \"son\", \"body\", \"kid\", \"life\", \"home\", \"relationship\", \"happen\", \"love\", \"leave\", \"felt\", \"partner\", \"live\", \"feel\", \"boy\", \"girl\", \"abuse\", \"person\", \"turn\", \"year\", \"victim\", \"call\", \"start\", \"week\", \"people\", \"seleenas\", \"wince\", \"kearns\", \"klestadt\", \"abstinence\", \"waax\", \"mungo\", \"cueva\", \"woodworker\", \"veritas\", \"thirtyeight\", \"ryda\", \"rappo\", \"readymade\", \"lil\", \"mnclhds\", \"biotechnology\", \"oranas\", \"standeaven\", \"oxycodone\", \"opioids\", \"menon\", \"shailaja\", \"lingo\", \"bioscience\", \"longrecognised\", \"bicton\", \"communitycontrolled\", \"rasv\", \"swantons\", \"service\", \"program\", \"mental_health\", \"disability\", \"wellbeing\", \"hub\", \"workshop\", \"partnership\", \"lgbti\", \"referral\", \"vic\", \"mission\", \"mildura\", \"aboriginal_torres\", \"strait_islander\", \"qld\", \"practical\", \"early_intervention\", \"engagement\", \"coordinate\", \"outreach\", \"respectful_relationship\", \"educator\", \"peel\", \"equip\", \"emergency_department\", \"mount_isa\", \"distinguish\", \"participant\", \"notforprofit\", \"aboriginal\", \"youth\", \"education\", \"intervention\", \"support\", \"community\", \"aim\", \"indigenous\", \"organisation\", \"student\", \"centre\", \"range\", \"foundation\", \"school\", \"chief_executive\", \"dr\", \"health\", \"train\", \"fund\", \"provide\", \"young\", \"experience\", \"work\", \"people\", \"social\", \"crisis\", \"mr\", \"group\", \"child\", \"issue\", \"nsw\", \"woman\", \"year\", \"queensland\", \"twobedroom\", \"secondhand\", \"keystart\", \"landgate\", \"rac\", \"waco\", \"gamble\", \"natter\", \"roadnight\", \"westpac\", \"turnoff\", \"electioneve\", \"rollins\", \"auxiliarylieutenant\", \"pethybridge\", \"diversify\", \"jobcreating\", \"jobcreation\", \"impost\", \"wohlhagen\", \"union_delegate\", \"hilakari\", \"yuraygir\", \"airport_rail\", \"grandmaraping\", \"ben_wyatt\", \"caledonian\", \"duplication\", \"grain\", \"infrastcuture\", \"homelessness\", \"homeless\", \"food\", \"donate\", \"christmas\", \"donation\", \"bag\", \"accommodation\", \"shelter\", \"budget\", \"bank\", \"market\", \"billion\", \"tax\", \"rent\", \"poverty\", \"income\", \"fee\", \"site\", \"customer\", \"share_dignity\", \"rental\", \"purchase\", \"upgrade\", \"debt\", \"afford\", \"essential\", \"trade\", \"tenant\", \"million\", \"money\", \"item\", \"pay\", \"product\", \"animal\", \"cost\", \"shop\", \"business\", \"company\", \"build\", \"house\", \"financial\", \"job\", \"people\", \"council\", \"spend\", \"year\", \"fund\", \"provide\", \"plan\", \"live\", \"per_cent\", \"city\", \"increase\", \"home\", \"leave\", \"work\", \"government\", \"support\", \"state\", \"selfinflicted\", \"denes\", \"bon_jovi\", \"rundell\", \"guitarist_richie\", \"tolsons\", \"shadlow\", \"drought_forget\", \"rekindle\", \"zetland\", \"sambora\", \"hearns\", \"exposto\", \"musgroves\", \"nixon\", \"reeva\", \"pooch\", \"gatton\", \"giinagay\", \"laziness\", \"pistorius\", \"fd\", \"russel\", \"premiership_player\", \"red_cliff\", \"poplar\", \"sofala\", \"homanns\", \"brownlowe\", \"halburd\", \"court\", \"charge\", \"sentence\", \"magistrate\", \"arrest\", \"jail\", \"allegedly\", \"bail\", \"plead_guilty\", \"custody\", \"problem_might\", \"international_treaty\", \"prohibit_law\", \"unauthorised_reproduction\", \"faq_section\", \"knife\", \"prosecutor\", \"stab\", \"law_international\", \"might_experience\", \"section_problem\", \"reproduction_prohibit\", \"treaty_refer\", \"convict\", \"ltd_unauthorised\", \"defendant\", \"grab\", \"bundaberg\", \"solicitor\", \"supreme_court\", \"man\", \"refer_helpful\", \"helpful_faq\", \"allege\", \"prison\", \"punch\", \"yearold\", \"accuse\", \"injury\", \"order\", \"assault\", \"hear\", \"threaten\", \"judge\", \"police\", \"breach\", \"car\", \"drive\", \"mr\", \"victim\", \"partner\", \"release\", \"justice\", \"face\", \"incident\", \"head\", \"offence\", \"drug\", \"home\", \"woman\", \"officer\", \"repats\", \"locale\", \"lodding\", \"loiero\", \"loizou\", \"longworth\", \"lorena\", \"lorett\", \"loretto\", \"lorn\", \"louie\", \"lous\", \"louth\", \"lovedale\", \"lowther\", \"lr\", \"lucia\", \"luciano\", \"lukas\", \"lulu\", \"luncheon_natasha\", \"luschwitz\", \"lynda\", \"lyndal\", \"lyndall\", \"lyndel\", \"lyndy\", \"lynley\", \"mace\", \"macka\", \"club\", \"award\", \"game\", \"player\", \"nrl\", \"music\", \"season\", \"art\", \"newcastle\", \"race\", \"rugby_league\", \"star\", \"coach\", \"football\", \"winner\", \"festival\", \"artist\", \"passion\", \"round\", \"fan\", \"afl\", \"dance\", \"competition\", \"tour\", \"league\", \"celebration\", \"sponsor\", \"production\", \"ball\", \"george\", \"sport\", \"event\", \"song\", \"island\", \"win\", \"match\", \"honour\", \"john\", \"career\", \"play\", \"david\", \"team\", \"saturday\", \"pm\", \"field\", \"great\", \"host\", \"year\", \"weekend\", \"member\", \"raise\", \"park\", \"night\", \"run\", \"sydney\", \"group\", \"local\", \"start\", \"march\", \"crisp\", \"maryborough_rotary\", \"station_aw\", \"takeaway_alcohol\", \"gamechanger\", \"underresourced\", \"fairway\", \"kettle\", \"central_west\", \"koenig\", \"walgett\", \"ciu\", \"cardinia\", \"tack\", \"snowy_monaro\", \"trend\", \"macarthur\", \"lapel\", \"detection\", \"qpsm\", \"statistical\", \"unlock\", \"safer_pathway\", \"manninggreat_lake\", \"prince_highway\", \"dimboola\", \"operation_saturate\", \"harmon\", \"call_policelink\", \"stats\", \"please_note\", \"term_condition\", \"online_discussion\", \"comment_bind\", \"white_ribbon\", \"orange\", \"theft\", \"news_alert\", \"dubbo\", \"superintendent\", \"inspector\", \"decrease\", \"wrap_feature\", \"editor_weekly\", \"assistant_commissioner\", \"wagga\", \"moree\", \"bureau_crime\", \"statewide\", \"crime_stopper\", \"statistic_research\", \"wimmera\", \"liquor\", \"shoalhaven\", \"motor_vehicle\", \"area_command\", \"chief_inspector\", \"liverpool\", \"spike\", \"crime\", \"statistic\", \"alcohol\", \"proactive\", \"district\", \"officer\", \"police\", \"rate\", \"per_cent\", \"area\", \"increase\", \"report\", \"drop\", \"figure\", \"incident\", \"local\", \"station\", \"offender\", \"nsw\", \"relate\", \"offence\", \"target\", \"unit\", \"drug\", \"average\", \"rise\", \"year\", \"community\", \"victim\", \"state\", \"people\", \"break\", \"news\", \"call\", \"case\"], \"Total\": [16400.0, 12319.0, 7493.0, 9004.0, 5890.0, 8043.0, 6031.0, 4771.0, 3763.0, 11068.0, 3354.0, 3008.0, 4264.0, 3031.0, 8136.0, 5218.0, 3305.0, 3026.0, 2328.0, 4309.0, 3855.0, 3002.0, 4400.0, 2455.0, 2063.0, 2459.0, 2212.0, 2810.0, 2154.0, 4054.0, 1.200366915662124, 6.0018345783106195, 1.200366915662124, 12.003669156621239, 2.400733831324248, 6.0018345783106195, 4.801467662648496, 15.604769903607611, 1.200366915662124, 3.6011007469863716, 3.6011007469863716, 1.200366915662124, 4.801467662648496, 3.6011007469863716, 1.200366915662124, 33.61027363853947, 7.202201493972743, 16.805136819269734, 12.003669156621239, 18.005503734931857, 1.200366915662124, 1.200366915662124, 1.200366915662124, 14.404402987945486, 18.005503734931857, 3.6011007469863716, 1.200366915662124, 1.200366915662124, 15.604769903607611, 1.200366915662124, 2328.7118163845203, 1259.1848945295678, 1177.5599442645434, 824.652071059879, 821.0509703128927, 713.0179479033015, 654.1999690358575, 640.9959329635742, 576.1761195178194, 529.3618098069967, 493.3508023371329, 448.9372264576344, 423.7295212287297, 358.90970778297503, 349.30677245767805, 326.4998010600977, 324.09906722877344, 322.8987003131113, 291.6891605058961, 276.0843906022885, 237.67264930110053, 223.26824631315503, 219.66714556616867, 216.06604481918228, 211.26457715653382, 204.06237566256104, 381.7199155362477, 199.26090799991255, 192.05870650593982, 178.85467043365645, 617.6550075625307, 1117.313635680328, 656.0876422471368, 1888.2649473603647, 456.6018709583529, 1057.648618679491, 511.3935770394365, 1320.8285513157632, 672.2857938713466, 5218.641141736159, 579.5777880765006, 1036.282143563993, 978.0572096731474, 1568.6693739799148, 1786.1814375872225, 675.4512290838479, 1123.0138230844927, 3908.872760900588, 1436.153779213317, 2410.473074180404, 4264.024604016282, 8136.110954992404, 3002.515924513925, 3075.8542016067677, 3897.016867543014, 1899.636011482657, 1478.8345275464753, 1535.894812164864, 1641.7668297859782, 3315.794961313544, 3365.8564666041952, 2296.2635388323206, 6.106935261661936, 8.54970936632671, 34.19883746530684, 31.756063360642063, 8.54970936632671, 6.106935261661936, 10.992483470991484, 8.54970936632671, 26.870515151312517, 8.54970936632671, 13.435257575656259, 50.07686914562787, 28.091902203644903, 10.992483470991484, 21.984966941982968, 10.992483470991484, 8.54970936632671, 12.213870523323871, 8.54970936632671, 8.54970936632671, 8.54970936632671, 8.54970936632671, 10.992483470991484, 13.435257575656259, 6.106935261661936, 6.106935261661936, 6.106935261661936, 25.649128098980125, 6.106935261661936, 8.54970936632671, 3763.0134590748594, 661.9917823641538, 439.6993388396594, 367.63750275204853, 359.0877933857218, 344.4311487577332, 252.82711983280413, 241.83463636181264, 235.72770110015068, 218.6282823674973, 200.30747658251147, 196.64331542551432, 196.64331542551432, 183.20805784985805, 181.98667079752568, 178.32250964052852, 177.10112258819612, 175.87973553586374, 166.10863911720466, 161.22309090787508, 155.11615564621314, 152.6733815415484, 140.45951101822453, 136.79534986122735, 136.79534986122735, 134.3525757565626, 129.46702754723302, 128.24564049490064, 128.24564049490064, 119.69593112857393, 952.3023046470944, 178.3031076817044, 253.7283102402365, 210.01890086092087, 16400.127515253545, 910.2655665234158, 1495.6724771581676, 699.0022478727561, 841.8830416086776, 1353.2598740873625, 652.1593808756686, 2110.267535244637, 904.830564428587, 1505.9857199506046, 644.8732880285629, 2050.1017948779663, 581.2773535681822, 521.5177136489507, 1017.3349647522514, 3315.794961313544, 2910.7569956620064, 1174.931556355023, 762.0024457301776, 490.1808881445093, 1947.9726280451332, 1617.385467270696, 722.5874437287732, 3578.763011337088, 962.7813359150603, 6742.611561010058, 1483.0247966117681, 1513.181594274448, 11068.90009132984, 1978.451982864845, 1173.8959789740204, 3850.7334326645787, 4287.355169542003, 1973.2147422871558, 3897.016867543014, 1990.7829468619152, 45.18512973183617, 45.18512973183617, 45.18512973183617, 180.74051892734468, 90.37025946367234, 1.2212197224820587, 1.2212197224820587, 1.2212197224820587, 1.2212197224820587, 3.6636591674461765, 1.2212197224820587, 3.6636591674461765, 1.2212197224820587, 9.76975777985647, 15.875856392266764, 1.2212197224820587, 4.884878889928235, 3.6636591674461765, 1.2212197224820587, 4.884878889928235, 1.2212197224820587, 3.6636591674461765, 1.2212197224820587, 1.2212197224820587, 3.6636591674461765, 2.4424394449641174, 1.2212197224820587, 1.2212197224820587, 4.884878889928235, 7.327318334892353, 1427.6058555815266, 1278.6170494387154, 599.6188837386908, 559.3186328967829, 483.60301010289527, 2063.7475518356537, 330.9505447926379, 311.411029232925, 297.97761228562234, 290.65029395073, 274.7744375584632, 257.6773614437144, 238.13784588400148, 232.03174727159114, 230.81052754910908, 227.1468683816629, 221.04076976925262, 221.04076976925262, 219.81955004677056, 219.81955004677056, 205.16491337698588, 196.61637531961148, 188.06783726223705, 178.2980794823806, 172.19198086997028, 157.53734420018557, 157.53734420018557, 153.87368503273942, 142.88270753040086, 1761.9126193921852, 1142.480677272007, 520.2441196833158, 1071.6499333680474, 907.8237346408403, 633.9955857260874, 8043.506659950086, 1781.0780822474565, 1449.978118933591, 1772.0502532018338, 958.385121426926, 980.9899060602884, 1207.9502133463411, 2961.9311735948954, 4309.160272857373, 1778.17976199201, 1973.2147422871558, 1473.4634294401485, 3410.231580047048, 685.1280251511815, 2609.415635319271, 3850.7334326645787, 1947.9726280451332, 1011.2174518926379, 1513.181594274448, 2910.7569956620064, 2007.923853754984, 1364.331609175823, 12262.549033903822, 4400.990805634222, 4287.355169542003, 2358.3932635292467, 3365.8564666041952, 11068.90009132984, 1.1592935307803507, 1.1592935307803507, 4.637174123121403, 2.3185870615607014, 1.1592935307803507, 1.1592935307803507, 1.1592935307803507, 1.1592935307803507, 1.1592935307803507, 2.3185870615607014, 1.1592935307803507, 1.1592935307803507, 1.1592935307803507, 1.1592935307803507, 2.3185870615607014, 1.1592935307803507, 2.3185870615607014, 2.3185870615607014, 1.1592935307803507, 1.1592935307803507, 1.1592935307803507, 4.637174123121403, 2.3185870615607014, 1.1592935307803507, 1.1592935307803507, 1.1592935307803507, 2.3185870615607014, 4.637174123121403, 1.1592935307803507, 1.1592935307803507, 7493.673382964187, 3031.552582990617, 1187.116575519079, 433.5757805118512, 293.30126328742875, 286.34550210274665, 262.00033795635926, 259.68175089479854, 233.01799968685052, 214.4693031943649, 210.99142260202385, 200.55778082500066, 192.44272610953823, 191.2834325787579, 188.96484551719715, 182.00908433251507, 154.18603959378666, 148.3895719398849, 147.23027840910453, 133.31875603974035, 120.56652720115648, 118.24794013959577, 117.08864660881542, 117.08864660881542, 105.49571130101192, 104.33641777023158, 99.69924364711017, 98.53995011632982, 252.81137283557237, 96.22136305476911, 845.083373796032, 1080.248582949856, 1144.325775159175, 228.47134880457583, 6031.941839994127, 9004.307357920708, 827.8871418844792, 875.4932196758105, 1687.9461727640096, 1481.3467740522437, 2246.814664797909, 702.4985518548817, 683.8713146864477, 2853.3648620048807, 647.7631189315721, 957.9700752503061, 3002.515924513925, 1294.5081965980105, 2527.9960379166914, 3094.520068855102, 2976.054561819518, 3578.763011337088, 6742.611561010058, 11068.90009132984, 1523.0491980002025, 914.6730476181331, 8136.110954992404, 2514.845943223153, 8043.506659950086, 3897.016867543014, 2810.0415730909567, 16400.127515253545, 12262.549033903822, 1974.7080232388873, 16.8209487448214, 14.41795606698977, 1.2014963389158144, 1.2014963389158144, 4.805985355663258, 2.402992677831629, 265.530690900395, 2.402992677831629, 1.2014963389158144, 34.84339382855862, 1.2014963389158144, 1.2014963389158144, 7.208978033494885, 1.2014963389158144, 6.007481694579072, 12.014963389158144, 2.402992677831629, 1.2014963389158144, 3.6044890167474426, 2.402992677831629, 8.4104743724107, 3.6044890167474426, 1.2014963389158144, 9.611970711326515, 2.402992677831629, 8.4104743724107, 1.2014963389158144, 8.4104743724107, 8.4104743724107, 1.2014963389158144, 1456.213562765967, 1213.5113023049723, 678.8454314874351, 613.9646291859812, 705.2788396981755, 589.9347024076649, 489.0090099387364, 480.59853556632567, 452.964119771262, 440.94915638210387, 438.54616370427226, 396.49379184221874, 383.27733211414477, 347.23244194667035, 341.22496025209125, 326.8070041851015, 283.55313598413215, 279.9486469673847, 272.73966893388985, 269.1351799171424, 251.1127348334052, 248.70974215557357, 236.69477876641542, 228.28430439400472, 228.28430439400472, 222.27682269942565, 218.67233368267821, 207.85886663243588, 206.65737029352007, 1843.0027711900564, 1357.8700034855915, 434.8334191368459, 1595.4414424804754, 257.15966329511673, 355.13648262145546, 863.7742195876384, 501.73401513627937, 1827.774771746664, 733.7202324548048, 1391.2975384380513, 4054.3916534088767, 1143.8475223373885, 1351.3050624312873, 11068.90009132984, 1871.0797019433476, 1385.8887573801633, 12262.549033903822, 2527.9960379166914, 3094.520068855102, 1651.1868159952478, 3850.7334326645787, 3305.4393042620495, 1271.5546692056466, 2455.083267419239, 4309.160272857373, 3410.231580047048, 6742.611561010058, 5218.641141736159, 6031.941839994127, 3908.872760900588, 13.696054693288657, 11.413378911073881, 6.848027346644328, 5.7066894555369405, 3.424013673322164, 3.424013673322164, 6.848027346644328, 13.696054693288657, 3.424013673322164, 3.424013673322164, 11.413378911073881, 3.424013673322164, 6.848027346644328, 5.7066894555369405, 13.696054693288657, 5.7066894555369405, 6.848027346644328, 5.7066894555369405, 3.424013673322164, 3.424013673322164, 19.402744148825597, 3.424013673322164, 3.424013673322164, 11.413378911073881, 19.402744148825597, 6.848027346644328, 3.424013673322164, 11.413378911073881, 6.848027346644328, 6.848027346644328, 5890.44485600523, 3008.5666809590753, 1475.7498932018527, 1399.2802544976578, 1327.3759673578925, 1212.100840356046, 816.0565921417825, 729.314912417621, 634.5838674557077, 522.7327541271837, 415.44699236308924, 412.0229786897671, 409.7403029075523, 409.7403029075523, 409.7403029075523, 370.93481460990114, 345.8253810055386, 341.260029441109, 300.1718653612431, 300.1718653612431, 299.03052747013567, 299.03052747013567, 299.03052747013567, 296.7478516879209, 293.3238380145987, 277.3451075390953, 270.49708019245094, 238.53961924144411, 227.12624033037025, 217.99553720151113, 4771.205632145151, 409.9207782509776, 299.09068591794414, 1176.680859264835, 806.6502000655696, 397.5494693197765, 2212.1840115873233, 856.9867950742566, 716.7251161875045, 1785.935915565391, 2255.0959425209185, 2577.5061729387885, 614.4374818472952, 983.1829521170239, 12319.60947011461, 866.5905295736599, 1521.9857066768004, 1567.387062417829, 8136.110954992404, 4400.990805634222, 2609.415635319271, 1303.9395678839733, 1232.3725639586733, 2160.1565570118332, 2459.736114251303, 1364.4479071631486, 1894.6633674424559, 1613.3645920357167, 4309.160272857373, 16400.127515253545, 3026.1394411468837, 1.2019850935082954, 10.81786584157466, 2.403970187016591, 1.2019850935082954, 1.2019850935082954, 2.403970187016591, 2.403970187016591, 1.2019850935082954, 1.2019850935082954, 2.403970187016591, 1.2019850935082954, 1.2019850935082954, 2.403970187016591, 1.2019850935082954, 1.2019850935082954, 3.6059552805248862, 3.6059552805248862, 2.403970187016591, 2.403970187016591, 2.403970187016591, 9.615880748066363, 1.2019850935082954, 10.81786584157466, 4.807940374033182, 2.403970187016591, 1.2019850935082954, 4.807940374033182, 1.2019850935082954, 3.6059552805248862, 1.2019850935082954, 1366.657051318932, 1195.975168040754, 995.2436574248685, 722.3930411984855, 539.6913069852246, 414.6848572603619, 395.4530957642292, 383.43324482914625, 371.4133938940633, 306.50619884461537, 280.06252678743283, 532.2974548169722, 277.65855660041626, 272.85061622638307, 270.4466460393665, 258.4267951042835, 252.41686963674204, 245.20495907569227, 236.7910634211342, 228.37716776657612, 209.1454062704434, 201.9334957093936, 199.52952552237704, 195.92357024185213, 182.70173421326092, 177.89379383922773, 171.88386837168622, 170.68188327817793, 168.27791309116137, 161.0660025301116, 852.1971674509393, 2154.4089212710765, 245.28256691098863, 186.3072007391933, 783.5081905150988, 307.6988976008665, 437.2518829670676, 800.9306041338009, 543.409739663411, 1455.2201606540414, 577.5987138485377, 1380.7808098232683, 586.7346017600828, 1068.3565279931875, 508.9058036183406, 1131.0259677787967, 526.1544238033132, 12262.549033903822, 571.591906232663, 2501.1785734016585, 1389.788521868261, 1101.8081366900944, 1642.2294635003768, 1941.644442373044, 1259.8739029171275, 2514.845943223153, 3855.0262122236054, 2358.3932635292467, 1184.2665165900646, 33.30510244308627, 13.084147388355321, 8.326275610771567, 16.652551221543135, 8.326275610771567, 16.652551221543135, 8.326275610771567, 8.326275610771567, 139.16774949432477, 13.084147388355321, 33.30510244308627, 8.326275610771567, 36.873506276274085, 8.326275610771567, 13.084147388355321, 215.29369793566482, 52.336589553421284, 8.326275610771567, 26.168294776710642, 13.084147388355321, 26.168294776710642, 53.52605749781722, 29.736698609898458, 8.326275610771567, 16.652551221543135, 8.326275610771567, 8.326275610771567, 13.084147388355321, 36.873506276274085, 36.873506276274085, 1313.172610613116, 1311.98314266872, 1307.2252708911362, 1306.0358029467404, 940.8210139638986, 504.33440842387785, 317.5879411537155, 304.5037937653602, 297.36698609898457, 281.9039028218374, 266.44081954469016, 221.2410376576445, 204.58848643610136, 204.58848643610136, 199.83061465851765, 153.44136482707603, 148.68349304949228, 148.68349304949228, 145.11508921630445, 143.9256212719085, 141.54668538311665, 137.97828154992885, 135.59934566113697, 132.03094182794914, 124.89413416157352, 123.70466621717758, 123.70466621717758, 122.51519827278165, 230.82061942868492, 3354.003595770684, 753.9865393645318, 1007.5823888997719, 145.1470083242409, 994.7800183331652, 3026.1394411468837, 12319.60947011461, 726.9827682403479, 3305.4393042620495, 2312.645051742827, 2455.083267419239, 4264.024604016282, 641.2618691243991, 870.4203742289365, 2459.736114251303, 3855.0262122236054, 1051.0767167094546, 888.6972842931369, 2810.0415730909567, 755.1365152784265, 1894.6633674424559, 757.3346658348797, 847.0527448434668, 1613.3645920357167, 598.4600882729872, 994.6010368896536, 12262.549033903822, 9004.307357920708, 4400.990805634222, 3908.872760900588, 11068.90009132984, 1585.4134372660787, 1711.1708629913285, 4287.355169542003, 3075.8542016067677], \"loglift\": [30.0, 29.0, 28.0, 27.0, 26.0, 25.0, 24.0, 23.0, 22.0, 21.0, 20.0, 19.0, 18.0, 17.0, 16.0, 15.0, 14.0, 13.0, 12.0, 11.0, 10.0, 9.0, 8.0, 7.0, 6.0, 5.0, 4.0, 3.0, 2.0, 1.0, 1.9808, 1.9808, 1.9808, 1.9808, 1.9808, 1.9808, 1.9808, 1.9808, 1.9808, 1.9808, 1.9808, 1.9808, 1.9808, 1.9808, 1.9808, 1.9808, 1.9808, 1.9808, 1.9808, 1.9808, 1.9808, 1.9808, 1.9808, 1.9808, 1.9808, 1.9808, 1.9808, 1.9808, 1.9808, 1.9808, 1.9808, 1.9808, 1.9808, 1.9808, 1.9808, 1.9808, 1.9808, 1.9808, 1.9808, 1.9808, 1.9808, 1.9808, 1.9808, 1.9808, 1.9808, 1.9808, 1.9808, 1.9808, 1.9808, 1.9808, 1.9808, 1.9808, 1.9808, 1.9808, 1.9808, 1.9808, 1.9745, 1.9808, 1.9808, 1.9808, 1.9561, 1.9121, 1.9135, 1.8484, 1.9202, 1.846, 1.9001, 1.8018, 1.8694, 1.6048, 1.8742, 1.7683, 1.7625, 1.6255, 1.5743, 1.7793, 1.5965, 1.1345, 1.5044, 1.2583, 1.0074, 0.6984, 1.1061, 0.9641, 0.7339, 1.1737, 1.3399, 1.3112, 1.1961, 0.6251, 0.5128, 0.8557, 1.9809, 1.9809, 1.9809, 1.9809, 1.9809, 1.9809, 1.9809, 1.9809, 1.9809, 1.9809, 1.9809, 1.9809, 1.9809, 1.9809, 1.9809, 1.9809, 1.9809, 1.9809, 1.9809, 1.9809, 1.9809, 1.9809, 1.9809, 1.9809, 1.9809, 1.9809, 1.9809, 1.9809, 1.9809, 1.9809, 1.9806, 1.9809, 1.9809, 1.9809, 1.9809, 1.9809, 1.9809, 1.9809, 1.9809, 1.9809, 1.9809, 1.9809, 1.9809, 1.9809, 1.9809, 1.9809, 1.9809, 1.9809, 1.9809, 1.9809, 1.9809, 1.9809, 1.9809, 1.9809, 1.9809, 1.9809, 1.9809, 1.9809, 1.9809, 1.9809, 1.9566, 1.9741, 1.9627, 1.9636, 1.7757, 1.8425, 1.7902, 1.8378, 1.8134, 1.7584, 1.7713, 1.5438, 1.6776, 1.5766, 1.7377, 1.466, 1.7318, 1.7531, 1.5856, 1.294, 1.2939, 1.5204, 1.6156, 1.7291, 1.2396, 1.2236, 1.5356, 0.8365, 1.4001, 0.4113, 1.1835, 1.1505, -0.1879, 0.858, 1.2018, 0.2456, 0.156, 0.7419, 0.095, 0.7201, 2.0014, 2.0014, 2.0014, 2.0014, 2.0014, 2.0014, 2.0014, 2.0014, 2.0014, 2.0014, 2.0014, 2.0014, 2.0014, 2.0014, 2.0014, 2.0014, 2.0014, 2.0014, 2.0014, 2.0014, 2.0014, 2.0014, 2.0014, 2.0014, 2.0014, 2.0014, 2.0014, 2.0014, 2.0014, 2.0014, 2.0014, 2.0014, 2.0014, 2.0014, 2.0014, 1.9835, 2.0014, 2.0014, 2.0014, 2.0014, 2.0014, 2.0014, 2.0014, 2.0014, 2.0014, 2.0014, 2.0014, 2.0014, 2.0014, 2.0014, 2.0014, 2.0014, 2.0014, 2.0014, 2.0014, 2.0014, 2.0014, 2.0014, 2.0014, 1.9583, 1.8972, 1.9359, 1.8899, 1.8869, 1.8933, 1.6528, 1.7887, 1.8054, 1.7826, 1.8175, 1.8018, 1.747, 1.5928, 1.4311, 1.5931, 1.5305, 1.5457, 1.2306, 1.7095, 1.2736, 1.1441, 1.3541, 1.5812, 1.4289, 1.1623, 1.2934, 1.4582, 0.2918, 0.7411, 0.7026, 1.0714, 0.778, -0.4002, 2.0574, 2.0574, 2.0574, 2.0574, 2.0574, 2.0574, 2.0574, 2.0574, 2.0574, 2.0574, 2.0574, 2.0574, 2.0574, 2.0574, 2.0574, 2.0574, 2.0574, 2.0574, 2.0574, 2.0574, 2.0574, 2.0574, 2.0574, 2.0574, 2.0574, 2.0574, 2.0574, 2.0574, 2.0574, 2.0574, 2.0574, 2.0574, 2.0574, 2.0574, 2.0574, 2.0574, 2.0574, 2.0574, 2.0574, 2.0574, 2.0574, 2.0574, 2.0574, 2.0574, 2.0574, 2.0574, 2.0574, 2.0574, 2.0574, 2.0574, 2.0574, 2.0574, 2.0574, 2.0574, 2.0574, 2.0574, 2.0574, 2.0574, 2.0478, 2.0574, 2.031, 2.0226, 2.0148, 2.0416, 1.9095, 1.849, 1.924, 1.912, 1.8395, 1.8418, 1.7624, 1.8691, 1.8512, 1.644, 1.8431, 1.7717, 1.5178, 1.67, 1.5246, 1.4027, 1.4102, 1.3456, 1.149, 0.9738, 1.5179, 1.6651, 0.8896, 1.2949, 0.8342, 1.0855, 1.1518, -0.0627, -0.2574, 1.1537, 2.0837, 2.0837, 2.0837, 2.0837, 2.0837, 2.0837, 2.0837, 2.0837, 2.0837, 2.0837, 2.0837, 2.0837, 2.0837, 2.0837, 2.0837, 2.0837, 2.0837, 2.0837, 2.0837, 2.0837, 2.0837, 2.0837, 2.0837, 2.0837, 2.0837, 2.0837, 2.0837, 2.0837, 2.0837, 2.0837, 2.0837, 2.0837, 2.0837, 2.0837, 2.082, 2.0837, 2.0837, 2.0837, 2.0837, 2.0837, 2.0837, 2.0837, 2.0837, 2.0837, 2.0837, 2.0837, 2.0837, 2.0837, 2.0837, 2.0837, 2.0837, 2.0837, 2.0837, 2.0837, 2.0837, 2.0837, 2.0837, 2.0837, 2.0837, 2.0288, 2.0187, 2.0588, 1.9816, 2.0741, 2.0437, 1.9501, 1.992, 1.8057, 1.8996, 1.7804, 1.5135, 1.7128, 1.661, 0.9835, 1.514, 1.5269, 0.6278, 1.1994, 1.0726, 1.3608, 0.7991, 0.8842, 1.44, 1.0038, 0.6007, 0.7312, 0.2389, 0.3458, 0.0991, 0.3152, 2.1241, 2.1241, 2.1241, 2.1241, 2.1241, 2.1241, 2.1241, 2.1241, 2.1241, 2.1241, 2.1241, 2.1241, 2.1241, 2.1241, 2.1241, 2.1241, 2.1241, 2.1241, 2.1241, 2.1241, 2.1241, 2.1241, 2.1241, 2.1241, 2.1241, 2.1241, 2.1241, 2.1241, 2.1241, 2.1241, 2.1241, 2.1241, 2.1241, 2.1241, 2.1241, 2.1241, 2.1241, 2.1241, 2.1241, 2.1241, 2.1241, 2.1241, 2.1241, 2.1241, 2.1241, 2.1241, 2.1241, 2.1241, 2.1241, 2.1241, 2.1241, 2.1241, 2.1241, 2.1241, 2.1241, 2.1241, 2.1241, 2.1241, 2.1241, 2.1241, 2.0817, 2.1152, 2.12, 2.0641, 2.0722, 2.1058, 1.987, 1.9829, 1.9951, 1.8444, 1.7702, 1.7399, 1.9925, 1.9022, 1.2251, 1.8735, 1.6402, 1.6265, 1.0011, 1.1839, 1.3248, 1.5844, 1.5661, 1.2741, 1.1842, 1.5101, 1.2887, 1.3594, 0.5522, -0.6093, 0.7259, 2.1506, 2.1506, 2.1506, 2.1506, 2.1506, 2.1506, 2.1506, 2.1506, 2.1506, 2.1506, 2.1506, 2.1506, 2.1506, 2.1506, 2.1506, 2.1506, 2.1506, 2.1506, 2.1506, 2.1506, 2.1506, 2.1506, 2.1506, 2.1506, 2.1506, 2.1506, 2.1506, 2.1506, 2.1506, 2.1506, 2.1506, 2.1506, 2.1506, 2.1506, 2.1506, 2.1506, 2.1506, 2.1506, 2.1506, 2.1506, 2.1506, 2.1441, 2.1506, 2.1506, 2.1506, 2.1506, 2.1506, 2.1506, 2.1506, 2.1506, 2.1506, 2.1506, 2.1506, 2.1506, 2.1506, 2.1506, 2.1506, 2.1506, 2.1506, 2.1506, 2.1205, 2.0008, 2.1305, 2.1441, 1.9568, 2.0735, 2.0066, 1.9026, 1.9421, 1.7338, 1.8506, 1.5641, 1.8433, 1.6298, 1.8675, 1.5459, 1.8435, 0.2765, 1.7259, 0.8344, 1.1591, 1.2831, 1.0084, 0.8858, 1.136, 0.4288, -0.0118, 0.4438, 1.0778, 2.2954, 2.2954, 2.2954, 2.2954, 2.2954, 2.2954, 2.2954, 2.2954, 2.2954, 2.2954, 2.2954, 2.2954, 2.2954, 2.2954, 2.2954, 2.2954, 2.2954, 2.2954, 2.2954, 2.2954, 2.2954, 2.2954, 2.2954, 2.2954, 2.2954, 2.2954, 2.2954, 2.2954, 2.2954, 2.2954, 2.2954, 2.2954, 2.2954, 2.2954, 2.2942, 2.2954, 2.2954, 2.2954, 2.2954, 2.2954, 2.2954, 2.2954, 2.2954, 2.2954, 2.2954, 2.2954, 2.2954, 2.2954, 2.2954, 2.2954, 2.2954, 2.2954, 2.2954, 2.2954, 2.2954, 2.2954, 2.2954, 2.2954, 2.2848, 2.196, 2.2405, 2.2103, 2.2869, 2.0855, 1.9626, 1.7729, 2.0805, 1.8454, 1.8898, 1.8804, 1.7832, 2.0716, 2.0007, 1.8, 1.695, 1.9523, 1.9651, 1.6794, 1.9883, 1.7267, 1.9703, 1.9297, 1.669, 2.0407, 1.8242, 0.7311, 0.6247, 1.0108, 0.9408, 0.2071, 1.5072, 1.4192, 0.6465, 0.8444], \"logprob\": [30.0, 29.0, 28.0, 27.0, 26.0, 25.0, 24.0, 23.0, 22.0, 21.0, 20.0, 19.0, 18.0, 17.0, 16.0, 15.0, 14.0, 13.0, 12.0, 11.0, 10.0, 9.0, 8.0, 7.0, 6.0, 5.0, 4.0, 3.0, 2.0, 1.0, -12.0267, -10.4172, -12.0267, -9.7241, -11.3335, -10.4172, -10.6404, -9.4617, -12.0267, -10.928, -10.928, -12.0267, -10.6404, -10.928, -12.0267, -8.6945, -10.2349, -9.3876, -9.7241, -9.3186, -12.0267, -12.0267, -12.0267, -9.5418, -9.3186, -10.928, -12.0267, -12.0267, -9.4617, -12.0267, -4.4562, -5.0711, -5.1381, -5.4943, -5.4987, -5.6398, -5.7259, -5.7463, -5.8529, -5.9376, -6.0081, -6.1024, -6.1602, -6.3262, -6.3533, -6.4209, -6.4282, -6.4319, -6.5336, -6.5886, -6.7384, -6.8009, -6.8172, -6.8337, -6.8562, -6.8909, -6.2709, -6.9147, -6.9515, -7.0227, -5.8081, -5.2593, -5.7903, -4.7983, -6.1461, -5.3803, -6.0528, -5.2023, -5.8101, -4.0253, -5.9536, -5.4784, -5.542, -5.2066, -5.1279, -5.8954, -5.5699, -4.7846, -5.416, -5.1442, -4.8247, -4.4876, -5.0768, -5.1947, -5.1883, -5.467, -5.5512, -5.542, -5.5905, -5.4586, -5.5559, -5.5953, -10.3998, -10.0634, -8.6771, -8.7512, -10.0634, -10.3998, -9.812, -10.0634, -8.9182, -10.0634, -9.6114, -8.2957, -8.8738, -9.812, -9.1189, -9.812, -10.0634, -9.7067, -10.0634, -10.0634, -10.0634, -10.0634, -9.812, -9.6114, -10.3998, -10.3998, -10.3998, -8.9647, -10.3998, -10.0634, -3.9766, -5.714, -6.1232, -6.3022, -6.3257, -6.3674, -6.6765, -6.721, -6.7466, -6.8219, -6.9094, -6.9279, -6.9279, -6.9986, -7.0053, -7.0257, -7.0325, -7.0394, -7.0966, -7.1265, -7.1651, -7.1809, -7.2643, -7.2908, -7.2908, -7.3088, -7.3458, -7.3553, -7.3553, -7.4243, -5.3746, -7.0325, -6.6911, -6.8794, -2.7094, -5.5338, -5.0896, -5.8027, -5.6411, -5.2214, -5.9385, -4.9918, -5.7048, -5.2963, -5.9834, -5.0985, -6.0931, -6.1803, -5.6795, -4.7896, -4.92, -5.6007, -5.9385, -6.2663, -5.3759, -5.5779, -6.0717, -5.1709, -5.9202, -4.9626, -5.7048, -5.7177, -5.0661, -5.7421, -5.9202, -5.6885, -5.6707, -5.8608, -5.8272, -5.8737, -8.378, -8.378, -8.378, -6.9917, -7.6848, -11.9889, -11.9889, -11.9889, -11.9889, -10.8903, -11.9889, -10.8903, -11.9889, -9.9095, -9.424, -11.9889, -10.6026, -10.8903, -11.9889, -10.6026, -11.9889, -10.8903, -11.9889, -11.9889, -10.8903, -11.2958, -11.9889, -11.9889, -10.6026, -10.1972, -4.925, -5.0352, -5.7925, -5.862, -6.0075, -4.5743, -6.3868, -6.4476, -6.4917, -6.5166, -6.5728, -6.6371, -6.7159, -6.7419, -6.7472, -6.7632, -6.7904, -6.7904, -6.796, -6.796, -6.8649, -6.9075, -6.952, -7.0053, -7.0402, -7.1291, -7.1291, -7.1526, -7.2267, -4.7576, -5.2519, -5.9999, -5.3232, -5.4921, -5.8447, -3.5447, -4.9165, -5.1054, -4.9276, -5.5073, -5.4997, -5.3464, -4.6037, -4.3905, -5.1137, -5.0722, -5.349, -4.825, -5.951, -5.0497, -4.79, -5.2615, -5.69, -5.4393, -5.0516, -5.2919, -5.5135, -4.484, -5.0594, -5.1241, -5.353, -5.2906, -5.2784, -11.9849, -11.9849, -10.5987, -11.2918, -11.9849, -11.9849, -11.9849, -11.9849, -11.9849, -11.2918, -11.9849, -11.9849, -11.9849, -11.9849, -11.2918, -11.9849, -11.2918, -11.2918, -11.9849, -11.9849, -11.9849, -10.5987, -11.2918, -11.9849, -11.9849, -11.9849, -11.2918, -10.5987, -11.9849, -11.9849, -3.2109, -4.1159, -5.0535, -6.0607, -6.4516, -6.4756, -6.5644, -6.5733, -6.6816, -6.7646, -6.7809, -6.8317, -6.873, -6.879, -6.8912, -6.9287, -7.0946, -7.1329, -7.1408, -7.24, -7.3406, -7.36, -7.3698, -7.3698, -7.4741, -7.4851, -7.5306, -7.5423, -6.6097, -7.5661, -5.4197, -5.1826, -5.1327, -6.7171, -3.5758, -3.2357, -5.5472, -5.5034, -4.9193, -5.0476, -4.7105, -5.7663, -5.8112, -4.5898, -5.8735, -5.5536, -4.6651, -5.3543, -4.8303, -4.75, -4.7815, -4.6618, -4.2249, -3.9044, -5.3438, -5.7064, -4.2965, -5.0653, -4.3633, -4.8366, -5.0974, -4.5477, -5.0332, -5.4483, -9.2838, -9.4379, -11.9229, -11.9229, -10.5366, -11.2297, -6.5247, -11.2297, -11.9229, -8.5556, -11.9229, -11.9229, -10.1311, -11.9229, -10.3134, -9.6203, -11.2297, -11.9229, -10.8242, -11.2297, -9.9769, -10.8242, -11.9229, -9.8434, -11.2297, -9.9769, -11.9229, -9.9769, -9.9769, -11.9229, -4.8228, -5.0051, -5.586, -5.6865, -5.5495, -5.7264, -5.914, -5.9314, -5.9906, -6.0175, -6.023, -6.1238, -6.1577, -6.2564, -6.2739, -6.3171, -6.459, -6.4718, -6.4979, -6.5112, -6.5805, -6.5901, -6.6397, -6.6758, -6.6758, -6.7025, -6.7188, -6.7696, -6.7754, -4.6422, -4.9578, -6.0564, -4.8336, -6.5663, -6.2739, -5.4787, -5.9801, -4.8736, -5.6924, -5.1718, -4.369, -5.4352, -5.3203, -3.8947, -5.1418, -5.4291, -4.148, -5.1555, -5.0802, -5.4201, -5.135, -5.2026, -5.6021, -5.3804, -5.2209, -5.3243, -5.135, -5.2843, -5.3862, -5.6039, -9.4489, -9.6313, -10.1421, -10.3244, -10.8352, -10.8352, -10.1421, -9.4489, -10.8352, -10.8352, -9.6313, -10.8352, -10.1421, -10.3244, -9.4489, -10.3244, -10.1421, -10.3244, -10.8352, -10.8352, -9.1006, -10.8352, -10.8352, -9.6313, -9.1006, -10.1421, -10.8352, -9.6313, -10.1421, -10.1421, -3.385, -4.0568, -4.7691, -4.8223, -4.8751, -4.9659, -5.3616, -5.4739, -5.6131, -5.807, -6.0367, -6.045, -6.0505, -6.0505, -6.0505, -6.15, -6.2201, -6.2334, -6.3617, -6.3617, -6.3655, -6.3655, -6.3655, -6.3732, -6.3848, -6.4408, -6.4658, -6.5915, -6.6405, -6.6816, -3.638, -6.0589, -6.3693, -5.0555, -5.4251, -6.099, -4.5014, -5.4538, -5.6203, -4.858, -4.6989, -4.5956, -5.7769, -5.3971, -3.5461, -5.552, -5.2221, -5.2064, -4.1849, -4.6166, -4.9985, -5.4325, -5.5073, -5.238, -5.1981, -5.4615, -5.3546, -5.4446, -5.2694, -5.0944, -5.4492, -11.8556, -9.6583, -11.1624, -11.8556, -11.8556, -11.1624, -11.1624, -11.8556, -11.8556, -11.1624, -11.8556, -11.8556, -11.1624, -11.8556, -11.8556, -10.7569, -10.7569, -11.1624, -11.1624, -11.1624, -9.7761, -11.8556, -9.6583, -10.4693, -11.1624, -11.8556, -10.4693, -11.8556, -10.7569, -11.8556, -4.8194, -4.9528, -5.1365, -5.457, -5.7485, -6.012, -6.0595, -6.0904, -6.1222, -6.3143, -6.4045, -5.7688, -6.4131, -6.4306, -6.4395, -6.4849, -6.5084, -6.5374, -6.5724, -6.6085, -6.6965, -6.7316, -6.7436, -6.7618, -6.8317, -6.8583, -6.8927, -6.8997, -6.9139, -6.9577, -5.3218, -4.5141, -6.5572, -6.8186, -5.5696, -6.3875, -6.103, -5.6017, -5.9502, -5.1734, -5.9806, -5.3957, -5.9722, -5.5865, -6.0904, -5.6133, -6.081, -4.4993, -6.1158, -5.5312, -5.7941, -5.9023, -5.7779, -5.7331, -5.9154, -5.9313, -5.9448, -5.9806, -6.0355, -8.389, -9.3233, -9.7753, -9.0822, -9.7753, -9.0822, -9.7753, -9.7753, -6.959, -9.3233, -8.389, -9.7753, -8.2872, -9.7753, -9.3233, -6.5227, -7.937, -9.7753, -8.6302, -9.3233, -8.6302, -7.9146, -8.5023, -9.7753, -9.0822, -9.7753, -9.7753, -9.3233, -8.2872, -8.2872, -4.7145, -4.7154, -4.7191, -4.72, -5.0492, -5.6715, -6.134, -6.176, -6.1998, -6.2532, -6.3096, -6.4955, -6.5737, -6.5737, -6.5973, -6.8614, -6.8929, -6.8929, -6.9172, -6.9254, -6.9421, -6.9676, -6.985, -7.0117, -7.0673, -7.0768, -7.0768, -7.0865, -6.4637, -3.8762, -5.3243, -5.0645, -6.9254, -5.2021, -4.2124, -2.9983, -5.5207, -4.2414, -4.5542, -4.5038, -4.0489, -5.6551, -5.4204, -4.5823, -4.238, -5.2803, -5.4352, -4.5697, -5.5749, -4.9166, -5.59, -5.5187, -5.135, -5.7551, -5.4635, -4.0447, -4.46, -4.7897, -4.9783, -4.6711, -5.3143, -5.326, -5.1802, -5.3143]}, \"token.table\": {\"Topic\": [1, 2, 4, 4, 1, 4, 1, 2, 3, 3, 1, 4, 5, 5, 1, 1, 6, 1, 2, 3, 4, 6, 8, 2, 2, 5, 7, 2, 3, 4, 5, 6, 4, 5, 5, 6, 8, 1, 4, 6, 1, 3, 6, 6, 2, 1, 2, 3, 3, 4, 5, 3, 1, 4, 5, 8, 8, 6, 7, 7, 1, 6, 8, 8, 2, 2, 5, 5, 8, 7, 3, 5, 6, 7, 5, 1, 2, 2, 3, 6, 8, 2, 5, 4, 3, 1, 5, 7, 5, 4, 4, 3, 2, 3, 4, 6, 7, 6, 2, 7, 2, 3, 3, 1, 5, 6, 1, 2, 3, 6, 7, 8, 3, 1, 2, 6, 5, 4, 5, 6, 8, 4, 5, 7, 5, 1, 2, 3, 5, 6, 8, 8, 1, 2, 5, 7, 8, 3, 1, 3, 5, 6, 8, 8, 1, 2, 7, 3, 1, 2, 3, 6, 8, 7, 8, 4, 5, 7, 8, 1, 2, 3, 4, 5, 8, 2, 6, 6, 1, 4, 5, 8, 3, 4, 5, 7, 2, 5, 7, 8, 8, 1, 6, 7, 7, 1, 2, 8, 1, 4, 4, 8, 4, 2, 5, 7, 1, 3, 6, 8, 1, 2, 1, 2, 3, 4, 6, 4, 1, 5, 4, 5, 7, 8, 1, 2, 5, 7, 3, 6, 6, 6, 8, 8, 3, 4, 5, 8, 3, 4, 2, 4, 7, 6, 5, 3, 7, 3, 6, 1, 6, 7, 3, 3, 6, 5, 1, 3, 5, 8, 6, 1, 6, 8, 3, 3, 6, 8, 2, 4, 3, 4, 6, 8, 5, 2, 5, 5, 1, 2, 4, 2, 5, 6, 8, 3, 5, 8, 6, 6, 8, 8, 5, 4, 2, 2, 8, 2, 4, 4, 1, 5, 4, 3, 4, 2, 5, 2, 4, 5, 2, 7, 8, 2, 2, 3, 4, 8, 6, 1, 2, 3, 5, 6, 7, 2, 1, 8, 7, 6, 3, 3, 2, 6, 2, 1, 5, 1, 5, 2, 3, 2, 3, 2, 6, 2, 7, 2, 4, 7, 1, 2, 5, 8, 4, 5, 8, 2, 5, 7, 1, 3, 4, 6, 8, 2, 1, 4, 7, 3, 4, 5, 5, 7, 8, 6, 2, 7, 6, 2, 3, 2, 1, 2, 3, 5, 7, 8, 1, 4, 5, 6, 5, 3, 5, 3, 2, 5, 7, 2, 4, 5, 7, 3, 6, 3, 6, 2, 1, 2, 3, 8, 8, 1, 2, 3, 5, 6, 7, 1, 4, 1, 2, 3, 6, 6, 2, 5, 6, 5, 6, 3, 5, 6, 5, 5, 2, 7, 3, 4, 7, 1, 3, 5, 6, 3, 4, 3, 2, 5, 1, 6, 8, 5, 5, 8, 2, 4, 1, 5, 3, 6, 2, 8, 6, 4, 8, 1, 5, 2, 5, 7, 3, 1, 2, 4, 8, 5, 8, 6, 1, 3, 5, 5, 5, 1, 4, 6, 7, 2, 1, 6, 2, 1, 4, 6, 4, 8, 5, 3, 4, 3, 6, 4, 1, 6, 8, 1, 5, 8, 1, 6, 6, 7, 1, 2, 3, 5, 6, 1, 4, 6, 7, 1, 1, 3, 4, 1, 2, 3, 5, 7, 2, 2, 4, 4, 8, 1, 2, 3, 4, 8, 2, 3, 4, 5, 8, 8, 4, 5, 7, 8, 7, 7, 7, 7, 4, 7, 7, 7, 7, 7, 7, 7, 7, 2, 3, 7, 7, 7, 1, 7, 6, 7, 7, 7, 7, 7, 7, 7, 7, 7, 7, 7, 7, 1, 8, 7, 7, 6, 2, 2, 6, 8, 2, 6, 8, 6, 7, 8, 2, 5, 2, 3, 8, 5, 7, 3, 1, 2, 4, 7, 8, 3, 2, 6, 4, 4, 2, 2, 3, 6, 7, 8, 1, 2, 6, 4, 1, 5, 1, 4, 8, 4, 1, 4, 3, 5, 8, 3, 6, 8, 4, 2, 1, 4, 8, 1, 3, 4, 5, 6, 7, 3, 4, 3, 6, 6, 7, 2, 1, 5, 1, 7, 1, 2, 4, 6, 8, 8, 2, 7, 3, 5, 6, 7, 8, 6, 3, 1, 4, 7, 1, 3, 4, 8, 6, 8, 6, 8, 4, 6, 8, 8, 8, 4, 1, 4, 8, 1, 6, 4, 5, 7, 4, 2, 4, 1, 3, 4, 6, 7, 5, 6, 7, 8, 1, 4, 7, 2, 3, 6, 7, 4, 1, 1, 7, 1, 5, 4, 2, 3, 4, 5, 8, 1, 5, 8, 1, 2, 3, 6, 8, 2, 2, 5, 3, 6, 1, 3, 4, 5, 2, 3, 4, 7, 7, 6, 8, 6, 7, 6, 8, 1, 4, 6, 6, 1, 5, 4, 6, 1, 8, 1, 6, 1, 2, 2, 8, 6, 1, 3, 4, 5, 3, 5, 7, 4, 6, 1, 7, 6, 1, 4, 5, 8, 1, 2, 4, 5, 7, 8, 6, 7, 5, 3, 4, 8, 1, 4, 5, 6, 3, 5, 7, 1, 3, 4, 5, 7, 4, 5, 8, 4, 4, 5, 8, 4, 1, 1, 1, 6, 8, 6, 2, 6, 5, 6, 4, 1, 3, 6, 1, 6, 8, 2, 3, 4, 6, 3, 1, 6, 7, 8, 2, 2, 5, 5, 7, 1, 6, 8, 6, 1, 2, 3, 4, 5, 4, 1, 2, 3, 3, 5, 7, 8, 5, 1, 2, 5, 2, 7, 1, 7, 1, 3, 4, 5, 6, 7, 6, 6, 4, 3, 8, 6, 6, 7, 3, 2, 3, 4, 5, 7, 1, 3, 7, 5, 6, 4, 6, 1, 1, 6, 4, 2, 3, 6, 8, 1, 2, 3, 8, 2, 6, 4, 1, 2, 5, 5, 3, 8, 2, 3, 3, 5, 3, 3, 3, 2, 3, 7, 5, 1, 1, 8, 2, 4, 5, 2, 4, 5, 3, 6, 6, 3, 6, 2, 7, 1, 2, 3, 6, 7, 2, 3, 5, 6, 2, 8, 1, 7, 5, 7, 6, 1, 4, 5, 8, 1, 2, 6, 7, 4, 1, 6, 7, 2, 3, 4, 5, 7, 8, 1, 4, 5, 8, 8, 5, 6, 8, 8, 2, 8, 8, 8, 8, 2, 3, 7, 8, 4, 4, 7, 2, 3, 4, 3, 1, 1, 8, 4, 5, 6, 2, 4, 4, 2, 3, 7, 8, 1, 4, 6, 8, 8, 3, 3, 1, 5, 8, 5, 4, 7, 8, 3, 3, 5, 8, 8, 4, 2, 6, 1, 6, 1, 7, 5, 3, 3, 3, 4, 5, 2, 6, 8, 1, 2, 3, 1, 2, 3, 5, 6, 7, 5, 5, 1, 6, 8, 3, 5, 3, 4, 6, 7, 8, 8, 5, 4, 4, 1, 3, 4, 6, 8, 1, 4, 8, 2, 1, 1, 4, 5, 8, 8, 1, 2, 3, 5, 6, 7, 8, 5, 6, 7, 8, 4, 5, 6, 8, 8, 1, 7, 4, 7, 5, 2, 3, 4, 6, 4, 2, 3, 1, 2, 3, 4, 5, 7, 8, 4, 2, 7, 3, 3, 8, 2, 3, 2, 1, 2, 3, 4, 5, 6, 7, 8, 3, 6, 2, 3, 4, 7, 1, 4, 8, 5, 6], \"Freq\": [0.8330786086755804, 0.026032934361467967, 0.9738684081585517, 0.998518258612694, 1.0003137197108272, 0.8625943071785055, 0.06458800933234288, 0.5029619450135637, 0.43218997734089015, 0.9994211508738152, 0.5267661699057256, 0.3922007426769202, 0.08114498124350072, 1.0008353426071124, 0.9719250434548439, 0.1318573409176144, 0.8681580676345585, 0.48538189973261453, 0.01991310357877393, 0.033603362289181, 0.19249333459481463, 0.16469796084944271, 0.10412893746400534, 0.9992511699008447, 0.9963926912042325, 0.9987546038490932, 0.9993047599130369, 0.28330562148376703, 0.23608801790313919, 0.1783218007566264, 0.29887738436674, 0.0035162045219616473, 0.8757232276246226, 0.12441309302804983, 1.0403693790094721, 0.08138292302780299, 0.9180390707404606, 0.8172314687304786, 0.0014804917911784032, 0.1806199985237652, 0.05693982312405436, 0.0008498481063291696, 0.9416317018127198, 0.9999306516945914, 0.9967285161759897, 0.9986906212436176, 0.9981914249570699, 0.9993534210587657, 1.0012521028408468, 0.03942146381768043, 0.9601942258449304, 0.8188534639512353, 0.9996943304106967, 0.14572058939439678, 0.18766390444263562, 0.6667689876740648, 1.0023874102073396, 0.9997167589536514, 0.9988700905959803, 0.9983484874155124, 0.00044344011318743433, 0.7019656991757085, 0.29754831594876846, 1.000847644600262, 0.9984649770055647, 0.9997555099690412, 0.8322955032075776, 0.2255789527912843, 0.7753232155196734, 1.0000207629388216, 0.9994303195387347, 0.9999815751068931, 0.9995682078999631, 0.9983484874155124, 1.0010348655017167, 0.9996943304106966, 0.9824895373734756, 0.6673370050500634, 0.15537995938479088, 0.11421091031702578, 0.06241759052209549, 1.0018138657483162, 0.9511948608086602, 0.8625943071785055, 0.8188534639512353, 0.8939650450430485, 0.05503611758168518, 0.050573729669656654, 0.9992764192116058, 0.8625943071785055, 0.8625943071785055, 0.9983281957761635, 0.04077513922711223, 0.8195802984649557, 0.037717003785078806, 0.08766654933829128, 0.014271298729489278, 1.0221921796837072, 0.8457231762733979, 0.15441574847688444, 0.3431507232697972, 0.6566342370350009, 1.0008209003848432, 0.2204039779825047, 0.001153947528704213, 0.7789145818753438, 0.004415252094791723, 0.052352274838244714, 0.319159651423516, 0.09145879339211425, 0.0782130371077391, 0.4547709657635475, 0.9959028615623132, 0.8330786086755804, 0.9973757424851948, 1.0221921796837072, 1.0001153049442555, 0.2616262804638085, 0.7381598627371739, 1.001929997037892, 1.0021287295853505, 0.08753813788944044, 0.7572048927436598, 0.15538019475375678, 0.8322955032075776, 0.13924668621838823, 0.16117162508694519, 0.272895515704379, 0.06250940017843894, 0.1719008504907071, 0.1921930811456481, 1.0034304772314888, 0.12609364349620755, 0.4504307692805703, 0.1557627360835505, 0.05731529249827616, 0.21038083834661367, 1.091804618601647, 1.000251573627202, 0.02890960132343974, 0.2227353374692289, 0.6163001373042382, 0.13206431513662245, 1.0034304772314888, 0.03312417626365923, 0.15457948923040976, 0.8115423184596512, 0.9959028615623132, 0.3618507013169187, 0.0035762423310746684, 0.18628971415507137, 0.2142494269252915, 0.23440642915498508, 1.0005970200448266, 0.9987946237908258, 0.7446097028881904, 0.22609786555122577, 0.012907161616113282, 0.016467757924006603, 0.2578567161044523, 0.503046786505528, 0.05760307927011742, 0.1067617280713171, 0.03649200309782308, 0.038301523912591166, 0.9813646721733195, 0.019706117915126897, 1.0001440283985286, 0.0555758717158501, 0.8073939140941556, 0.1373959050752961, 1.0023874102073396, 0.705662373385195, 0.29427463668124676, 0.9981867601490457, 0.001417878920666258, 1.052667361471581, 0.5253411561276453, 0.21469780781863348, 0.2603112614943871, 0.9608137388162518, 0.6812026568816716, 0.3187850342008346, 1.0002509398248354, 1.00122972403143, 0.9991217677930501, 0.9980846093952768, 0.9999725865503383, 0.9762731502487705, 0.024285401747481852, 0.8119447403768179, 0.1881321830390274, 1.0782428839731317, 0.16763882820633064, 0.8313795545192008, 1.0023579190918799, 0.7012312589549443, 0.07076060885818074, 0.03633652887311984, 0.19188237176858022, 0.9417394613330893, 0.05913247780463584, 1.1107714782341074, 0.8669500017263378, 0.04577953804495514, 0.08726724439819573, 1.000849705602399, 0.9976090683020975, 0.12503267352845826, 0.8752287146992077, 0.3880112638953644, 0.5659833725415853, 0.000534450776715378, 0.0459627667975225, 0.17002749534040065, 0.468657605338268, 0.22010832124066412, 0.1409682506822231, 0.8922436912496653, 0.10795047128699654, 0.9999244783685945, 0.09451391179178495, 0.9054850161250817, 1.0005167858747746, 0.8188534639512353, 0.6756512631582524, 0.32470618957605335, 0.9908391681542597, 1.0000751322027381, 0.8625943071785055, 0.8111514079421815, 0.07053490503845057, 0.11806929756436291, 1.0005112476130609, 0.9994977248341, 1.001203184915166, 1.000329337588956, 0.8948817800846548, 0.10544488128213347, 0.12638532297553318, 0.13157924035808932, 0.7409988799113452, 1.0008209003848432, 0.9580497814825328, 0.0419998126953243, 0.9987546038490932, 0.8086600789220791, 0.08202399368541376, 0.10904366219355006, 0.9989105201268423, 0.9987556746821408, 0.9996943304106966, 0.9637811979874953, 0.993568752639533, 0.9959028615623132, 0.9006716879072529, 0.09890758088777414, 0.9608137388162518, 1.000683788065577, 1.0009784206296026, 1.0235668299390441, 1.004668663654965, 0.18898650609710604, 0.8102293825226994, 0.9987546038490932, 0.9987482294813108, 1.0000576105077352, 1.0001106861353783, 0.15240559571952386, 0.09603640278216571, 0.7515892391647752, 0.11165078760446542, 0.27816996226026813, 0.6080182890688888, 0.002552018002387781, 0.12007575018476996, 0.0810901170078966, 0.7999851927894415, 1.0221921796837072, 0.4654868488544184, 0.5342871687250448, 0.9987658814994936, 0.9511948608086602, 0.9973746676751469, 0.9676033322617562, 1.0014960314000458, 1.0020114209311928, 0.041946097031086475, 0.9586430925646221, 0.9992429102958924, 0.9999748282587355, 0.8322955032075776, 0.9967756438507173, 1.0014356552376593, 0.9984359303562229, 0.9808640991622831, 0.019045904838102586, 1.000683788065577, 0.9953011236675062, 1.001498435178349, 0.9824895373734756, 0.8610250271826628, 0.13924933054167055, 1.013679681417078, 0.31854582054989894, 0.141948488455569, 0.49067233411019523, 0.048899577715993264, 1.0221921796837072, 0.07869799966497, 0.12499094064436411, 0.16619165811602488, 0.1430451876263278, 0.4272838452398077, 0.059717893863418414, 0.9824895373734756, 0.9987985469605078, 0.9608137388162518, 0.9983484874155124, 1.0006338090019578, 0.8188534639512353, 1.0002995037188442, 1.000683788065577, 0.8761647254431776, 0.9824895373734756, 0.8736360863910023, 0.12575064879870487, 0.8330786086755804, 1.0001834373309948, 0.47639273090365974, 0.5236213206053156, 0.25250755136140507, 0.7473055855320196, 0.9755305594311989, 0.02415199447461526, 0.999429012155777, 0.9983484874155125, 0.055020005275866146, 0.1906050182771077, 0.7525950721663119, 0.1321200691124366, 0.08386752213224236, 0.039061585650633425, 0.7444678676944253, 0.19932726656966895, 0.6897772514187228, 0.11015454205165916, 0.9824895373734756, 1.0002276932353014, 1.0005474928944011, 0.4562158196956873, 0.1333928765198338, 0.1145107798435103, 0.1394838754476801, 0.15653867244564973, 1.000683788065577, 0.9996943304106966, 0.8130184554603286, 0.1857074529558664, 1.0002760877009103, 0.5870262364900527, 0.41297533079219345, 1.0017674382498447, 0.9997551781183927, 0.9608137388162518, 1.051397670531813, 1.0006837880655768, 0.9995902143899097, 0.8761647254431776, 0.4361670816624372, 0.5643737693026081, 0.9993459755146871, 0.8330786086755804, 0.32550701537242915, 0.21784708637502634, 0.26788620830339666, 0.07430051437848927, 0.11473616846202084, 0.6865771956122649, 0.13758370819134977, 0.17590786089089008, 0.9981623454415949, 0.9511948608086602, 0.8188534639512353, 0.8322955032075776, 0.9988850765929962, 0.2696666643286577, 0.18390382354216656, 0.5464065526397064, 0.1904689236693718, 0.4664301617206119, 0.1642247713474959, 0.17893740219460813, 1.091804618601647, 0.8761647254431776, 0.8188534639512353, 1.0221921796837072, 1.000683788065577, 0.027366509504894804, 0.2898822858666635, 0.6243618464820444, 0.05828052950116486, 0.993568752639533, 0.0007328971628379132, 0.02052112055946157, 0.13778466661352767, 0.059364670189870974, 0.5408781061743799, 0.24039026941083555, 0.41698363355148077, 0.5831775897353377, 0.02289034285133452, 0.13656611328253818, 0.15984442804660717, 0.6808907068490184, 0.8761647254431776, 1.052667361471581, 0.003343467540391248, 0.996353327036592, 1.1097273376101038, 0.9637811979874953, 0.5653073559003889, 0.22695837195015617, 0.20769707862514292, 1.000402713756435, 0.999853343787321, 0.1349336670654056, 0.8667772850472666, 1.0008209003848432, 0.264180996512843, 0.7355255082767643, 0.17585868878763092, 0.12924257072190548, 0.5653129238446705, 0.12948921684923737, 0.955329041276441, 0.9987934083119536, 1.0008209003848432, 1.002139328120945, 1.1097273376101038, 1.025327518369945, 0.39069231631479706, 0.6094149658229769, 1.0015759445379326, 0.3397033457348651, 0.6602627379331132, 0.1347811694574798, 0.8646554684687475, 0.8330786086755804, 0.8322955032075776, 0.1213854489469847, 0.8789980785816134, 1.052667361471581, 0.9983455254887617, 0.9999442295916597, 0.9848061963885675, 0.01750766571357453, 0.922968181830726, 0.07821764252802763, 0.9980846093952768, 0.005367479067005437, 0.992983627396006, 0.8188534639512353, 0.28739932057469797, 0.15165446291039866, 0.3784946409354281, 0.18244724725768774, 0.9750860475297632, 0.025297043685913668, 0.9999168053080332, 0.23828816227525487, 0.10656365021005186, 0.6556624589312914, 0.8322955032075776, 0.8322955032075776, 0.05243900006221215, 0.11986057157077062, 0.047444809580096704, 0.780342262830538, 1.0011551417104503, 0.19935252088938885, 0.8014785023512164, 0.9824895373734756, 0.23694133457663702, 0.19068908775859486, 0.5720672632757846, 1.0782428839731317, 0.9608137388162518, 0.8322955032075776, 0.7756942212082256, 0.22434699460771518, 0.8035889486920824, 0.19638269251744708, 0.8625943071785055, 1.1107714782341074, 1.0001757327366734, 0.993568752639533, 0.9998531633198817, 0.8322955032075776, 0.9608137388162518, 1.0001237523739315, 0.9994274434713052, 0.8761647254431776, 1.0016325284925371, 0.12081290971867548, 0.0002932352177637754, 0.4627251736312376, 0.2586334620676499, 0.15776054715691118, 0.6211034033476635, 0.2959293121331356, 0.08077129460574996, 0.001392608527685344, 0.9996943304106967, 0.8989302397683179, 0.10179824212347553, 0.9999227540924963, 0.9992889393602462, 0.19041630846387064, 0.6647689917825556, 0.053681193343538, 0.09115674341355509, 1.0014960314000458, 1.052667361471581, 0.8625943071785055, 0.8625943071785055, 1.0029546922731047, 0.0734422758428454, 0.7772640860034472, 0.08976278158569993, 0.046921454010706784, 0.0122403793071409, 0.17633004513899958, 0.42433474780136277, 0.12153528884396438, 0.2768303801445855, 0.001038763152512516, 1.0039570741757193, 0.1782089049930827, 0.1579755795353528, 0.11517431414400105, 0.5486344018345997, 1.0168364223676514, 0.8319570728462604, 0.8319570728462604, 0.8319570728462604, 0.8625943071785055, 0.8319570728462604, 0.8319570728462604, 0.8319570728462604, 0.8319570728462604, 0.8319570728462604, 0.8319570728462604, 0.8319570728462604, 0.8319570728462604, 0.23685691346449278, 0.6338806795869233, 0.12894788985172959, 0.8319570728462604, 0.8319570728462604, 1.1107714782341074, 1.109276097128347, 0.9988959710305488, 1.109276097128347, 0.8319570728462604, 0.8319570728462604, 0.8319570728462604, 1.0399463410578254, 0.8319570728462604, 1.0168364223676514, 1.0399463410578254, 0.8319570728462604, 0.8319570728462604, 1.0399463410578254, 0.8319570728462604, 1.025327518369945, 0.993568752639533, 1.109276097128347, 0.8319570728462604, 0.999799715248781, 0.9824895373734756, 0.8711743354510386, 0.06591482992063344, 0.06261908842460177, 0.041498944976508696, 0.9584579564523953, 0.9608137388162518, 0.16465888148343175, 0.3419838307732813, 0.4931322399298674, 1.052667361471581, 0.9987546038490932, 0.7957543706355275, 0.20325292358401426, 0.993568752639533, 0.07474839909837634, 0.9262301627407502, 0.8188534639512353, 0.21549840772342296, 0.00039981151711210197, 0.2418859678528217, 0.2682735279822204, 0.27387088922178987, 1.0008209003848432, 0.9997306788599399, 0.0002657444654066826, 1.0782428839731317, 0.999901799434459, 1.000683788065577, 0.5598363614804768, 0.1796877375438265, 0.11944560588173438, 0.10490440168743628, 0.03531435304329538, 1.0115954533917764, 1.052667361471581, 0.9994274434713052, 0.9976994396281508, 0.0531740925906041, 0.9468244037816751, 0.8358389882625068, 0.10372277299996686, 0.06056804262771788, 1.0022049464906335, 0.8330786086755804, 0.8625943071785055, 0.0625980394160036, 0.9367612486724303, 1.0021287295853505, 0.9821937756859033, 0.017928549432845792, 1.000847644600262, 1.003016636254076, 1.0009860181435188, 0.934326392584443, 0.007620933055338034, 0.05791909122056906, 0.27740526309011077, 0.0018436326745022867, 0.31108228661101917, 0.08136565536803425, 0.3253397126271702, 0.0030727211241704778, 1.0006355974964178, 0.8625943071785055, 0.8084990851063271, 0.19145707501476217, 1.051397670531813, 1.0007599571918784, 1.000683788065577, 1.0413482608444755, 0.8322955032075776, 0.9719250434548439, 0.9988869709578078, 0.031557339578352585, 0.28693803209205776, 0.10694431745997265, 0.15778669789176292, 0.4160893662923526, 1.0016295568226063, 0.9926916154258476, 0.005608427205795749, 0.4134623175939896, 0.05906604537056995, 0.1309195850997169, 0.3190784306616356, 0.07733389445425137, 1.0221921796837072, 0.8188534639512353, 0.9996943304106966, 0.9976994396281508, 1.00057198070597, 0.05302412655628604, 0.0024910663482818948, 0.40426448166403317, 0.540205530955988, 0.4338501573023977, 0.5663275167706481, 0.281310637962451, 0.7190299906320247, 0.03601949021843152, 0.24717962094850254, 0.7170852639816183, 0.9998276724783766, 0.9608137388162518, 0.8625943071785055, 0.9996943304106966, 0.8625943071785055, 0.9993369311744504, 0.24412970039967602, 0.7559061824301895, 0.8045280245970622, 0.19313412077955983, 0.002962179766557666, 1.0035952996980688, 0.9676033322617562, 0.8625943071785055, 0.0606905710168378, 0.8220813710462576, 0.11586381739578126, 0.0006896655797367932, 0.0006896655797367932, 0.324012854971694, 0.07079272461566424, 0.4202183525263147, 0.18605780187450216, 1.0004219099815925, 0.9888795634308711, 0.00791103650744697, 0.06591514118024176, 0.48286673190177104, 0.44952593374664873, 0.0015329102600056222, 1.0012255351179082, 1.1107714782341074, 1.0003737013453964, 0.9991641316045774, 0.09715179502860184, 0.903198300878808, 0.9992429102958924, 0.11428416460194288, 0.09061424276343771, 0.3384256763627494, 0.33282439714905737, 0.12386054519309382, 0.061111392890966176, 0.30132152138317975, 0.6377367139314688, 0.172815318345405, 0.06424546416875286, 0.49254855862710534, 0.0846645651836278, 0.1852659896959385, 0.9967285161759896, 1.052667361471581, 0.9987546038490932, 1.0019511329092754, 0.9792429284364926, 0.2222643715688778, 0.07146374889680539, 0.2204474965969251, 0.48510561751136544, 0.2625032351313165, 0.06459503691713024, 0.013743624875985157, 0.6590068128034883, 0.999455917795341, 1.000655756576291, 0.9998685545131532, 0.4062314298909469, 0.59437087092339, 0.4069934207056772, 0.5930382791535056, 0.933489010330498, 0.06623028452968059, 1.0221921796837072, 1.0221921796837072, 0.9996943304106964, 1.000590549812051, 0.9987934083119536, 0.9637811979874953, 1.000638328834125, 1.0208645974922674, 0.05082748382962932, 0.949606161304782, 1.0010656532233313, 0.9986162595778383, 0.006889566733377796, 0.9920976096064026, 0.9989240688431833, 0.8036339717414586, 0.09508646230528708, 0.08792941675542676, 0.013291656021169163, 0.007777269476763927, 0.9916018582874007, 1.0018637989909192, 1.0001475867553455, 1.0006338090019578, 0.9928745778631258, 0.0052394436826550175, 1.0005049340044205, 0.0555821245856828, 0.519628234498709, 0.3638690249039467, 0.061075706666825866, 0.3244401121218177, 0.21905151194265007, 0.09711428859485281, 0.2525842483632943, 0.03658116700433918, 0.07011390342498343, 0.9810099876810452, 0.01760787157376235, 1.0012895140111469, 0.8188534639512353, 0.9999500885763566, 0.993568752639533, 0.21876651885550144, 0.4051231830657434, 0.08862069629563137, 0.2871310559978456, 1.0029368008084898, 1.0403693790094721, 1.0016110641717721, 0.14606538822691653, 0.12160123453373839, 0.10864962375499702, 0.25327594411760895, 0.37127950899058587, 0.8284714587144464, 0.05693961915563205, 0.11530272879015491, 0.8625943071785055, 0.8625943071785055, 0.1939523275651892, 0.8060713755546162, 0.8625943071785055, 1.00137731749893, 0.9984692148097031, 0.6662257119900733, 0.02239414157949826, 0.3118384214945133, 0.9792429284364926, 1.052667361471581, 1.051397670531813, 0.009757983035324365, 0.990435278085423, 0.9978117931686494, 1.0000063448708747, 1.091804618601647, 0.8761647254431776, 0.1205080116758059, 0.14302049737348393, 0.7349664448359591, 0.19120676506806836, 0.6647246950307554, 0.07198372331974338, 0.07254609615817888, 0.9996392936547547, 0.15798278162100396, 0.5828490972425389, 0.05368346948286542, 0.20553099744868475, 1.0025403442586487, 1.0018138657483162, 0.9993407274429015, 1.0011670545830282, 0.8319570728462604, 0.37781207887088647, 0.022982981830755353, 0.5991991691589789, 0.9998979118607256, 0.0039318416633543195, 0.6733278848494272, 0.14252926029659407, 0.17889879568262154, 0.0009829604158385799, 0.9979032181084672, 0.9999379206471515, 1.0048188450410545, 0.9998155554321713, 0.0010054282701405883, 0.34084018357765944, 0.034184561184780006, 0.6243709557573054, 0.8322955032075776, 0.9996943304106967, 1.052667361471581, 0.9710114204088407, 1.0076815767933083, 1.0008823668251965, 1.0001398269928758, 0.9997767399010854, 0.014935793272509103, 0.17150410895674245, 0.21425137935737196, 0.21116121523202525, 0.10558060761601262, 0.2822349901149996, 1.051397670531813, 0.8761647254431776, 0.8625943071785055, 0.9991961911309716, 1.0088544257570642, 0.9637811979874953, 0.26417395451884373, 0.7362783764654225, 0.9986801070150358, 0.08586353720913695, 0.0676394395157691, 0.6613244682189446, 0.07570009811091258, 0.1089941227430269, 0.8330786086755804, 1.0235668299390441, 0.998854236395966, 0.9710114204088407, 0.9998979118607256, 0.8625943071785055, 1.0221921796837072, 1.0015152672602607, 0.9987476501735651, 1.000169477768082, 1.0000435857047834, 0.7793181640730553, 0.03612733210934693, 0.18063666054673466, 0.0034406982961282793, 0.1540515266791491, 0.6306750346367375, 0.00425556703533561, 0.21022501154557915, 1.0000732427403387, 1.0221921796837072, 0.8625943071785055, 0.9996943304106967, 0.9984649770055647, 0.9995510588760861, 1.00007921207701, 0.8188534639512353, 0.9997656471466404, 0.06343175972865937, 0.9360989996320338, 0.08769586807473849, 0.9128342631415961, 1.091804618601647, 1.000820900384843, 0.8188534639512353, 1.000683788065577, 0.8974825894857758, 0.10252437313985135, 1.0009545038575713, 1.0413482608444755, 0.9996943304106966, 0.993568752639533, 0.12278001278326081, 0.5830409163183722, 0.29414676859305267, 0.7382597651548732, 0.14477848687917425, 0.1171490046503242, 1.091804618601647, 0.8761647254431776, 0.999444184299504, 0.8316072340661529, 0.16799092181261055, 0.0203846529452477, 0.9784633413718895, 0.020486787585345282, 0.5975313045725708, 0.26584045795269473, 0.040485794513896625, 0.07560600180305997, 0.9941858413898265, 0.3073839784986032, 0.5729175561687581, 0.11905717477058574, 0.008664737166680755, 0.987780037001606, 0.9996943304106967, 1.0006756400668309, 0.02933593416507013, 0.9704327021805198, 0.9992380313582729, 0.5117537957512355, 0.3333561621178531, 0.11263792196560271, 0.04166952026473164, 0.13715014182152088, 0.4591548226198743, 0.12181658559302787, 0.28281892599220454, 0.8625943071785055, 0.8330786086755804, 0.00563594654239242, 0.9938052403085301, 0.1395017553211901, 0.3947602863344316, 0.07801921878145586, 0.12381310806622343, 0.1814794871655604, 0.08268341120860812, 0.4290239418316666, 0.14224049592033788, 0.17063742945839094, 0.2581306841432031, 0.9992069107566554, 0.03234778152677746, 0.2587822522142197, 0.7097483829110584, 0.9608137388162518, 0.05305134496659906, 0.9469665076537932, 1.0032025802346158, 0.993568752639533, 1.0034304772314888, 0.6458896690755332, 0.2269854376281588, 0.038857632328828856, 0.08861435665232922, 1.000186037157899, 0.8060232896945508, 0.19374261653461983, 0.6942234935914064, 0.002624663491838966, 0.30314863330740055, 1.0235668299390441, 0.8330786086755804, 1.0115954533917764, 1.0003408862991987, 0.8625746298649766, 0.1374350121387787, 1.0000204719717942, 0.6407528998992533, 0.3598180431399695, 0.8625943071785055, 0.2920927238415911, 0.29447391452508226, 0.36273471411849756, 0.05079873458114627, 0.8759363998744735, 0.1233937008287499, 0.0005295866988358365, 0.9608137388162518, 1.0208645974922674, 0.9998155554321713, 0.9959028615623132, 0.11619697865406636, 0.1624116860732973, 0.7222698559519807, 0.9993305868962957, 0.19481730777706158, 0.5562070348430606, 0.24913440102345422, 1.0029368008084898, 1.0001494338297374, 1.0016579602556313, 1.000012848740759, 1.0012974637663747, 0.8625943071785055, 0.12369037086003831, 0.8772251301784296, 0.8330786086755804, 0.8761647254431776, 0.8330786086755804, 1.000390099864215, 1.000678986515469, 0.9998631770351926, 1.0008209003848432, 0.23174824291449456, 0.679022351739469, 0.08883682645055624, 1.052667361471581, 0.9998979118607256, 0.9986358266011456, 0.9993165169827256, 0.9988643629963669, 0.8188534639512353, 0.058636770900827466, 0.13852937125320489, 0.5812369915544522, 0.16491591815857723, 0.01099439454390515, 0.04617645708440163, 0.8322955032075776, 1.0106445396092014, 0.8330786086755804, 1.0006338090019578, 1.0208645974922674, 0.8188534639512353, 0.9511948608086602, 0.002361128055100742, 0.0979868142866808, 0.20305701273866383, 0.001180564027550371, 0.6941716481996182, 1.0088544257570644, 0.9987546038490932, 0.8625943071785055, 1.0000406528278276, 0.04112710250798088, 0.2835725079003322, 0.007952754628615086, 0.39059386304540955, 0.276755861075805, 0.4458748912318842, 0.2026704051054019, 0.3511198966371508, 1.0000124135012929, 0.9996943304106966, 1.0008125567310664, 0.8625943071785055, 0.8322955032075776, 0.9971235603412846, 0.9908391681542597, 0.23025343109235305, 0.010398542049332073, 0.2941301893953929, 0.19192737611052912, 0.05288401385088883, 0.07605790756082888, 0.1437969814821921, 0.13471149461773105, 0.06823049727391572, 0.6543129738575507, 0.14345899426823305, 0.9989728537679924, 1.0044945728367316, 0.0010629014288135066, 0.9991273430846963, 1.0001574048453654, 0.17613089648657684, 0.823220494448131, 0.8625943071785055, 0.9983484874155123, 0.8322955032075776, 0.8145058620779563, 0.0004268259495841963, 0.11999906696881404, 0.06499949460810761, 0.8625943071785055, 0.78465027067083, 0.21554622059929915, 0.03440803283724176, 0.2080796123734922, 0.0637735091379912, 0.40325621243301873, 0.1580989784676712, 0.05279853314680201, 0.0797910416656727, 0.9999987100918957, 0.8263841308014475, 0.17383484952134007, 1.007819647939982, 1.0235668299390441, 1.0020114209311928, 0.8002897453309731, 0.19951821905758332, 1.0017002266517279, 0.04216089155448713, 0.04468891406549119, 0.18095748231993605, 0.09875597615567488, 0.23323046391843946, 0.03743104298551179, 0.15347543115192414, 0.20925502462052994, 0.12792787513048567, 0.8719889439106251, 0.17304790261813488, 0.25301955470185544, 0.5235119073379693, 0.050066286388547765, 0.0009257128551553202, 0.965518507926999, 0.03332566278559153, 0.8322955032075776, 0.8761647254431776], \"Term\": [\"abbington\", \"aboriginal\", \"aboriginal\", \"aboriginal_torres\", \"abortion\", \"abstinence\", \"abuse\", \"abuse\", \"abuse\", \"abuser\", \"access\", \"access\", \"access\", \"accommodation\", \"accuracy\", \"accuse\", \"accuse\", \"act\", \"act\", \"act\", \"act\", \"act\", \"act\", \"activist\", \"ad\", \"afford\", \"afl\", \"age\", \"age\", \"age\", \"age\", \"age\", \"aim\", \"aim\", \"airport_rail\", \"alcohol\", \"alcohol\", \"allegation\", \"allegation\", \"allegation\", \"allege\", \"allege\", \"allege\", \"allegedly\", \"alternate\", \"amendment\", \"american\", \"anger\", \"angry\", \"animal\", \"animal\", \"antisemitic\", \"archer\", \"area\", \"area\", \"area\", \"area_command\", \"arrest\", \"art\", \"artist\", \"assault\", \"assault\", \"assault\", \"assistant_commissioner\", \"assumption\", \"attitude\", \"auxiliarylieutenant\", \"average\", \"average\", \"award\", \"baby\", \"bag\", \"bail\", \"ball\", \"bank\", \"barkly_regional\", \"barness\", \"behaviour\", \"behaviour\", \"behaviour\", \"behaviour\", \"belief\", \"ben_wyatt\", \"bicton\", \"biffins\", \"bill\", \"bill\", \"bill\", \"billion\", \"bioscience\", \"biotechnology\", \"birth\", \"body\", \"body\", \"body\", \"body\", \"body\", \"bon_jovi\", \"book\", \"book\", \"boy\", \"boy\", \"brain\", \"breach\", \"breach\", \"breach\", \"break\", \"break\", \"break\", \"break\", \"break\", \"break\", \"breath\", \"brekkie\", \"british\", \"brownlowe\", \"budget\", \"build\", \"build\", \"bundaberg\", \"bureau_crime\", \"business\", \"business\", \"business\", \"caledonian\", \"call\", \"call\", \"call\", \"call\", \"call\", \"call\", \"call_policelink\", \"campaign\", \"campaign\", \"campaign\", \"campaign\", \"campaign\", \"canape\", \"candidate\", \"car\", \"car\", \"car\", \"car\", \"cardinia\", \"career\", \"career\", \"career\", \"carer\", \"case\", \"case\", \"case\", \"case\", \"case\", \"celebration\", \"central_west\", \"centre\", \"centre\", \"centre\", \"centre\", \"change\", \"change\", \"change\", \"change\", \"change\", \"change\", \"character\", \"character\", \"charge\", \"chief_executive\", \"chief_executive\", \"chief_executive\", \"chief_inspector\", \"child\", \"child\", \"christmas\", \"christmas\", \"churchgoer\", \"city\", \"city\", \"city\", \"ciu\", \"claim\", \"claim\", \"club\", \"coach\", \"coalition\", \"collective\", \"comment_bind\", \"commission\", \"commission\", \"community\", \"community\", \"communitycontrolled\", \"company\", \"company\", \"competition\", \"concern\", \"concern\", \"concern\", \"concern\", \"consent\", \"consent\", \"consternation\", \"conversation\", \"conversation\", \"conversation\", \"convict\", \"coordinate\", \"cost\", \"cost\", \"council\", \"council\", \"council\", \"council\", \"country\", \"country\", \"country\", \"country\", \"couple\", \"couple\", \"court\", \"crime\", \"crime\", \"crime_stopper\", \"crimewise\", \"crisis\", \"crisis\", \"crisp\", \"cry\", \"cueva\", \"culture\", \"culture\", \"culture\", \"custody\", \"customer\", \"dad\", \"dance\", \"daughter\", \"daughter\", \"david\", \"david\", \"david\", \"dead\", \"death\", \"death\", \"debt\", \"decision\", \"decision\", \"decision\", \"decrease\", \"defendant\", \"delay\", \"denes\", \"detection\", \"deteriorate\", \"die\", \"die\", \"dimboola\", \"diplomacy\", \"disability\", \"dislocation\", \"distinguish\", \"district\", \"district\", \"diversify\", \"divorce\", \"donate\", \"donation\", \"dr\", \"dr\", \"dr\", \"drive\", \"drive\", \"drive\", \"drive\", \"drop\", \"drop\", \"drop\", \"drought_forget\", \"drug\", \"drug\", \"dubbo\", \"duplication\", \"early_intervention\", \"eat_disorder\", \"echo\", \"editor_weekly\", \"education\", \"education\", \"educator\", \"election\", \"electioneve\", \"emergency_department\", \"emotion\", \"engagement\", \"equal\", \"equal\", \"equality\", \"equip\", \"essential\", \"eureka\", \"event\", \"event\", \"exert\", \"experience\", \"experience\", \"experience\", \"experience\", \"exposto\", \"face\", \"face\", \"face\", \"face\", \"face\", \"face\", \"faculty\", \"fairfax_medium\", \"fairway\", \"fan\", \"faq_section\", \"fatalism\", \"father\", \"fathom\", \"fd\", \"feal\", \"federal\", \"federal\", \"federico\", \"fee\", \"feel\", \"feel\", \"felt\", \"felt\", \"female\", \"female\", \"feminist\", \"festival\", \"field\", \"field\", \"field\", \"figure\", \"figure\", \"figure\", \"figure\", \"financial\", \"financial\", \"financial\", \"flicker\", \"food\", \"football\", \"force\", \"force\", \"force\", \"force\", \"force\", \"formidable\", \"fortify\", \"foundation\", \"foundation\", \"friend\", \"fund\", \"fund\", \"gamble\", \"game\", \"gamechanger\", \"gatton\", \"gender\", \"george\", \"giinagay\", \"girl\", \"girl\", \"god\", \"goldflam\", \"good\", \"good\", \"good\", \"good\", \"good\", \"government\", \"government\", \"government\", \"grab\", \"grain\", \"granddad\", \"grandmaraping\", \"grandmother\", \"great\", \"great\", \"great\", \"group\", \"group\", \"group\", \"group\", \"grumpy\", \"guitarist_richie\", \"guo\", \"halburd\", \"handsome\", \"happen\", \"happen\", \"happen\", \"happen\", \"harmon\", \"head\", \"head\", \"head\", \"head\", \"head\", \"head\", \"health\", \"health\", \"hear\", \"hear\", \"hear\", \"hear\", \"hearns\", \"heavier\", \"helpful_faq\", \"helpful_faq\", \"hilakari\", \"homanns\", \"home\", \"home\", \"home\", \"homeless\", \"homelessness\", \"honour\", \"honour\", \"horrific\", \"host\", \"host\", \"house\", \"house\", \"house\", \"house\", \"hover\", \"hub\", \"hurt\", \"imam\", \"impost\", \"inaccurate\", \"incident\", \"incident\", \"income\", \"increase\", \"increase\", \"indigenous\", \"indigenous\", \"indiscreet\", \"infrastcuture\", \"injury\", \"injury\", \"insightful\", \"inspector\", \"international_treaty\", \"intervention\", \"intervention\", \"introduce\", \"introduce\", \"islamic\", \"island\", \"island\", \"ismail\", \"issue\", \"issue\", \"issue\", \"issue\", \"item\", \"item\", \"jail\", \"job\", \"job\", \"job\", \"jobcreating\", \"jobcreation\", \"john\", \"john\", \"john\", \"john\", \"journalist\", \"judge\", \"judge\", \"judgmental\", \"justice\", \"justice\", \"justice\", \"kearns\", \"kettle\", \"keystart\", \"kid\", \"kid\", \"kill\", \"kill\", \"klestadt\", \"kneed\", \"knife\", \"koenig\", \"labor\", \"landgate\", \"lapel\", \"law\", \"law_international\", \"laziness\", \"league\", \"leave\", \"leave\", \"leave\", \"leave\", \"leave\", \"legal\", \"legal\", \"legal\", \"legal\", \"legislation\", \"letter\", \"letter\", \"lgbti\", \"liberal\", \"life\", \"life\", \"life\", \"life\", \"lifetime\", \"likeable\", \"lil\", \"lingo\", \"liquor\", \"listen\", \"listen\", \"listen\", \"listen\", \"listen\", \"live\", \"live\", \"live\", \"live\", \"live\", \"liverpool\", \"local\", \"local\", \"local\", \"local\", \"locale\", \"lodding\", \"loiero\", \"loizou\", \"longrecognised\", \"longworth\", \"lorena\", \"lorett\", \"loretto\", \"lorn\", \"louie\", \"lous\", \"louth\", \"love\", \"love\", \"love\", \"lovedale\", \"lowther\", \"lowy\", \"lr\", \"ltd_unauthorised\", \"lucia\", \"luciano\", \"lukas\", \"lulu\", \"luncheon_natasha\", \"luschwitz\", \"lynda\", \"lyndal\", \"lyndall\", \"lyndel\", \"lyndy\", \"lynley\", \"mabbutt\", \"macarthur\", \"mace\", \"macka\", \"magistrate\", \"mahalia\", \"male\", \"male\", \"male\", \"man\", \"man\", \"manninggreat_lake\", \"march\", \"march\", \"march\", \"mark_joffe\", \"market\", \"marriage\", \"marriage\", \"maryborough_rotary\", \"match\", \"match\", \"mealymouthed\", \"member\", \"member\", \"member\", \"member\", \"member\", \"memory\", \"men\", \"men\", \"menon\", \"mental_health\", \"mercy\", \"message\", \"message\", \"message\", \"message\", \"message\", \"mexico\", \"michael_salter\", \"might_experience\", \"mildura\", \"million\", \"million\", \"minister\", \"minister\", \"minister\", \"mission\", \"mixedgender\", \"mnclhds\", \"money\", \"money\", \"moree\", \"mother\", \"mother\", \"motor_vehicle\", \"mount_isa\", \"movement\", \"mp\", \"mp\", \"mp\", \"mr\", \"mr\", \"mr\", \"mr\", \"mr\", \"mr\", \"mum\", \"mungo\", \"murder\", \"murder\", \"musgroves\", \"music\", \"muslim\", \"muslimmajority\", \"natter\", \"nbc\", \"newcastle\", \"news\", \"news\", \"news\", \"news\", \"news\", \"news_alert\", \"newspaper\", \"newspaper\", \"night\", \"night\", \"night\", \"night\", \"night\", \"nixon\", \"node\", \"nondisclosure\", \"notforprofit\", \"nrl\", \"nsw\", \"nsw\", \"nsw\", \"nsw\", \"offence\", \"offence\", \"offender\", \"offender\", \"officer\", \"officer\", \"officer\", \"online_discussion\", \"operation_saturate\", \"opioids\", \"opposition\", \"oranas\", \"orange\", \"order\", \"order\", \"organisation\", \"organisation\", \"organisation\", \"outreach\", \"overwork\", \"oxycodone\", \"parent\", \"parent\", \"parent\", \"parent\", \"parent\", \"park\", \"park\", \"park\", \"park\", \"parliament\", \"participant\", \"participant\", \"partner\", \"partner\", \"partner\", \"partner\", \"partnership\", \"partway\", \"party\", \"passion\", \"pay\", \"pay\", \"peel\", \"people\", \"people\", \"people\", \"people\", \"people\", \"per_cent\", \"per_cent\", \"per_cent\", \"person\", \"person\", \"person\", \"person\", \"person\", \"perspective\", \"pertinent\", \"pethybridge\", \"physically\", \"pistorius\", \"plan\", \"plan\", \"plan\", \"plan\", \"play\", \"play\", \"play\", \"play\", \"player\", \"plead_guilty\", \"please_note\", \"pm\", \"pm\", \"police\", \"police\", \"policy\", \"policy\", \"pooch\", \"poplar\", \"porter\", \"poverty\", \"practical\", \"premiership_player\", \"prime_minister\", \"prince_highway\", \"prison\", \"prison\", \"privacy\", \"privilege\", \"proactive\", \"proactive\", \"problem_might\", \"process\", \"process\", \"process\", \"process\", \"product\", \"product\", \"production\", \"program\", \"prohibit_law\", \"propose\", \"propose\", \"prosecutor\", \"provide\", \"provide\", \"provide\", \"provide\", \"public\", \"public\", \"public\", \"public\", \"public\", \"public\", \"punch\", \"punch\", \"purchase\", \"py\", \"qld\", \"qpsm\", \"queensland\", \"queensland\", \"queensland\", \"queensland\", \"quiet\", \"rac\", \"race\", \"raise\", \"raise\", \"raise\", \"raise\", \"raise\", \"range\", \"range\", \"range\", \"rappo\", \"rasv\", \"rate\", \"rate\", \"readymade\", \"recommend\", \"recommendation\", \"record\", \"record\", \"record\", \"red_cliff\", \"reekie\", \"reeva\", \"refer_helpful\", \"refer_helpful\", \"referral\", \"reform\", \"rejuvenate\", \"rekindle\", \"relate\", \"relate\", \"relate\", \"relationship\", \"relationship\", \"relationship\", \"relationship\", \"relative\", \"release\", \"release\", \"release\", \"release\", \"religion\", \"religious\", \"rent\", \"rental\", \"repats\", \"report\", \"report\", \"report\", \"reproduction_prohibit\", \"respect\", \"respect\", \"respect\", \"respect\", \"respect\", \"respectful_relationship\", \"review\", \"rigid_gender\", \"ring\", \"rise\", \"rise\", \"rise\", \"rise\", \"roadnight\", \"robertssmith\", \"robyn_trainor\", \"rollins\", \"romance\", \"round\", \"royal_commission\", \"rugby_league\", \"run\", \"run\", \"run\", \"run\", \"run\", \"run\", \"rundell\", \"russel\", \"ryda\", \"sad\", \"safer_pathway\", \"sambora\", \"saturday\", \"saturday\", \"scar\", \"school\", \"school\", \"school\", \"school\", \"school\", \"scoreline\", \"scum\", \"season\", \"secondhand\", \"section_problem\", \"seleenas\", \"selfinflicted\", \"senate\", \"senator\", \"sentence\", \"service\", \"sex\", \"sex\", \"sex\", \"sex\", \"sexual\", \"sexual\", \"sexual\", \"sexual\", \"sexual_harassment\", \"shadlow\", \"shailaja\", \"shakeup\", \"shame\", \"share_dignity\", \"shelter\", \"shiv\", \"shoalhaven\", \"shock\", \"shock\", \"shop\", \"shop\", \"shriek\", \"sibling\", \"sieve\", \"silence\", \"sister\", \"sister\", \"site\", \"skyhigh\", \"smoothly\", \"snowy_monaro\", \"social\", \"social\", \"social\", \"society\", \"society\", \"society\", \"sociopath\", \"sofala\", \"solicitor\", \"son\", \"son\", \"song\", \"song\", \"speak\", \"speak\", \"speak\", \"speak\", \"speak\", \"spell\", \"spend\", \"spend\", \"spend\", \"spike\", \"spike\", \"spokeswoman\", \"sponsor\", \"sport\", \"sport\", \"stab\", \"staff\", \"staff\", \"staff\", \"staff\", \"stand\", \"stand\", \"stand\", \"stand\", \"standeaven\", \"stanvac\", \"star\", \"star\", \"start\", \"start\", \"start\", \"start\", \"start\", \"start\", \"state\", \"state\", \"state\", \"state\", \"statewide\", \"station\", \"station\", \"station\", \"station_aw\", \"statistic\", \"statistic\", \"statistic_research\", \"statistical\", \"stats\", \"story\", \"story\", \"story\", \"story\", \"strait_islander\", \"student\", \"student\", \"study\", \"study\", \"study\", \"subconscious\", \"subsubculture\", \"succession\", \"superintendent\", \"support\", \"support\", \"supreme_court\", \"survivor\", \"survivor\", \"swantons\", \"sydney\", \"sydney\", \"sydney\", \"sydney\", \"system\", \"system\", \"system\", \"tack\", \"takeaway_alcohol\", \"tara\", \"tara_costigan\", \"target\", \"target\", \"target\", \"tax\", \"team\", \"team\", \"team\", \"teen\", \"teenager\", \"tenant\", \"term_condition\", \"theft\", \"thirtyeight\", \"threaten\", \"threaten\", \"tobaccosmuggling\", \"tolsons\", \"toothpick\", \"tour\", \"trade\", \"tragedy\", \"tragic\", \"train\", \"train\", \"train\", \"traverse\", \"treaty_refer\", \"trend\", \"trump\", \"truth\", \"tun\", \"turn\", \"turn\", \"turn\", \"turn\", \"turn\", \"turn\", \"turnoff\", \"twobedroom\", \"tword\", \"unauthorised_reproduction\", \"underresourced\", \"underserved\", \"union_delegate\", \"unit\", \"unit\", \"unit\", \"unit\", \"unit\", \"unlock\", \"upgrade\", \"veritas\", \"vic\", \"victim\", \"victim\", \"victim\", \"victim\", \"victim\", \"victoria\", \"victoria\", \"victoria\", \"voice\", \"vote\", \"voter\", \"waax\", \"waco\", \"wagga\", \"walgett\", \"week\", \"week\", \"week\", \"week\", \"week\", \"week\", \"week\", \"weekend\", \"weekend\", \"weekend\", \"weekend\", \"wellbeing\", \"westpac\", \"white_ribbon\", \"white_ribbon\", \"wimmera\", \"win\", \"win\", \"wince\", \"winner\", \"wohlhagen\", \"woman\", \"woman\", \"woman\", \"woman\", \"woodworker\", \"word\", \"word\", \"work\", \"work\", \"work\", \"work\", \"work\", \"work\", \"work\", \"workshop\", \"world\", \"world\", \"worthless\", \"wrangle\", \"wrap_feature\", \"write\", \"write\", \"writer\", \"year\", \"year\", \"year\", \"year\", \"year\", \"year\", \"year\", \"year\", \"yearold\", \"yearold\", \"young\", \"young\", \"young\", \"young\", \"youth\", \"youth\", \"youth\", \"yuraygir\", \"zetland\"]}, \"R\": 30, \"lambda.step\": 0.01, \"plot.opts\": {\"xlab\": \"PC1\", \"ylab\": \"PC2\"}, \"topic.order\": [7, 6, 5, 2, 4, 8, 1, 3]};\n",
       "\n",
       "function LDAvis_load_lib(url, callback){\n",
       "  var s = document.createElement('script');\n",
       "  s.src = url;\n",
       "  s.async = true;\n",
       "  s.onreadystatechange = s.onload = callback;\n",
       "  s.onerror = function(){console.warn(\"failed to load library \" + url);};\n",
       "  document.getElementsByTagName(\"head\")[0].appendChild(s);\n",
       "}\n",
       "\n",
       "if(typeof(LDAvis) !== \"undefined\"){\n",
       "   // already loaded: just create the visualization\n",
       "   !function(LDAvis){\n",
       "       new LDAvis(\"#\" + \"ldavis_el43801122649387441106090018\", ldavis_el43801122649387441106090018_data);\n",
       "   }(LDAvis);\n",
       "}else if(typeof define === \"function\" && define.amd){\n",
       "   // require.js is available: use it to load d3/LDAvis\n",
       "   require.config({paths: {d3: \"https://cdnjs.cloudflare.com/ajax/libs/d3/3.5.5/d3.min\"}});\n",
       "   require([\"d3\"], function(d3){\n",
       "      window.d3 = d3;\n",
       "      LDAvis_load_lib(\"https://cdn.rawgit.com/bmabey/pyLDAvis/files/ldavis.v1.0.0.js\", function(){\n",
       "        new LDAvis(\"#\" + \"ldavis_el43801122649387441106090018\", ldavis_el43801122649387441106090018_data);\n",
       "      });\n",
       "    });\n",
       "}else{\n",
       "    // require.js not available: dynamically load d3 & LDAvis\n",
       "    LDAvis_load_lib(\"https://cdnjs.cloudflare.com/ajax/libs/d3/3.5.5/d3.min.js\", function(){\n",
       "         LDAvis_load_lib(\"https://cdn.rawgit.com/bmabey/pyLDAvis/files/ldavis.v1.0.0.js\", function(){\n",
       "                 new LDAvis(\"#\" + \"ldavis_el43801122649387441106090018\", ldavis_el43801122649387441106090018_data);\n",
       "            })\n",
       "         });\n",
       "}\n",
       "</script>"
      ],
      "text/plain": [
       "PreparedData(topic_coordinates=              x         y  topics  cluster       Freq\n",
       "topic                                                \n",
       "6     -0.034508  0.087258       1        1  13.795503\n",
       "5      0.087447 -0.202193       2        1  13.794974\n",
       "4     -0.075113 -0.213362       3        1  13.515239\n",
       "1      0.250271  0.134542       4        1  12.779127\n",
       "3      0.153646  0.065546       5        1  12.446982\n",
       "7     -0.343259  0.048830       6        1  11.954348\n",
       "0      0.030505 -0.169244       7        1  11.641639\n",
       "2     -0.068990  0.248622       8        1  10.072187, topic_info=     Category          Freq        Term         Total  loglift  logprob\n",
       "term                                                                   \n",
       "207   Default  16400.000000       woman  16400.000000  30.0000  30.0000\n",
       "187   Default  12319.000000      police  12319.000000  29.0000  29.0000\n",
       "469   Default   7493.000000     service   7493.000000  28.0000  28.0000\n",
       "29    Default   9004.000000   community   9004.000000  27.0000  27.0000\n",
       "159   Default   5890.000000       court   5890.000000  26.0000  26.0000\n",
       "424   Default   8043.000000       child   8043.000000  25.0000  25.0000\n",
       "475   Default   6031.000000     support   6031.000000  24.0000  24.0000\n",
       "180   Default   4771.000000         man   4771.000000  23.0000  23.0000\n",
       "182   Default   3763.000000         men   3763.000000  22.0000  22.0000\n",
       "95    Default  11068.000000      people  11068.000000  21.0000  21.0000\n",
       "297   Default   3354.000000       crime   3354.000000  20.0000  20.0000\n",
       "155   Default   3008.000000      charge   3008.000000  19.0000  19.0000\n",
       "390   Default   4264.000000      report   4264.000000  18.0000  18.0000\n",
       "748   Default   3031.000000     program   3031.000000  17.0000  17.0000\n",
       "84    Default   8136.000000          mr   8136.000000  16.0000  16.0000\n",
       "443   Default   5218.000000  government   5218.000000  15.0000  15.0000\n",
       "743   Default   3305.000000    per_cent   3305.000000  14.0000  14.0000\n",
       "1415  Default   3026.000000     officer   3026.000000  13.0000  13.0000\n",
       "643   Default   2328.000000         law   2328.000000  12.0000  12.0000\n",
       "173   Default   4309.000000        home   4309.000000  11.0000  11.0000\n",
       "556   Default   3855.000000       local   3855.000000  10.0000  10.0000\n",
       "54    Default   3002.000000      health   3002.000000   9.0000   9.0000\n",
       "206   Default   4400.000000      victim   4400.000000   8.0000   8.0000\n",
       "244   Default   2455.000000    increase   2455.000000   7.0000   7.0000\n",
       "83    Default   2063.000000      mother   2063.000000   6.0000   6.0000\n",
       "174   Default   2459.000000    incident   2459.000000   5.0000   5.0000\n",
       "140   Default   2212.000000     yearold   2212.000000   4.0000   4.0000\n",
       "2656  Default   2810.000000         nsw   2810.000000   3.0000   3.0000\n",
       "1799  Default   2154.000000       event   2154.000000   2.0000   2.0000\n",
       "542   Default   4054.000000       house   4054.000000   1.0000   1.0000\n",
       "...       ...           ...         ...           ...      ...      ...\n",
       "1415   Topic8   2169.589531     officer   3026.139441   1.9626  -4.2124\n",
       "187    Topic8   7305.712114      police  12319.609470   1.7729  -2.9983\n",
       "1462   Topic8    586.407697        rate    726.982768   2.0805  -5.5207\n",
       "743    Topic8   2107.737197    per_cent   3305.439304   1.8454  -4.2414\n",
       "147    Topic8   1541.550456        area   2312.645052   1.8898  -4.5542\n",
       "244    Topic8   1621.244808    increase   2455.083267   1.8804  -4.5038\n",
       "390    Topic8   2554.977145      report   4264.024604   1.7832  -4.0489\n",
       "4613   Topic8    512.660684        drop    641.261869   2.0716  -5.6551\n",
       "632    Topic8    648.260030      figure    870.420374   2.0007  -5.4204\n",
       "174    Topic8   1498.729610    incident   2459.736114   1.8000  -4.5823\n",
       "556    Topic8   2114.874005       local   3855.026212   1.6950  -4.2380\n",
       "1663   Topic8    745.796401     station   1051.076717   1.9523  -5.2803\n",
       "2444   Topic8    638.744286    offender    888.697284   1.9651  -5.4352\n",
       "2656   Topic8   1517.761097         nsw   2810.041573   1.6794  -4.5697\n",
       "3057   Topic8    555.481530      relate    755.136515   1.9883  -5.5749\n",
       "572    Topic8   1072.900086     offence   1894.663367   1.7267  -4.9166\n",
       "774    Topic8    547.155254      target    757.334666   1.9703  -5.5900\n",
       "3900   Topic8    587.597165        unit    847.052745   1.9297  -5.5187\n",
       "1695   Topic8    862.364260        drug   1613.364592   1.6690  -5.1350\n",
       "616    Topic8    463.892498     average    598.460088   2.0407  -5.7551\n",
       "901    Topic8    620.902267        rise    994.601037   1.8242  -5.4635\n",
       "139    Topic8   2565.682356        year  12262.549034   0.7311  -4.0447\n",
       "29     Topic8   1693.802353   community   9004.307358   0.6247  -4.4600\n",
       "206    Topic8   1218.015175      victim   4400.990806   1.0108  -4.7897\n",
       "673    Topic8   1008.668817       state   3908.872761   0.9408  -4.9783\n",
       "95     Topic8   1371.456540      people  11068.900091   0.2071  -4.6711\n",
       "852    Topic8    720.817574       break   1585.413437   1.5072  -5.3143\n",
       "1071   Topic8    712.491299        news   1711.170863   1.4192  -5.3260\n",
       "22     Topic8    824.301285        call   4287.355170   0.6465  -5.1802\n",
       "926    Topic8    720.817574        case   3075.854202   0.8444  -5.3143\n",
       "\n",
       "[773 rows x 6 columns], token_table=       Topic      Freq               Term\n",
       "term                                     \n",
       "19658      1  0.833079          abbington\n",
       "1961       2  0.026033         aboriginal\n",
       "1961       4  0.973868         aboriginal\n",
       "4967       4  0.998518  aboriginal_torres\n",
       "3750       1  1.000314           abortion\n",
       "30989      4  0.862594         abstinence\n",
       "684        1  0.064588              abuse\n",
       "684        2  0.502962              abuse\n",
       "684        3  0.432190              abuse\n",
       "6452       3  0.999421             abuser\n",
       "842        1  0.526766             access\n",
       "842        4  0.392201             access\n",
       "842        5  0.081145             access\n",
       "843        5  1.000835      accommodation\n",
       "19634      1  0.971925           accuracy\n",
       "289        1  0.131857             accuse\n",
       "289        6  0.868158             accuse\n",
       "141        1  0.485382                act\n",
       "141        2  0.019913                act\n",
       "141        3  0.033603                act\n",
       "141        4  0.192493                act\n",
       "141        6  0.164698                act\n",
       "141        8  0.104129                act\n",
       "1967       2  0.999251           activist\n",
       "6453       2  0.996393                 ad\n",
       "1666       5  0.998755             afford\n",
       "9413       7  0.999305                afl\n",
       "782        2  0.283306                age\n",
       "782        3  0.236088                age\n",
       "782        4  0.178322                age\n",
       "...      ...       ...                ...\n",
       "137        7  0.052799               work\n",
       "137        8  0.079791               work\n",
       "10222      4  0.999999           workshop\n",
       "138        2  0.826384              world\n",
       "138        7  0.173835              world\n",
       "21788      3  1.007820          worthless\n",
       "21773      3  1.023567            wrangle\n",
       "917        8  1.002011       wrap_feature\n",
       "410        2  0.800290              write\n",
       "410        3  0.199518              write\n",
       "4129       2  1.001700             writer\n",
       "139        1  0.042161               year\n",
       "139        2  0.044689               year\n",
       "139        3  0.180957               year\n",
       "139        4  0.098756               year\n",
       "139        5  0.233230               year\n",
       "139        6  0.037431               year\n",
       "139        7  0.153475               year\n",
       "139        8  0.209255               year\n",
       "140        3  0.127928            yearold\n",
       "140        6  0.871989            yearold\n",
       "840        2  0.173048              young\n",
       "840        3  0.253020              young\n",
       "840        4  0.523512              young\n",
       "840        7  0.050066              young\n",
       "918        1  0.000926              youth\n",
       "918        4  0.965519              youth\n",
       "918        8  0.033326              youth\n",
       "20905      5  0.832296           yuraygir\n",
       "32358      6  0.876165            zetland\n",
       "\n",
       "[1159 rows x 3 columns], R=30, lambda_step=0.01, plot_opts={'xlab': 'PC1', 'ylab': 'PC2'}, topic_order=[7, 6, 5, 2, 4, 8, 1, 3])"
      ]
     },
     "execution_count": 21,
     "metadata": {},
     "output_type": "execute_result"
    }
   ],
   "source": [
    "pyLDAvis.enable_notebook()\n",
    "model = gensim.models.wrappers.ldamallet.malletmodel2ldamodel(model_list[3])\n",
    "vis = pyLDAvis.gensim.prepare(model, corpus, id2word)\n",
    "vis"
   ]
  },
  {
   "cell_type": "code",
   "execution_count": 358,
   "metadata": {},
   "outputs": [],
   "source": [
    "pyLDAvis.save_html(vis, 'output/html/2014_13_clusters.html')"
   ]
  },
  {
   "cell_type": "markdown",
   "metadata": {},
   "source": [
    "### Find the most representative document for each topic"
   ]
  },
  {
   "cell_type": "code",
   "execution_count": 18,
   "metadata": {
    "scrolled": false
   },
   "outputs": [
    {
     "name": "stdout",
     "output_type": "stream",
     "text": [
      "[(0,\n",
      "  '0.011*\"year\" + 0.011*\"mr\" + 0.008*\"service\" + 0.006*\"play\" + 0.005*\"nsw\" + '\n",
      "  '0.005*\"game\" + 0.005*\"work\" + 0.005*\"club\" + 0.005*\"award\" + '\n",
      "  '0.004*\"community\"'),\n",
      " (1,\n",
      "  '0.029*\"service\" + 0.025*\"people\" + 0.025*\"child\" + 0.016*\"support\" + '\n",
      "  '0.014*\"health\" + 0.012*\"government\" + 0.010*\"year\" + 0.009*\"house\" + '\n",
      "  '0.009*\"program\" + 0.009*\"work\"'),\n",
      " (2,\n",
      "  '0.029*\"court\" + 0.024*\"man\" + 0.015*\"police\" + 0.014*\"charge\" + 0.014*\"mr\" '\n",
      "  '+ 0.011*\"yearold\" + 0.009*\"home\" + 0.009*\"hear\" + 0.008*\"victim\" + '\n",
      "  '0.007*\"sentence\"'),\n",
      " (3,\n",
      "  '0.058*\"police\" + 0.021*\"crime\" + 0.018*\"report\" + 0.017*\"officer\" + '\n",
      "  '0.016*\"year\" + 0.012*\"per_cent\" + 0.011*\"incident\" + 0.011*\"nsw\" + '\n",
      "  '0.011*\"victim\" + 0.010*\"increase\"'),\n",
      " (4,\n",
      "  '0.011*\"mr\" + 0.011*\"government\" + 0.009*\"law\" + 0.007*\"pay\" + 0.005*\"labor\" '\n",
      "  '+ 0.005*\"party\" + 0.005*\"state\" + 0.005*\"million\" + 0.005*\"public\" + '\n",
      "  '0.005*\"year\"'),\n",
      " (5,\n",
      "  '0.043*\"woman\" + 0.014*\"men\" + 0.011*\"abuse\" + 0.008*\"life\" + 0.007*\"feel\" + '\n",
      "  '0.007*\"live\" + 0.007*\"people\" + 0.006*\"child\" + 0.006*\"story\" + '\n",
      "  '0.006*\"happen\"'),\n",
      " (6,\n",
      "  '0.033*\"community\" + 0.023*\"woman\" + 0.015*\"people\" + 0.014*\"support\" + '\n",
      "  '0.014*\"local\" + 0.013*\"year\" + 0.013*\"school\" + 0.011*\"event\" + '\n",
      "  '0.009*\"council\" + 0.008*\"group\"')]\n"
     ]
    }
   ],
   "source": [
    "from pprint import pprint\n",
    "optimal_model = model_list[1]\n",
    "model_topics = optimal_model.show_topics(formatted=False)\n",
    "pprint(optimal_model.print_topics(num_words=10))"
   ]
  },
  {
   "cell_type": "code",
   "execution_count": null,
   "metadata": {},
   "outputs": [],
   "source": [
    "# Finding the dominant topic in each Tweet\n",
    "\n",
    "\n",
    "def format_topics_sentences(ldamodel, corpus=corpus, texts=data_filtered):\n",
    "    # Init output\n",
    "    sent_topics_df = pd.DataFrame()\n",
    "\n",
    "    # Get main topic in each document\n",
    "    for i, row in enumerate(ldamodel[corpus]):\n",
    "        row = sorted(row, key=lambda x: (x[1]), reverse=True)\n",
    "        # Get the Dominant topic, Perc Contribution and Keywords for each document\n",
    "        for j, (topic_num, prop_topic) in enumerate(row):\n",
    "            if j == 0:  # => dominant topic\n",
    "                wp = ldamodel.show_topic(topic_num)\n",
    "                topic_keywords = \", \".join([word for word, prop in wp])\n",
    "                sent_topics_df = sent_topics_df.append(pd.Series([int(topic_num), round(prop_topic,4), topic_keywords]), ignore_index=True)\n",
    "            else:\n",
    "                break\n",
    "    sent_topics_df.columns = ['Dominant_Topic', 'Perc_Contribution', 'Topic_Keywords']\n",
    "\n",
    "    # Add original text to the end of the output\n",
    "    contents = pd.Series(texts)\n",
    "    sent_topics_df = pd.concat([sent_topics_df, contents], axis=1)\n",
    "    return(sent_topics_df)"
   ]
  },
  {
   "cell_type": "code",
   "execution_count": null,
   "metadata": {
    "scrolled": true
   },
   "outputs": [],
   "source": [
    "df_topic_sents_keywords = format_topics_sentences(ldamodel=optimal_model, corpus=corpus, texts=data_filtered)\n",
    "\n",
    "# Format\n",
    "df_dominant_topic = df_topic_sents_keywords.reset_index()\n",
    "df_dominant_topic.columns = ['Document_No', 'Dominant_Topic', 'Topic_Perc_Contrib', 'Keywords', 'Text']\n",
    "\n"
   ]
  },
  {
   "cell_type": "code",
   "execution_count": null,
   "metadata": {},
   "outputs": [],
   "source": [
    "# # Show\n",
    "len(df_dominant_topic)"
   ]
  },
  {
   "cell_type": "markdown",
   "metadata": {},
   "source": [
    "### Compute dominant topic for each Tweet"
   ]
  },
  {
   "cell_type": "code",
   "execution_count": null,
   "metadata": {},
   "outputs": [],
   "source": [
    "# Group top 40 Tweets under each topic\n",
    "sent_topics_sorteddf_mallet = pd.DataFrame()\n",
    "\n",
    "sent_topics_outdf_grpd = df_dominant_topic.groupby('Dominant_Topic')\n",
    "\n",
    "for i, grp in sent_topics_outdf_grpd:\n",
    "    sent_topics_sorteddf_mallet = pd.concat([sent_topics_sorteddf_mallet, \n",
    "                                             grp.sort_values(['Topic_Perc_Contrib'], ascending=[0]).head(40)], \n",
    "                                            axis=0)\n",
    "\n",
    "# Reset Index    \n",
    "sent_topics_sorteddf_mallet.reset_index(drop=True, inplace=True)\n",
    "\n",
    "# # Format\n",
    "# sent_topics_sorteddf_mallet.columns = ['Topic_Num', \"Topic_Perc_Contrib\", \"Keywords\", \"Text\"]\n",
    "\n",
    "# Show\n",
    "sent_topics_sorteddf_mallet.head()"
   ]
  },
  {
   "cell_type": "markdown",
   "metadata": {},
   "source": [
    "## Most dominant topics and number of documents for each:"
   ]
  },
  {
   "cell_type": "code",
   "execution_count": null,
   "metadata": {},
   "outputs": [],
   "source": [
    "# Number of Documents for Each Topic\n",
    "series_topic_counts = df_topic_sents_keywords['Dominant_Topic'].value_counts()\n",
    "\n",
    "idx = []\n",
    "topic_counts = []\n",
    "keywords = []\n",
    "topic_contributions = []\n",
    "\n",
    "for (i, count) in series_topic_counts.iteritems():\n",
    "    idx.append(int(i))\n",
    "    keywords.append(\", \".join([word for word, _ in optimal_model.show_topic(int(i))]))\n",
    "    topic_counts.append(count)\n",
    "    topic_contributions.append(str(round(100*count/series_topic_counts.sum(), 2))+'%')\n",
    "    \n",
    "df_dominant_topics = pd.DataFrame.from_dict({\n",
    "    'Dominant_Topic_Num': idx,\n",
    "    'Topic_Keywords': keywords, \n",
    "    'Num_Documents': topic_counts, \n",
    "    'Perc_Documents': topic_contributions\n",
    "})\n",
    "\n",
    "# Show\n",
    "pd.options.display.max_colwidth = 100\n",
    "df_dominant_topics.set_index('Dominant_Topic_Num', inplace=True)\n",
    "df_dominant_topics"
   ]
  },
  {
   "cell_type": "markdown",
   "metadata": {},
   "source": [
    "# DF to Excel"
   ]
  },
  {
   "cell_type": "code",
   "execution_count": null,
   "metadata": {},
   "outputs": [],
   "source": [
    "from pandas import ExcelWriter\n",
    "\n",
    "writer = ExcelWriter('output/2014/data/2014_13_clusters.xlsx')\n",
    "new_df = df_dominant_topics.copy()\n",
    "new_df.index += 1\n",
    "new_df.to_excel(writer,'topic_rank')\n",
    "\n",
    "for topic_no in range(13):\n",
    "    new_df = sent_topics_sorteddf_mallet.iloc[topic_no*40:((topic_no+1)*40),[0,4]]\n",
    "    new_df.set_index('Document_No', inplace=True)\n",
    "    \n",
    "    replied_texts = []\n",
    "    for i, row in new_df.iterrows():\n",
    "        if replied_ids[indices[i]]:\n",
    "            try:\n",
    "                text = api.get_status(replied_ids[indices[i]], tweet_mode='extended').full_text\n",
    "                replied_texts.append(text)\n",
    "            except:\n",
    "                replied_texts.append('')\n",
    "        else:\n",
    "            replied_texts.append('')\n",
    "            \n",
    "    new_df['In_Reply_To'] = replied_texts\n",
    "    \n",
    "    new_df.reset_index(inplace=True)\n",
    "    new_df.drop(['Document_No'], axis=1, inplace=True)\n",
    "    new_df.to_excel(writer,'topic_'+str(topic_no+1))\n",
    "    \n",
    "writer.save()"
   ]
  }
 ],
 "metadata": {
  "kernelspec": {
   "display_name": "Python 3",
   "language": "python",
   "name": "python3"
  },
  "language_info": {
   "codemirror_mode": {
    "name": "ipython",
    "version": 3
   },
   "file_extension": ".py",
   "mimetype": "text/x-python",
   "name": "python",
   "nbconvert_exporter": "python",
   "pygments_lexer": "ipython3",
   "version": "3.7.1"
  }
 },
 "nbformat": 4,
 "nbformat_minor": 2
}
